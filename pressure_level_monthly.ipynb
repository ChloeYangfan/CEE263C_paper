{
 "cells": [
  {
   "cell_type": "code",
   "execution_count": null,
   "id": "674249a5-4375-4f52-b717-7cc2f8aae0ed",
   "metadata": {},
   "outputs": [
    {
     "name": "stderr",
     "output_type": "stream",
     "text": [
      "2023-11-24 14:53:46,915 INFO Welcome to the CDS\n",
      "2023-11-24 14:53:46,916 INFO Sending request to https://cds.climate.copernicus.eu/api/v2/resources/reanalysis-era5-pressure-levels-monthly-means\n",
      "2023-11-24 14:53:47,266 INFO Request is completed\n"
     ]
    },
    {
     "name": "stdout",
     "output_type": "stream",
     "text": [
      "100% [............................................................................] 574460 / 574460"
     ]
    },
    {
     "name": "stderr",
     "output_type": "stream",
     "text": [
      "2023-11-24 14:53:49,050 INFO Welcome to the CDS\n",
      "2023-11-24 14:53:49,052 INFO Sending request to https://cds.climate.copernicus.eu/api/v2/resources/reanalysis-era5-pressure-levels-monthly-means\n",
      "2023-11-24 14:53:49,271 INFO Request is queued\n",
      "2023-11-24 14:53:54,579 INFO Request is running\n"
     ]
    }
   ],
   "source": [
    "import cdsapi\n",
    "import wget\n",
    "c = cdsapi.Client()  # 创建用户\n",
    "from subprocess import call\n",
    "import pandas as pd\n",
    "import os\n",
    "import datetime\n",
    "\n",
    "# pyroCb events info\n",
    "csv_file_path='/Users/liuyangfan/Desktop/Stanford/pyrocast-database/pyrocb_events.csv'\n",
    "events_df = pd.read_csv(csv_file_path)\n",
    "\n",
    "# functions\n",
    "# Function to download with wget\n",
    "def Downloader(task_url, folder_path, file_name):\n",
    "    \"\"\"\n",
    "    下载器\n",
    "    :param task_url: 下载任务地址\n",
    "    :param folder_path: 存放文件夹\n",
    "    :param file_name: 文件名\n",
    "    :return:\n",
    "    \"\"\"\n",
    "    wget.download(task_url,out=folder_path+file_name)#folder_path needs '/' in the end\n",
    "\n",
    "# Function to determine the geographical area\n",
    "def determine_geographical_area(longitude, latitude):\n",
    "    # Adjusting the coordinates to the nearest 0.25 degree grid\n",
    "    north = latitude + 0.25 - (latitude % 0.25)\n",
    "    south = latitude - (latitude % 0.25)\n",
    "    if latitude % 0.25==0:\n",
    "        south=south-0.25\n",
    "    east = longitude + 0.25 - (longitude % 0.25)\n",
    "    west = longitude - (longitude % 0.25)\n",
    "    if longitude % 0.25==0:\n",
    "        west=west-0.25\n",
    "    return [north, west, south, east]\n",
    "\n",
    "    \n",
    "download_directory = '/Users/liuyangfan/Desktop/Stanford/pyrocast-database/era5/pyroCb_events_pressure_level_monthly/'\n",
    "variables=['divergence', 'fraction_of_cloud_cover', 'geopotential',\n",
    "        'ozone_mass_mixing_ratio', 'potential_vorticity', 'relative_humidity',\n",
    "        'specific_cloud_ice_water_content', 'specific_cloud_liquid_water_content', 'specific_humidity',\n",
    "        'specific_rain_water_content', 'specific_snow_water_content', 'temperature',\n",
    "        'u_component_of_wind', 'v_component_of_wind', 'vertical_velocity',\n",
    "        'vorticity',\n",
    "    ]\n",
    "p_levels=[\n",
    "                '1', '2', '3',\n",
    "                '5', '7', '10',\n",
    "                '20', '30', '50',\n",
    "                '70', '100', '125',\n",
    "                '150', '175', '200',\n",
    "                '225', '250', '300',\n",
    "                '350', '400', '450',\n",
    "                '500', '550', '600',\n",
    "                '650', '700', '750',\n",
    "                '775', '800', '825',\n",
    "                '850', '875', '900',\n",
    "                '925', '950', '975',\n",
    "                '1000',\n",
    "            ]\n",
    "############### 48 hr before and after ####################\n",
    "for index, row in events_df.iterrows():\n",
    "    # Skip rows without PyroCb time information\n",
    "    if pd.isna(row['pyroCb_time_utc']):\n",
    "        continue\n",
    "    if(int(row['pyroCb_time_utc'])>2359):\n",
    "        continue\n",
    "    # Formatting the event time\n",
    "    event_time = f\"{row['pyroCb_date_utc']} {int(row['pyroCb_time_utc']):04d}\"\n",
    "    event_datetime = datetime.datetime.strptime(event_time, '%Y-%m-%d %H%M')\n",
    "    event_datetime = datetime.datetime.strftime(event_datetime,'%Y-%m-%d %H:%M:%S')\n",
    "    # Determine the geographical area\n",
    "    area = determine_geographical_area(row['pyroCb_longitude'], row['pyroCb_latitude'])\n",
    "    # Create a directory for the event\n",
    "    event_dir = os.path.join(download_directory, str(row['pyroCb_id']))\n",
    "    if not os.path.exists(event_dir):\n",
    "        os.makedirs(event_dir)\n",
    "    r=c.retrieve(\n",
    "        'reanalysis-era5-pressure-levels-monthly-means',\n",
    "        {\n",
    "            'format': 'netcdf',\n",
    "            'product_type':  'monthly_averaged_reanalysis_by_hour_of_day',                \n",
    "            'variable': variables,\n",
    "            'pressure_level': p_levels,\n",
    "            'year':[\n",
    "                        '2018', '2019', '2020',\n",
    "                        '2021', '2022',\n",
    "                    ],#change to loop variable\n",
    "            'month': event_datetime[5:7],#change to loop variable\n",
    "            'time': [\n",
    "                        '00:00', '01:00', '02:00',\n",
    "                        '03:00', '04:00', '05:00',\n",
    "                        '06:00', '07:00', '08:00',\n",
    "                        '09:00', '10:00', '11:00',\n",
    "                        '12:00', '13:00', '14:00',\n",
    "                        '15:00', '16:00', '17:00',\n",
    "                        '18:00', '19:00', '20:00',\n",
    "                        '21:00', '22:00', '23:00',\n",
    "                    ],\n",
    "            'area': area,#change to loop variable\n",
    "        },\n",
    "        )\n",
    "\n",
    "    url = r.location  # 获取文件下载地址\n",
    "    path = event_dir+'/'  # 存放文件夹\n",
    "    filename = '24hrs.nc'  # 文件名\n",
    "    Downloader(url, path, filename)  # 添加进IDM中下载\n"
   ]
  },
  {
   "cell_type": "code",
   "execution_count": 7,
   "id": "b4eb3694-27b4-43b1-a850-e26a8fde2dc5",
   "metadata": {},
   "outputs": [
    {
     "data": {
      "text/plain": [
       "'2022-06-11 2300'"
      ]
     },
     "execution_count": 7,
     "metadata": {},
     "output_type": "execute_result"
    }
   ],
   "source": [
    "event_time"
   ]
  }
 ],
 "metadata": {
  "kernelspec": {
   "display_name": "Python 3 (ipykernel)",
   "language": "python",
   "name": "python3"
  },
  "language_info": {
   "codemirror_mode": {
    "name": "ipython",
    "version": 3
   },
   "file_extension": ".py",
   "mimetype": "text/x-python",
   "name": "python",
   "nbconvert_exporter": "python",
   "pygments_lexer": "ipython3",
   "version": "3.10.9"
  }
 },
 "nbformat": 4,
 "nbformat_minor": 5
}
