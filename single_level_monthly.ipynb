{
 "cells": [
  {
   "cell_type": "code",
   "execution_count": 2,
   "id": "3582029d-82fe-4e42-9431-50f0d7e2d4df",
   "metadata": {},
   "outputs": [
    {
     "name": "stderr",
     "output_type": "stream",
     "text": [
      "2023-11-28 21:00:38,000 INFO Welcome to the CDS\n",
      "2023-11-28 21:00:38,001 INFO Sending request to https://cds.climate.copernicus.eu/api/v2/resources/reanalysis-era5-single-levels-monthly-means\n",
      "2023-11-28 21:00:38,223 INFO Request is queued\n",
      "2023-11-28 21:00:39,426 INFO Request is running\n",
      "2023-11-28 21:03:31,408 INFO Request is completed\n"
     ]
    },
    {
     "name": "stdout",
     "output_type": "stream",
     "text": [
      " 72% [........................................................                      ] 32768 / 45104"
     ]
    },
    {
     "name": "stderr",
     "output_type": "stream",
     "text": [
      "2023-11-28 21:03:33,629 INFO Welcome to the CDS\n",
      "2023-11-28 21:03:33,630 INFO Sending request to https://cds.climate.copernicus.eu/api/v2/resources/reanalysis-era5-single-levels-monthly-means\n"
     ]
    },
    {
     "name": "stdout",
     "output_type": "stream",
     "text": [
      "100% [..............................................................................] 45104 / 45104"
     ]
    },
    {
     "name": "stderr",
     "output_type": "stream",
     "text": [
      "2023-11-28 21:03:33,889 INFO Request is queued\n",
      "2023-11-28 21:03:36,778 INFO Request is running\n",
      "2023-11-28 21:06:27,072 INFO Request is completed\n"
     ]
    },
    {
     "name": "stdout",
     "output_type": "stream",
     "text": [
      " 54% [..........................................                                    ] 24576 / 45108"
     ]
    },
    {
     "name": "stderr",
     "output_type": "stream",
     "text": [
      "2023-11-28 21:06:29,451 INFO Welcome to the CDS\n",
      "2023-11-28 21:06:29,453 INFO Sending request to https://cds.climate.copernicus.eu/api/v2/resources/reanalysis-era5-single-levels-monthly-means\n"
     ]
    },
    {
     "name": "stdout",
     "output_type": "stream",
     "text": [
      "100% [..............................................................................] 45108 / 45108"
     ]
    },
    {
     "name": "stderr",
     "output_type": "stream",
     "text": [
      "2023-11-28 21:06:29,664 INFO Request is queued\n",
      "2023-11-28 21:06:35,007 INFO Request is running\n",
      "2023-11-28 21:10:50,201 INFO Request is completed\n"
     ]
    },
    {
     "name": "stdout",
     "output_type": "stream",
     "text": [
      " 51% [........................................                                      ] 32768 / 63084"
     ]
    },
    {
     "name": "stderr",
     "output_type": "stream",
     "text": [
      "2023-11-28 21:10:52,523 INFO Welcome to the CDS\n",
      "2023-11-28 21:10:52,525 INFO Sending request to https://cds.climate.copernicus.eu/api/v2/resources/reanalysis-era5-single-levels-monthly-means\n"
     ]
    },
    {
     "name": "stdout",
     "output_type": "stream",
     "text": [
      "100% [..............................................................................] 63084 / 63084"
     ]
    },
    {
     "name": "stderr",
     "output_type": "stream",
     "text": [
      "2023-11-28 21:10:52,786 INFO Request is queued\n",
      "2023-11-28 21:10:55,679 INFO Request is running\n",
      "2023-11-28 21:15:13,687 INFO Request is completed\n"
     ]
    },
    {
     "name": "stdout",
     "output_type": "stream",
     "text": [
      " 51% [........................................                                      ] 32768 / 63088"
     ]
    },
    {
     "name": "stderr",
     "output_type": "stream",
     "text": [
      "2023-11-28 21:15:16,205 INFO Welcome to the CDS\n",
      "2023-11-28 21:15:16,206 INFO Sending request to https://cds.climate.copernicus.eu/api/v2/resources/reanalysis-era5-single-levels-monthly-means\n"
     ]
    },
    {
     "name": "stdout",
     "output_type": "stream",
     "text": [
      "100% [..............................................................................] 63088 / 63088"
     ]
    },
    {
     "name": "stderr",
     "output_type": "stream",
     "text": [
      "2023-11-28 21:15:16,440 INFO Request is queued\n",
      "2023-11-28 21:15:17,634 INFO Request is running\n",
      "2023-11-28 21:19:36,795 INFO Request is completed\n"
     ]
    },
    {
     "name": "stdout",
     "output_type": "stream",
     "text": [
      " 51% [........................................                                      ] 32768 / 63088"
     ]
    },
    {
     "name": "stderr",
     "output_type": "stream",
     "text": [
      "2023-11-28 21:19:39,098 INFO Welcome to the CDS\n",
      "2023-11-28 21:19:39,100 INFO Sending request to https://cds.climate.copernicus.eu/api/v2/resources/reanalysis-era5-single-levels-monthly-means\n"
     ]
    },
    {
     "name": "stdout",
     "output_type": "stream",
     "text": [
      "100% [..............................................................................] 63088 / 63088"
     ]
    },
    {
     "name": "stderr",
     "output_type": "stream",
     "text": [
      "2023-11-28 21:19:39,340 INFO Request is queued\n",
      "2023-11-28 21:19:42,229 INFO Request is running\n",
      "2023-11-28 21:22:32,488 INFO Request is completed\n"
     ]
    },
    {
     "name": "stdout",
     "output_type": "stream",
     "text": [
      " 72% [........................................................                      ] 32768 / 45104"
     ]
    },
    {
     "name": "stderr",
     "output_type": "stream",
     "text": [
      "2023-11-28 21:22:34,816 INFO Welcome to the CDS\n",
      "2023-11-28 21:22:34,818 INFO Sending request to https://cds.climate.copernicus.eu/api/v2/resources/reanalysis-era5-single-levels-monthly-means\n"
     ]
    },
    {
     "name": "stdout",
     "output_type": "stream",
     "text": [
      "100% [..............................................................................] 45104 / 45104"
     ]
    },
    {
     "name": "stderr",
     "output_type": "stream",
     "text": [
      "2023-11-28 21:22:35,039 INFO Request is queued\n",
      "2023-11-28 21:22:40,371 INFO Request is running\n",
      "2023-11-28 21:25:28,200 INFO Request is completed\n"
     ]
    },
    {
     "name": "stdout",
     "output_type": "stream",
     "text": [
      " 72% [........................................................                      ] 32768 / 45104"
     ]
    },
    {
     "name": "stderr",
     "output_type": "stream",
     "text": [
      "2023-11-28 21:25:31,456 INFO Welcome to the CDS\n",
      "2023-11-28 21:25:31,458 INFO Sending request to https://cds.climate.copernicus.eu/api/v2/resources/reanalysis-era5-single-levels-monthly-means\n"
     ]
    },
    {
     "name": "stdout",
     "output_type": "stream",
     "text": [
      "100% [..............................................................................] 45104 / 45104"
     ]
    },
    {
     "name": "stderr",
     "output_type": "stream",
     "text": [
      "2023-11-28 21:25:31,724 INFO Request is queued\n",
      "2023-11-28 21:25:40,890 INFO Request is running\n",
      "2023-11-28 21:28:25,609 INFO Request is completed\n"
     ]
    },
    {
     "name": "stdout",
     "output_type": "stream",
     "text": [
      " 90% [......................................................................        ] 81920 / 90120"
     ]
    },
    {
     "name": "stderr",
     "output_type": "stream",
     "text": [
      "2023-11-28 21:28:28,233 INFO Welcome to the CDS\n",
      "2023-11-28 21:28:28,234 INFO Sending request to https://cds.climate.copernicus.eu/api/v2/resources/reanalysis-era5-single-levels-monthly-means\n"
     ]
    },
    {
     "name": "stdout",
     "output_type": "stream",
     "text": [
      "100% [..............................................................................] 90120 / 90120"
     ]
    },
    {
     "name": "stderr",
     "output_type": "stream",
     "text": [
      "2023-11-28 21:28:28,427 INFO Request is queued\n",
      "2023-11-28 21:28:42,590 INFO Request is running\n",
      "2023-11-28 21:31:21,642 INFO Request is completed\n"
     ]
    },
    {
     "name": "stdout",
     "output_type": "stream",
     "text": [
      " 72% [........................................................                      ] 32768 / 45104"
     ]
    },
    {
     "name": "stderr",
     "output_type": "stream",
     "text": [
      "2023-11-28 21:31:23,244 INFO Welcome to the CDS\n",
      "2023-11-28 21:31:23,245 INFO Sending request to https://cds.climate.copernicus.eu/api/v2/resources/reanalysis-era5-single-levels-monthly-means\n"
     ]
    },
    {
     "name": "stdout",
     "output_type": "stream",
     "text": [
      "100% [..............................................................................] 45104 / 45104"
     ]
    },
    {
     "name": "stderr",
     "output_type": "stream",
     "text": [
      "2023-11-28 21:31:23,496 INFO Request is queued\n",
      "2023-11-28 21:31:24,699 INFO Request is running\n",
      "2023-11-28 21:34:16,674 INFO Request is completed\n"
     ]
    },
    {
     "name": "stdout",
     "output_type": "stream",
     "text": [
      " 36% [............................                                                  ] 32768 / 90116"
     ]
    },
    {
     "name": "stderr",
     "output_type": "stream",
     "text": [
      "2023-11-28 21:34:19,704 INFO Welcome to the CDS\n",
      "2023-11-28 21:34:19,705 INFO Sending request to https://cds.climate.copernicus.eu/api/v2/resources/reanalysis-era5-single-levels-monthly-means\n"
     ]
    },
    {
     "name": "stdout",
     "output_type": "stream",
     "text": [
      "100% [..............................................................................] 90116 / 90116"
     ]
    },
    {
     "name": "stderr",
     "output_type": "stream",
     "text": [
      "2023-11-28 21:34:19,922 INFO Request is queued\n",
      "2023-11-28 21:34:53,481 INFO Request is running\n",
      "2023-11-28 21:37:13,106 INFO Request is completed\n"
     ]
    },
    {
     "name": "stdout",
     "output_type": "stream",
     "text": [
      " 72% [........................................................                      ] 32768 / 45104"
     ]
    },
    {
     "name": "stderr",
     "output_type": "stream",
     "text": [
      "2023-11-28 21:37:15,418 INFO Welcome to the CDS\n",
      "2023-11-28 21:37:15,419 INFO Sending request to https://cds.climate.copernicus.eu/api/v2/resources/reanalysis-era5-single-levels-monthly-means\n"
     ]
    },
    {
     "name": "stdout",
     "output_type": "stream",
     "text": [
      "100% [..............................................................................] 45104 / 45104"
     ]
    },
    {
     "name": "stderr",
     "output_type": "stream",
     "text": [
      "2023-11-28 21:37:15,637 INFO Request is queued\n",
      "2023-11-28 21:37:18,537 INFO Request is running\n",
      "2023-11-28 21:40:08,807 INFO Request is completed\n"
     ]
    },
    {
     "name": "stdout",
     "output_type": "stream",
     "text": [
      "100% [..............................................................................] 45104 / 45104"
     ]
    },
    {
     "name": "stderr",
     "output_type": "stream",
     "text": [
      "2023-11-28 21:40:11,424 INFO Welcome to the CDS\n",
      "2023-11-28 21:40:11,426 INFO Sending request to https://cds.climate.copernicus.eu/api/v2/resources/reanalysis-era5-single-levels-monthly-means\n",
      "2023-11-28 21:40:11,663 INFO Request is queued\n",
      "2023-11-28 21:40:14,559 INFO Request is running\n",
      "2023-11-28 21:44:32,477 INFO Request is completed\n"
     ]
    },
    {
     "name": "stdout",
     "output_type": "stream",
     "text": [
      " 36% [............................                                                  ] 32768 / 90120"
     ]
    },
    {
     "name": "stderr",
     "output_type": "stream",
     "text": [
      "2023-11-28 21:44:34,183 INFO Welcome to the CDS\n",
      "2023-11-28 21:44:34,185 INFO Sending request to https://cds.climate.copernicus.eu/api/v2/resources/reanalysis-era5-single-levels-monthly-means\n"
     ]
    },
    {
     "name": "stdout",
     "output_type": "stream",
     "text": [
      "100% [..............................................................................] 90120 / 90120"
     ]
    },
    {
     "name": "stderr",
     "output_type": "stream",
     "text": [
      "2023-11-28 21:44:34,387 INFO Request is queued\n",
      "2023-11-28 21:44:40,120 INFO Request is running\n",
      "2023-11-28 21:47:27,933 INFO Request is completed\n"
     ]
    },
    {
     "name": "stdout",
     "output_type": "stream",
     "text": [
      " 51% [........................................                                      ] 32768 / 63088"
     ]
    },
    {
     "name": "stderr",
     "output_type": "stream",
     "text": [
      "2023-11-28 21:47:30,045 INFO Welcome to the CDS\n",
      "2023-11-28 21:47:30,046 INFO Sending request to https://cds.climate.copernicus.eu/api/v2/resources/reanalysis-era5-single-levels-monthly-means\n"
     ]
    },
    {
     "name": "stdout",
     "output_type": "stream",
     "text": [
      "100% [..............................................................................] 63088 / 63088"
     ]
    },
    {
     "name": "stderr",
     "output_type": "stream",
     "text": [
      "2023-11-28 21:47:30,283 INFO Request is queued\n",
      "2023-11-28 21:47:31,480 INFO Request is running\n",
      "2023-11-28 21:50:23,528 INFO Request is completed\n"
     ]
    },
    {
     "name": "stdout",
     "output_type": "stream",
     "text": [
      " 72% [........................................................                      ] 32768 / 45100"
     ]
    },
    {
     "name": "stderr",
     "output_type": "stream",
     "text": [
      "2023-11-28 21:50:25,246 INFO Welcome to the CDS\n",
      "2023-11-28 21:50:25,248 INFO Sending request to https://cds.climate.copernicus.eu/api/v2/resources/reanalysis-era5-single-levels-monthly-means\n"
     ]
    },
    {
     "name": "stdout",
     "output_type": "stream",
     "text": [
      "100% [..............................................................................] 45100 / 45100"
     ]
    },
    {
     "name": "stderr",
     "output_type": "stream",
     "text": [
      "2023-11-28 21:50:25,439 INFO Request is queued\n",
      "2023-11-28 21:50:26,639 INFO Request is running\n",
      "2023-11-28 21:53:18,641 INFO Request is completed\n"
     ]
    },
    {
     "name": "stdout",
     "output_type": "stream",
     "text": [
      " 72% [........................................................                      ] 32768 / 45104"
     ]
    },
    {
     "name": "stderr",
     "output_type": "stream",
     "text": [
      "2023-11-28 21:53:20,086 INFO Welcome to the CDS\n",
      "2023-11-28 21:53:20,088 INFO Sending request to https://cds.climate.copernicus.eu/api/v2/resources/reanalysis-era5-single-levels-monthly-means\n"
     ]
    },
    {
     "name": "stdout",
     "output_type": "stream",
     "text": [
      " 72% [........................................................                      ] 32768 / 45104"
     ]
    },
    {
     "name": "stderr",
     "output_type": "stream",
     "text": [
      "2023-11-28 21:53:21,811 INFO Welcome to the CDS\n",
      "2023-11-28 21:53:21,812 INFO Sending request to https://cds.climate.copernicus.eu/api/v2/resources/reanalysis-era5-single-levels-monthly-means\n"
     ]
    },
    {
     "name": "stdout",
     "output_type": "stream",
     "text": [
      "100% [..............................................................................] 45104 / 45104"
     ]
    },
    {
     "name": "stderr",
     "output_type": "stream",
     "text": [
      "2023-11-28 21:53:22,034 INFO Request is queued\n",
      "2023-11-28 21:53:23,230 INFO Request is running\n",
      "2023-11-28 21:56:15,203 INFO Request is completed\n"
     ]
    },
    {
     "name": "stdout",
     "output_type": "stream",
     "text": [
      " 54% [..........................................                                    ] 24576 / 45104"
     ]
    },
    {
     "name": "stderr",
     "output_type": "stream",
     "text": [
      "2023-11-28 21:56:16,657 INFO Welcome to the CDS\n",
      "2023-11-28 21:56:16,658 INFO Sending request to https://cds.climate.copernicus.eu/api/v2/resources/reanalysis-era5-single-levels-monthly-means\n"
     ]
    },
    {
     "name": "stdout",
     "output_type": "stream",
     "text": [
      "100% [..............................................................................] 45104 / 45104"
     ]
    },
    {
     "name": "stderr",
     "output_type": "stream",
     "text": [
      "2023-11-28 21:56:16,859 INFO Request is queued\n",
      "2023-11-28 21:56:18,056 INFO Request is running\n",
      "2023-11-28 21:59:10,039 INFO Request is completed\n"
     ]
    },
    {
     "name": "stdout",
     "output_type": "stream",
     "text": [
      " 38% [..............................                                                ] 24576 / 63088"
     ]
    },
    {
     "name": "stderr",
     "output_type": "stream",
     "text": [
      "2023-11-28 21:59:12,297 INFO Welcome to the CDS\n",
      "2023-11-28 21:59:12,298 INFO Sending request to https://cds.climate.copernicus.eu/api/v2/resources/reanalysis-era5-single-levels-monthly-means\n"
     ]
    },
    {
     "name": "stdout",
     "output_type": "stream",
     "text": [
      "100% [..............................................................................] 63088 / 63088"
     ]
    },
    {
     "name": "stderr",
     "output_type": "stream",
     "text": [
      "2023-11-28 21:59:12,544 INFO Request is queued\n",
      "2023-11-28 21:59:13,743 INFO Request is running\n",
      "2023-11-28 22:02:05,746 INFO Request is completed\n"
     ]
    },
    {
     "name": "stdout",
     "output_type": "stream",
     "text": [
      " 54% [..........................................                                    ] 24576 / 45104"
     ]
    },
    {
     "name": "stderr",
     "output_type": "stream",
     "text": [
      "2023-11-28 22:02:07,451 INFO Welcome to the CDS\n",
      "2023-11-28 22:02:07,453 INFO Sending request to https://cds.climate.copernicus.eu/api/v2/resources/reanalysis-era5-single-levels-monthly-means\n"
     ]
    },
    {
     "name": "stdout",
     "output_type": "stream",
     "text": [
      "100% [..............................................................................] 45104 / 45104"
     ]
    },
    {
     "name": "stderr",
     "output_type": "stream",
     "text": [
      "2023-11-28 22:02:07,682 INFO Request is queued\n",
      "2023-11-28 22:02:41,278 INFO Request is running\n",
      "2023-11-28 22:05:01,474 INFO Request is completed\n"
     ]
    },
    {
     "name": "stdout",
     "output_type": "stream",
     "text": [
      " 51% [........................................                                      ] 32768 / 63092"
     ]
    },
    {
     "name": "stderr",
     "output_type": "stream",
     "text": [
      "2023-11-28 22:05:03,207 INFO Welcome to the CDS\n",
      "2023-11-28 22:05:03,209 INFO Sending request to https://cds.climate.copernicus.eu/api/v2/resources/reanalysis-era5-single-levels-monthly-means\n"
     ]
    },
    {
     "name": "stdout",
     "output_type": "stream",
     "text": [
      "100% [..............................................................................] 63092 / 63092"
     ]
    },
    {
     "name": "stderr",
     "output_type": "stream",
     "text": [
      "2023-11-28 22:05:03,458 INFO Request is queued\n",
      "2023-11-28 22:05:17,658 INFO Request is running\n",
      "2023-11-28 22:07:56,659 INFO Request is completed\n"
     ]
    },
    {
     "name": "stdout",
     "output_type": "stream",
     "text": [
      " 51% [........................................                                      ] 32768 / 63092"
     ]
    },
    {
     "name": "stderr",
     "output_type": "stream",
     "text": [
      "2023-11-28 22:07:58,356 INFO Welcome to the CDS\n",
      "2023-11-28 22:07:58,358 INFO Sending request to https://cds.climate.copernicus.eu/api/v2/resources/reanalysis-era5-single-levels-monthly-means\n"
     ]
    },
    {
     "name": "stdout",
     "output_type": "stream",
     "text": [
      "100% [..............................................................................] 63092 / 63092"
     ]
    },
    {
     "name": "stderr",
     "output_type": "stream",
     "text": [
      "2023-11-28 22:07:58,577 INFO Request is queued\n",
      "2023-11-28 22:07:59,778 INFO Request is running\n",
      "2023-11-28 22:10:51,773 INFO Request is completed\n"
     ]
    },
    {
     "name": "stdout",
     "output_type": "stream",
     "text": [
      "100% [..............................................................................] 45104 / 45104"
     ]
    },
    {
     "name": "stderr",
     "output_type": "stream",
     "text": [
      "2023-11-28 22:10:53,875 INFO Welcome to the CDS\n",
      "2023-11-28 22:10:53,876 INFO Sending request to https://cds.climate.copernicus.eu/api/v2/resources/reanalysis-era5-single-levels-monthly-means\n",
      "2023-11-28 22:10:54,117 INFO Request is queued\n",
      "2023-11-28 22:11:16,100 INFO Request is running\n",
      "2023-11-28 22:13:47,328 INFO Request is completed\n"
     ]
    },
    {
     "name": "stdout",
     "output_type": "stream",
     "text": [
      " 72% [........................................................                      ] 32768 / 45104"
     ]
    },
    {
     "name": "stderr",
     "output_type": "stream",
     "text": [
      "2023-11-28 22:13:49,035 INFO Welcome to the CDS\n",
      "2023-11-28 22:13:49,037 INFO Sending request to https://cds.climate.copernicus.eu/api/v2/resources/reanalysis-era5-single-levels-monthly-means\n"
     ]
    },
    {
     "name": "stdout",
     "output_type": "stream",
     "text": [
      "100% [..............................................................................] 45104 / 45104"
     ]
    },
    {
     "name": "stderr",
     "output_type": "stream",
     "text": [
      "2023-11-28 22:13:49,339 INFO Request is queued\n",
      "2023-11-28 22:14:40,197 INFO Request is running\n",
      "2023-11-28 22:18:09,895 INFO Request is completed\n"
     ]
    },
    {
     "name": "stdout",
     "output_type": "stream",
     "text": [
      " 54% [..........................................                                    ] 24576 / 45104"
     ]
    },
    {
     "name": "stderr",
     "output_type": "stream",
     "text": [
      "2023-11-28 22:18:11,370 INFO Welcome to the CDS\n",
      "2023-11-28 22:18:11,372 INFO Sending request to https://cds.climate.copernicus.eu/api/v2/resources/reanalysis-era5-single-levels-monthly-means\n"
     ]
    },
    {
     "name": "stdout",
     "output_type": "stream",
     "text": [
      "100% [..............................................................................] 45104 / 45104"
     ]
    },
    {
     "name": "stderr",
     "output_type": "stream",
     "text": [
      "2023-11-28 22:18:11,603 INFO Request is queued\n",
      "2023-11-28 22:18:16,952 INFO Request is running\n",
      "2023-11-28 22:22:32,081 INFO Request is completed\n"
     ]
    },
    {
     "name": "stdout",
     "output_type": "stream",
     "text": [
      " 72% [........................................................                      ] 32768 / 45104"
     ]
    },
    {
     "name": "stderr",
     "output_type": "stream",
     "text": [
      "2023-11-28 22:22:33,910 INFO Welcome to the CDS\n",
      "2023-11-28 22:22:33,912 INFO Sending request to https://cds.climate.copernicus.eu/api/v2/resources/reanalysis-era5-single-levels-monthly-means\n"
     ]
    },
    {
     "name": "stdout",
     "output_type": "stream",
     "text": [
      "100% [..............................................................................] 45104 / 45104"
     ]
    },
    {
     "name": "stderr",
     "output_type": "stream",
     "text": [
      "2023-11-28 22:22:34,209 INFO Request is queued\n",
      "2023-11-28 22:22:39,548 INFO Request is running\n",
      "2023-11-28 22:25:27,362 INFO Request is completed\n"
     ]
    },
    {
     "name": "stdout",
     "output_type": "stream",
     "text": [
      " 72% [........................................................                      ] 32768 / 45104"
     ]
    },
    {
     "name": "stderr",
     "output_type": "stream",
     "text": [
      "2023-11-28 22:25:30,672 INFO Welcome to the CDS\n",
      "2023-11-28 22:25:30,673 INFO Sending request to https://cds.climate.copernicus.eu/api/v2/resources/reanalysis-era5-single-levels-monthly-means\n"
     ]
    },
    {
     "name": "stdout",
     "output_type": "stream",
     "text": [
      " 72% [........................................................                      ] 32768 / 45104"
     ]
    },
    {
     "name": "stderr",
     "output_type": "stream",
     "text": [
      "2023-11-28 22:25:32,364 INFO Welcome to the CDS\n",
      "2023-11-28 22:25:32,366 INFO Sending request to https://cds.climate.copernicus.eu/api/v2/resources/reanalysis-era5-single-levels-monthly-means\n"
     ]
    },
    {
     "name": "stdout",
     "output_type": "stream",
     "text": [
      "100% [..............................................................................] 45104 / 45104"
     ]
    },
    {
     "name": "stderr",
     "output_type": "stream",
     "text": [
      "2023-11-28 22:25:32,607 INFO Request is queued\n",
      "2023-11-28 22:25:33,807 INFO Request is running\n",
      "2023-11-28 22:28:25,784 INFO Request is completed\n"
     ]
    },
    {
     "name": "stdout",
     "output_type": "stream",
     "text": [
      " 54% [..........................................                                    ] 24576 / 45108"
     ]
    },
    {
     "name": "stderr",
     "output_type": "stream",
     "text": [
      "2023-11-28 22:28:27,246 INFO Welcome to the CDS\n",
      "2023-11-28 22:28:27,248 INFO Sending request to https://cds.climate.copernicus.eu/api/v2/resources/reanalysis-era5-single-levels-monthly-means\n"
     ]
    },
    {
     "name": "stdout",
     "output_type": "stream",
     "text": [
      "100% [..............................................................................] 45108 / 45108"
     ]
    },
    {
     "name": "stderr",
     "output_type": "stream",
     "text": [
      "2023-11-28 22:28:27,457 INFO Request is queued\n",
      "2023-11-28 22:28:32,798 INFO Request is running\n",
      "2023-11-28 22:32:47,895 INFO Request is completed\n"
     ]
    },
    {
     "name": "stdout",
     "output_type": "stream",
     "text": [
      " 51% [........................................                                      ] 32768 / 63088"
     ]
    },
    {
     "name": "stderr",
     "output_type": "stream",
     "text": [
      "2023-11-28 22:32:50,854 INFO Welcome to the CDS\n",
      "2023-11-28 22:32:50,855 INFO Sending request to https://cds.climate.copernicus.eu/api/v2/resources/reanalysis-era5-single-levels-monthly-means\n"
     ]
    },
    {
     "name": "stdout",
     "output_type": "stream",
     "text": [
      "100% [..............................................................................] 63088 / 63088"
     ]
    },
    {
     "name": "stderr",
     "output_type": "stream",
     "text": [
      "2023-11-28 22:32:51,131 INFO Request is queued\n",
      "2023-11-28 22:32:54,036 INFO Request is running\n",
      "2023-11-28 22:35:44,341 INFO Request is completed\n"
     ]
    },
    {
     "name": "stdout",
     "output_type": "stream",
     "text": [
      " 72% [........................................................                      ] 32768 / 45108"
     ]
    },
    {
     "name": "stderr",
     "output_type": "stream",
     "text": [
      "2023-11-28 22:35:47,322 INFO Welcome to the CDS\n",
      "2023-11-28 22:35:47,324 INFO Sending request to https://cds.climate.copernicus.eu/api/v2/resources/reanalysis-era5-single-levels-monthly-means\n"
     ]
    },
    {
     "name": "stdout",
     "output_type": "stream",
     "text": [
      "100% [..............................................................................] 45108 / 45108"
     ]
    },
    {
     "name": "stderr",
     "output_type": "stream",
     "text": [
      "2023-11-28 22:35:47,569 INFO Request is queued\n",
      "2023-11-28 22:35:56,500 INFO Request is running\n",
      "2023-11-28 22:40:08,042 INFO Request is completed\n"
     ]
    },
    {
     "name": "stdout",
     "output_type": "stream",
     "text": [
      " 51% [........................................                                      ] 32768 / 63088"
     ]
    },
    {
     "name": "stderr",
     "output_type": "stream",
     "text": [
      "2023-11-28 22:40:09,728 INFO Welcome to the CDS\n",
      "2023-11-28 22:40:09,730 INFO Sending request to https://cds.climate.copernicus.eu/api/v2/resources/reanalysis-era5-single-levels-monthly-means\n"
     ]
    },
    {
     "name": "stdout",
     "output_type": "stream",
     "text": [
      "100% [..............................................................................] 63088 / 63088"
     ]
    },
    {
     "name": "stderr",
     "output_type": "stream",
     "text": [
      "2023-11-28 22:40:09,982 INFO Request is queued\n",
      "2023-11-28 22:40:12,873 INFO Request is running\n",
      "2023-11-28 22:43:03,213 INFO Request is completed\n"
     ]
    },
    {
     "name": "stdout",
     "output_type": "stream",
     "text": [
      " 72% [........................................................                      ] 32768 / 45104"
     ]
    },
    {
     "name": "stderr",
     "output_type": "stream",
     "text": [
      "2023-11-28 22:43:05,543 INFO Welcome to the CDS\n",
      "2023-11-28 22:43:05,544 INFO Sending request to https://cds.climate.copernicus.eu/api/v2/resources/reanalysis-era5-single-levels-monthly-means\n"
     ]
    },
    {
     "name": "stdout",
     "output_type": "stream",
     "text": [
      "100% [..............................................................................] 45104 / 45104"
     ]
    },
    {
     "name": "stderr",
     "output_type": "stream",
     "text": [
      "2023-11-28 22:43:05,807 INFO Request is queued\n",
      "2023-11-28 22:45:58,983 INFO Request is running\n",
      "2023-11-28 22:49:26,994 INFO Request is completed\n"
     ]
    },
    {
     "name": "stdout",
     "output_type": "stream",
     "text": [
      " 51% [........................................                                      ] 32768 / 63088"
     ]
    },
    {
     "name": "stderr",
     "output_type": "stream",
     "text": [
      "2023-11-28 22:49:32,026 INFO Welcome to the CDS\n",
      "2023-11-28 22:49:32,028 INFO Sending request to https://cds.climate.copernicus.eu/api/v2/resources/reanalysis-era5-single-levels-monthly-means\n"
     ]
    },
    {
     "name": "stdout",
     "output_type": "stream",
     "text": [
      "100% [..............................................................................] 63088 / 63088"
     ]
    },
    {
     "name": "stderr",
     "output_type": "stream",
     "text": [
      "2023-11-28 22:49:32,265 INFO Request is queued\n",
      "2023-11-28 22:50:05,818 INFO Request is running\n",
      "2023-11-28 22:52:25,443 INFO Request is completed\n"
     ]
    },
    {
     "name": "stdout",
     "output_type": "stream",
     "text": [
      " 72% [........................................................                      ] 32768 / 45104"
     ]
    },
    {
     "name": "stderr",
     "output_type": "stream",
     "text": [
      "2023-11-28 22:52:30,880 INFO Welcome to the CDS\n",
      "2023-11-28 22:52:30,882 INFO Sending request to https://cds.climate.copernicus.eu/api/v2/resources/reanalysis-era5-single-levels-monthly-means\n"
     ]
    },
    {
     "name": "stdout",
     "output_type": "stream",
     "text": [
      "100% [..............................................................................] 45104 / 45104"
     ]
    },
    {
     "name": "stderr",
     "output_type": "stream",
     "text": [
      "2023-11-28 22:52:31,087 INFO Request is queued\n",
      "2023-11-28 22:52:40,017 INFO Request is running\n",
      "2023-11-28 22:55:24,307 INFO Request is completed\n"
     ]
    },
    {
     "name": "stdout",
     "output_type": "stream",
     "text": [
      " 72% [........................................................                      ] 32768 / 45104"
     ]
    },
    {
     "name": "stderr",
     "output_type": "stream",
     "text": [
      "2023-11-28 22:55:26,959 INFO Welcome to the CDS\n",
      "2023-11-28 22:55:26,961 INFO Sending request to https://cds.climate.copernicus.eu/api/v2/resources/reanalysis-era5-single-levels-monthly-means\n"
     ]
    },
    {
     "name": "stdout",
     "output_type": "stream",
     "text": [
      "100% [..............................................................................] 45104 / 45104"
     ]
    },
    {
     "name": "stderr",
     "output_type": "stream",
     "text": [
      "2023-11-28 22:55:27,204 INFO Request is queued\n",
      "2023-11-28 22:55:30,107 INFO Request is running\n",
      "2023-11-28 22:58:20,429 INFO Request is completed\n"
     ]
    },
    {
     "name": "stdout",
     "output_type": "stream",
     "text": [
      " 72% [........................................................                      ] 32768 / 45104"
     ]
    },
    {
     "name": "stderr",
     "output_type": "stream",
     "text": [
      "2023-11-28 22:58:22,577 INFO Welcome to the CDS\n",
      "2023-11-28 22:58:22,579 INFO Sending request to https://cds.climate.copernicus.eu/api/v2/resources/reanalysis-era5-single-levels-monthly-means\n"
     ]
    },
    {
     "name": "stdout",
     "output_type": "stream",
     "text": [
      "100% [..............................................................................] 45104 / 45104"
     ]
    },
    {
     "name": "stderr",
     "output_type": "stream",
     "text": [
      "2023-11-28 22:58:22,822 INFO Request is queued\n",
      "2023-11-28 23:02:43,250 INFO Request is running\n",
      "2023-11-28 23:06:45,171 INFO Request is completed\n"
     ]
    },
    {
     "name": "stdout",
     "output_type": "stream",
     "text": [
      " 72% [........................................................                      ] 32768 / 45104"
     ]
    },
    {
     "name": "stderr",
     "output_type": "stream",
     "text": [
      "2023-11-28 23:06:46,614 INFO Welcome to the CDS\n",
      "2023-11-28 23:06:46,616 INFO Sending request to https://cds.climate.copernicus.eu/api/v2/resources/reanalysis-era5-single-levels-monthly-means\n"
     ]
    },
    {
     "name": "stdout",
     "output_type": "stream",
     "text": [
      "100% [..............................................................................] 45104 / 45104"
     ]
    },
    {
     "name": "stderr",
     "output_type": "stream",
     "text": [
      "2023-11-28 23:06:46,831 INFO Request is queued\n",
      "2023-11-28 23:06:48,035 INFO Request is running\n",
      "2023-11-28 23:09:40,018 INFO Request is completed\n"
     ]
    },
    {
     "name": "stdout",
     "output_type": "stream",
     "text": [
      " 72% [........................................................                      ] 32768 / 45104"
     ]
    },
    {
     "name": "stderr",
     "output_type": "stream",
     "text": [
      "2023-11-28 23:09:44,100 INFO Welcome to the CDS\n",
      "2023-11-28 23:09:44,101 INFO Sending request to https://cds.climate.copernicus.eu/api/v2/resources/reanalysis-era5-single-levels-monthly-means\n"
     ]
    },
    {
     "name": "stdout",
     "output_type": "stream",
     "text": [
      "100% [..............................................................................] 45104 / 45104"
     ]
    },
    {
     "name": "stderr",
     "output_type": "stream",
     "text": [
      "2023-11-28 23:09:44,330 INFO Request is queued\n",
      "2023-11-28 23:09:45,525 INFO Request is running\n",
      "2023-11-28 23:12:37,513 INFO Request is completed\n"
     ]
    },
    {
     "name": "stdout",
     "output_type": "stream",
     "text": [
      " 72% [........................................................                      ] 32768 / 45104"
     ]
    },
    {
     "name": "stderr",
     "output_type": "stream",
     "text": [
      "2023-11-28 23:12:38,973 INFO Welcome to the CDS\n",
      "2023-11-28 23:12:38,975 INFO Sending request to https://cds.climate.copernicus.eu/api/v2/resources/reanalysis-era5-single-levels-monthly-means\n"
     ]
    },
    {
     "name": "stdout",
     "output_type": "stream",
     "text": [
      "100% [..............................................................................] 45104 / 45104"
     ]
    },
    {
     "name": "stderr",
     "output_type": "stream",
     "text": [
      "2023-11-28 23:12:39,220 INFO Request is queued\n",
      "2023-11-28 23:19:00,592 INFO Request is running\n",
      "2023-11-28 23:21:01,331 INFO Request is completed\n"
     ]
    },
    {
     "name": "stdout",
     "output_type": "stream",
     "text": [
      " 72% [........................................................                      ] 32768 / 45108"
     ]
    },
    {
     "name": "stderr",
     "output_type": "stream",
     "text": [
      "2023-11-28 23:21:06,234 INFO Welcome to the CDS\n",
      "2023-11-28 23:21:06,236 INFO Sending request to https://cds.climate.copernicus.eu/api/v2/resources/reanalysis-era5-single-levels-monthly-means\n"
     ]
    },
    {
     "name": "stdout",
     "output_type": "stream",
     "text": [
      "100% [..............................................................................] 45108 / 45108"
     ]
    },
    {
     "name": "stderr",
     "output_type": "stream",
     "text": [
      "2023-11-28 23:21:06,463 INFO Request is queued\n",
      "2023-11-28 23:21:07,662 INFO Request is running\n",
      "2023-11-28 23:23:59,640 INFO Request is completed\n"
     ]
    },
    {
     "name": "stdout",
     "output_type": "stream",
     "text": [
      " 72% [........................................................                      ] 32768 / 45104"
     ]
    },
    {
     "name": "stderr",
     "output_type": "stream",
     "text": [
      "2023-11-28 23:24:07,007 INFO Welcome to the CDS\n",
      "2023-11-28 23:24:07,009 INFO Sending request to https://cds.climate.copernicus.eu/api/v2/resources/reanalysis-era5-single-levels-monthly-means\n"
     ]
    },
    {
     "name": "stdout",
     "output_type": "stream",
     "text": [
      "100% [..............................................................................] 45104 / 45104"
     ]
    },
    {
     "name": "stderr",
     "output_type": "stream",
     "text": [
      "2023-11-28 23:24:07,243 INFO Request is queued\n",
      "2023-11-28 23:24:12,587 INFO Request is running\n",
      "2023-11-28 23:27:00,397 INFO Request is completed\n"
     ]
    },
    {
     "name": "stdout",
     "output_type": "stream",
     "text": [
      " 72% [........................................................                      ] 32768 / 45104"
     ]
    },
    {
     "name": "stderr",
     "output_type": "stream",
     "text": [
      "2023-11-28 23:27:01,849 INFO Welcome to the CDS\n",
      "2023-11-28 23:27:01,851 INFO Sending request to https://cds.climate.copernicus.eu/api/v2/resources/reanalysis-era5-single-levels-monthly-means\n"
     ]
    },
    {
     "name": "stdout",
     "output_type": "stream",
     "text": [
      "100% [..............................................................................] 45104 / 45104"
     ]
    },
    {
     "name": "stderr",
     "output_type": "stream",
     "text": [
      "2023-11-28 23:27:02,146 INFO Request is queued\n",
      "2023-11-28 23:33:23,311 INFO Request is running\n",
      "2023-11-28 23:37:24,900 INFO Request is completed\n"
     ]
    },
    {
     "name": "stdout",
     "output_type": "stream",
     "text": [
      " 72% [........................................................                      ] 32768 / 45108"
     ]
    },
    {
     "name": "stderr",
     "output_type": "stream",
     "text": [
      "2023-11-28 23:37:27,235 INFO Welcome to the CDS\n",
      "2023-11-28 23:37:27,237 INFO Sending request to https://cds.climate.copernicus.eu/api/v2/resources/reanalysis-era5-single-levels-monthly-means\n"
     ]
    },
    {
     "name": "stdout",
     "output_type": "stream",
     "text": [
      "100% [..............................................................................] 45108 / 45108"
     ]
    },
    {
     "name": "stderr",
     "output_type": "stream",
     "text": [
      "2023-11-28 23:37:27,475 INFO Request is queued\n",
      "2023-11-28 23:37:28,679 INFO Request is running\n",
      "2023-11-28 23:40:20,647 INFO Request is completed\n"
     ]
    },
    {
     "name": "stdout",
     "output_type": "stream",
     "text": [
      " 72% [........................................................                      ] 32768 / 45104"
     ]
    },
    {
     "name": "stderr",
     "output_type": "stream",
     "text": [
      "2023-11-28 23:40:26,774 INFO Welcome to the CDS\n",
      "2023-11-28 23:40:26,776 INFO Sending request to https://cds.climate.copernicus.eu/api/v2/resources/reanalysis-era5-single-levels-monthly-means\n"
     ]
    },
    {
     "name": "stdout",
     "output_type": "stream",
     "text": [
      "100% [..............................................................................] 45104 / 45104"
     ]
    },
    {
     "name": "stderr",
     "output_type": "stream",
     "text": [
      "2023-11-28 23:40:27,075 INFO Request is queued\n",
      "2023-11-28 23:42:22,396 INFO Request is running\n",
      "2023-11-28 23:44:47,891 INFO Request is completed\n"
     ]
    },
    {
     "name": "stdout",
     "output_type": "stream",
     "text": [
      " 38% [..............................                                                ] 24576 / 63088"
     ]
    },
    {
     "name": "stderr",
     "output_type": "stream",
     "text": [
      "2023-11-28 23:44:49,340 INFO Welcome to the CDS\n",
      "2023-11-28 23:44:49,341 INFO Sending request to https://cds.climate.copernicus.eu/api/v2/resources/reanalysis-era5-single-levels-monthly-means\n"
     ]
    },
    {
     "name": "stdout",
     "output_type": "stream",
     "text": [
      "100% [..............................................................................] 63088 / 63088"
     ]
    },
    {
     "name": "stderr",
     "output_type": "stream",
     "text": [
      "2023-11-28 23:44:49,635 INFO Request is queued\n",
      "2023-11-28 23:44:52,523 INFO Request is running\n",
      "2023-11-28 23:47:42,779 INFO Request is completed\n"
     ]
    },
    {
     "name": "stdout",
     "output_type": "stream",
     "text": [
      " 51% [........................................                                      ] 32768 / 63088"
     ]
    },
    {
     "name": "stderr",
     "output_type": "stream",
     "text": [
      "2023-11-28 23:47:45,228 INFO Welcome to the CDS\n",
      "2023-11-28 23:47:45,229 INFO Sending request to https://cds.climate.copernicus.eu/api/v2/resources/reanalysis-era5-single-levels-monthly-means\n"
     ]
    },
    {
     "name": "stdout",
     "output_type": "stream",
     "text": [
      "100% [..............................................................................] 63088 / 63088"
     ]
    },
    {
     "name": "stderr",
     "output_type": "stream",
     "text": [
      "2023-11-28 23:47:45,548 INFO Request is queued\n",
      "2023-11-28 23:54:06,699 INFO Request is running\n",
      "2023-11-28 23:56:07,432 INFO Request is completed\n"
     ]
    },
    {
     "name": "stdout",
     "output_type": "stream",
     "text": [
      " 72% [........................................................                      ] 32768 / 45104"
     ]
    },
    {
     "name": "stderr",
     "output_type": "stream",
     "text": [
      "2023-11-28 23:56:12,531 INFO Welcome to the CDS\n",
      "2023-11-28 23:56:12,532 INFO Sending request to https://cds.climate.copernicus.eu/api/v2/resources/reanalysis-era5-single-levels-monthly-means\n"
     ]
    },
    {
     "name": "stdout",
     "output_type": "stream",
     "text": [
      "100% [..............................................................................] 45104 / 45104"
     ]
    },
    {
     "name": "stderr",
     "output_type": "stream",
     "text": [
      "2023-11-28 23:56:12,763 INFO Request is queued\n",
      "2023-11-29 00:00:33,153 INFO Request is running\n",
      "2023-11-29 00:02:33,908 INFO Request is completed\n"
     ]
    },
    {
     "name": "stdout",
     "output_type": "stream",
     "text": [
      " 36% [............................                                                  ] 32768 / 90116"
     ]
    },
    {
     "name": "stderr",
     "output_type": "stream",
     "text": [
      "2023-11-29 00:02:37,402 INFO Welcome to the CDS\n",
      "2023-11-29 00:02:37,404 INFO Sending request to https://cds.climate.copernicus.eu/api/v2/resources/reanalysis-era5-single-levels-monthly-means\n"
     ]
    },
    {
     "name": "stdout",
     "output_type": "stream",
     "text": [
      "100% [..............................................................................] 90116 / 90116"
     ]
    },
    {
     "name": "stderr",
     "output_type": "stream",
     "text": [
      "2023-11-29 00:02:37,656 INFO Request is queued\n",
      "2023-11-29 00:02:38,855 INFO Request is running\n",
      "2023-11-29 00:05:30,865 INFO Request is completed\n"
     ]
    },
    {
     "name": "stdout",
     "output_type": "stream",
     "text": [
      " 51% [........................................                                      ] 32768 / 63088"
     ]
    },
    {
     "name": "stderr",
     "output_type": "stream",
     "text": [
      "2023-11-29 00:05:33,364 INFO Welcome to the CDS\n",
      "2023-11-29 00:05:33,366 INFO Sending request to https://cds.climate.copernicus.eu/api/v2/resources/reanalysis-era5-single-levels-monthly-means\n"
     ]
    },
    {
     "name": "stdout",
     "output_type": "stream",
     "text": [
      "100% [..............................................................................] 63088 / 63088"
     ]
    },
    {
     "name": "stderr",
     "output_type": "stream",
     "text": [
      "2023-11-29 00:05:33,630 INFO Request is queued\n",
      "2023-11-29 00:05:34,830 INFO Request is running\n",
      "2023-11-29 00:08:26,813 INFO Request is completed\n"
     ]
    },
    {
     "name": "stdout",
     "output_type": "stream",
     "text": [
      " 72% [........................................................                      ] 32768 / 45104"
     ]
    },
    {
     "name": "stderr",
     "output_type": "stream",
     "text": [
      "2023-11-29 00:08:29,609 INFO Welcome to the CDS\n",
      "2023-11-29 00:08:29,611 INFO Sending request to https://cds.climate.copernicus.eu/api/v2/resources/reanalysis-era5-single-levels-monthly-means\n"
     ]
    },
    {
     "name": "stdout",
     "output_type": "stream",
     "text": [
      "100% [..............................................................................] 45104 / 45104"
     ]
    },
    {
     "name": "stderr",
     "output_type": "stream",
     "text": [
      "2023-11-29 00:08:29,829 INFO Request is queued\n",
      "2023-11-29 00:08:35,169 INFO Request is running\n",
      "2023-11-29 00:11:22,988 INFO Request is completed\n"
     ]
    },
    {
     "name": "stdout",
     "output_type": "stream",
     "text": [
      " 51% [........................................                                      ] 32768 / 63088"
     ]
    },
    {
     "name": "stderr",
     "output_type": "stream",
     "text": [
      "2023-11-29 00:11:26,385 INFO Welcome to the CDS\n",
      "2023-11-29 00:11:26,387 INFO Sending request to https://cds.climate.copernicus.eu/api/v2/resources/reanalysis-era5-single-levels-monthly-means\n"
     ]
    },
    {
     "name": "stdout",
     "output_type": "stream",
     "text": [
      "100% [..............................................................................] 63088 / 63088"
     ]
    },
    {
     "name": "stderr",
     "output_type": "stream",
     "text": [
      "2023-11-29 00:11:26,707 INFO Request is queued\n",
      "2023-11-29 00:11:27,907 INFO Request is running\n",
      "2023-11-29 00:14:19,832 INFO Request is completed\n"
     ]
    },
    {
     "name": "stdout",
     "output_type": "stream",
     "text": [
      " 51% [........................................                                      ] 32768 / 63088"
     ]
    },
    {
     "name": "stderr",
     "output_type": "stream",
     "text": [
      "2023-11-29 00:14:35,184 INFO Welcome to the CDS\n",
      "2023-11-29 00:14:35,186 INFO Sending request to https://cds.climate.copernicus.eu/api/v2/resources/reanalysis-era5-single-levels-monthly-means\n"
     ]
    },
    {
     "name": "stdout",
     "output_type": "stream",
     "text": [
      "100% [..............................................................................] 63088 / 63088"
     ]
    },
    {
     "name": "stderr",
     "output_type": "stream",
     "text": [
      "2023-11-29 00:14:35,445 INFO Request is queued\n",
      "2023-11-29 00:16:30,780 INFO Request is running\n",
      "2023-11-29 00:18:55,991 INFO Request is completed\n"
     ]
    },
    {
     "name": "stdout",
     "output_type": "stream",
     "text": [
      " 51% [........................................                                      ] 32768 / 63088"
     ]
    },
    {
     "name": "stderr",
     "output_type": "stream",
     "text": [
      "2023-11-29 00:18:59,176 INFO Welcome to the CDS\n",
      "2023-11-29 00:18:59,178 INFO Sending request to https://cds.climate.copernicus.eu/api/v2/resources/reanalysis-era5-single-levels-monthly-means\n"
     ]
    },
    {
     "name": "stdout",
     "output_type": "stream",
     "text": [
      "100% [..............................................................................] 63088 / 63088"
     ]
    },
    {
     "name": "stderr",
     "output_type": "stream",
     "text": [
      "2023-11-29 00:18:59,403 INFO Request is queued\n",
      "2023-11-29 00:27:21,298 INFO Request is running\n",
      "2023-11-29 00:31:22,791 INFO Request is completed\n"
     ]
    },
    {
     "name": "stdout",
     "output_type": "stream",
     "text": [
      " 72% [........................................................                      ] 32768 / 45104"
     ]
    },
    {
     "name": "stderr",
     "output_type": "stream",
     "text": [
      "2023-11-29 00:31:24,835 INFO Welcome to the CDS\n",
      "2023-11-29 00:31:24,837 INFO Sending request to https://cds.climate.copernicus.eu/api/v2/resources/reanalysis-era5-single-levels-monthly-means\n"
     ]
    },
    {
     "name": "stdout",
     "output_type": "stream",
     "text": [
      "100% [..............................................................................] 45104 / 45104"
     ]
    },
    {
     "name": "stderr",
     "output_type": "stream",
     "text": [
      "2023-11-29 00:31:25,043 INFO Request is queued\n",
      "2023-11-29 00:34:18,191 INFO Request is running\n",
      "2023-11-29 00:37:46,302 INFO Request is completed\n"
     ]
    },
    {
     "name": "stdout",
     "output_type": "stream",
     "text": [
      " 72% [........................................................                      ] 32768 / 45104"
     ]
    },
    {
     "name": "stderr",
     "output_type": "stream",
     "text": [
      "2023-11-29 00:37:48,899 INFO Welcome to the CDS\n",
      "2023-11-29 00:37:48,901 INFO Sending request to https://cds.climate.copernicus.eu/api/v2/resources/reanalysis-era5-single-levels-monthly-means\n"
     ]
    },
    {
     "name": "stdout",
     "output_type": "stream",
     "text": [
      "100% [..............................................................................] 45104 / 45104"
     ]
    },
    {
     "name": "stderr",
     "output_type": "stream",
     "text": [
      "2023-11-29 00:37:49,126 INFO Request is queued\n",
      "2023-11-29 00:37:54,470 INFO Request is running\n",
      "2023-11-29 00:40:42,319 INFO Request is completed\n"
     ]
    },
    {
     "name": "stdout",
     "output_type": "stream",
     "text": [
      " 51% [........................................                                      ] 32768 / 63088"
     ]
    },
    {
     "name": "stderr",
     "output_type": "stream",
     "text": [
      "2023-11-29 00:40:48,158 INFO Welcome to the CDS\n",
      "2023-11-29 00:40:48,160 INFO Sending request to https://cds.climate.copernicus.eu/api/v2/resources/reanalysis-era5-single-levels-monthly-means\n"
     ]
    },
    {
     "name": "stdout",
     "output_type": "stream",
     "text": [
      "100% [..............................................................................] 63088 / 63088"
     ]
    },
    {
     "name": "stderr",
     "output_type": "stream",
     "text": [
      "2023-11-29 00:40:48,472 INFO Request is queued\n",
      "2023-11-29 00:40:49,673 INFO Request is running\n",
      "2023-11-29 00:43:41,648 INFO Request is completed\n"
     ]
    },
    {
     "name": "stdout",
     "output_type": "stream",
     "text": [
      " 90% [......................................................................        ] 40960 / 45104"
     ]
    },
    {
     "name": "stderr",
     "output_type": "stream",
     "text": [
      "2023-11-29 00:43:46,540 INFO Welcome to the CDS\n",
      "2023-11-29 00:43:46,542 INFO Sending request to https://cds.climate.copernicus.eu/api/v2/resources/reanalysis-era5-single-levels-monthly-means\n"
     ]
    },
    {
     "name": "stdout",
     "output_type": "stream",
     "text": [
      "100% [..............................................................................] 45104 / 45104"
     ]
    },
    {
     "name": "stderr",
     "output_type": "stream",
     "text": [
      "2023-11-29 00:43:46,753 INFO Request is queued\n",
      "2023-11-29 00:43:55,675 INFO Request is running\n",
      "2023-11-29 00:48:07,286 INFO Request is completed\n"
     ]
    },
    {
     "name": "stdout",
     "output_type": "stream",
     "text": [
      " 72% [........................................................                      ] 32768 / 45100"
     ]
    },
    {
     "name": "stderr",
     "output_type": "stream",
     "text": [
      "2023-11-29 00:48:10,168 INFO Welcome to the CDS\n",
      "2023-11-29 00:48:10,170 INFO Sending request to https://cds.climate.copernicus.eu/api/v2/resources/reanalysis-era5-single-levels-monthly-means\n"
     ]
    },
    {
     "name": "stdout",
     "output_type": "stream",
     "text": [
      "100% [..............................................................................] 45100 / 45100"
     ]
    },
    {
     "name": "stderr",
     "output_type": "stream",
     "text": [
      "2023-11-29 00:48:10,388 INFO Request is queued\n",
      "2023-11-29 00:49:27,067 INFO Request is running\n",
      "2023-11-29 00:52:30,824 INFO Request is completed\n"
     ]
    },
    {
     "name": "stdout",
     "output_type": "stream",
     "text": [
      " 72% [........................................................                      ] 32768 / 45100"
     ]
    },
    {
     "name": "stderr",
     "output_type": "stream",
     "text": [
      "2023-11-29 00:52:33,703 INFO Welcome to the CDS\n",
      "2023-11-29 00:52:33,705 INFO Sending request to https://cds.climate.copernicus.eu/api/v2/resources/reanalysis-era5-single-levels-monthly-means\n"
     ]
    },
    {
     "name": "stdout",
     "output_type": "stream",
     "text": [
      "100% [..............................................................................] 45100 / 45100"
     ]
    },
    {
     "name": "stderr",
     "output_type": "stream",
     "text": [
      "2023-11-29 00:52:33,934 INFO Request is queued\n",
      "2023-11-29 00:54:29,288 INFO Request is running\n",
      "2023-11-29 00:56:54,379 INFO Request is completed\n"
     ]
    },
    {
     "name": "stdout",
     "output_type": "stream",
     "text": [
      " 72% [........................................................                      ] 32768 / 45104"
     ]
    },
    {
     "name": "stderr",
     "output_type": "stream",
     "text": [
      "2023-11-29 00:56:56,846 INFO Welcome to the CDS\n",
      "2023-11-29 00:56:56,848 INFO Sending request to https://cds.climate.copernicus.eu/api/v2/resources/reanalysis-era5-single-levels-monthly-means\n"
     ]
    },
    {
     "name": "stdout",
     "output_type": "stream",
     "text": [
      "100% [..............................................................................] 45104 / 45104"
     ]
    },
    {
     "name": "stderr",
     "output_type": "stream",
     "text": [
      "2023-11-29 00:56:57,069 INFO Request is queued\n",
      "2023-11-29 01:07:19,882 INFO Request is running\n",
      "2023-11-29 01:09:20,628 INFO Request is completed\n"
     ]
    },
    {
     "name": "stdout",
     "output_type": "stream",
     "text": [
      "100% [..............................................................................] 90120 / 90120"
     ]
    },
    {
     "name": "stderr",
     "output_type": "stream",
     "text": [
      "2023-11-29 01:09:25,093 INFO Welcome to the CDS\n",
      "2023-11-29 01:09:25,095 INFO Sending request to https://cds.climate.copernicus.eu/api/v2/resources/reanalysis-era5-single-levels-monthly-means\n",
      "2023-11-29 01:09:25,384 INFO Request is queued\n",
      "2023-11-29 01:09:28,273 INFO Request is running\n",
      "2023-11-29 01:12:18,543 INFO Request is completed\n"
     ]
    },
    {
     "name": "stdout",
     "output_type": "stream",
     "text": [
      " 72% [........................................................                      ] 32768 / 45108"
     ]
    },
    {
     "name": "stderr",
     "output_type": "stream",
     "text": [
      "2023-11-29 01:12:20,977 INFO Welcome to the CDS\n",
      "2023-11-29 01:12:20,979 INFO Sending request to https://cds.climate.copernicus.eu/api/v2/resources/reanalysis-era5-single-levels-monthly-means\n"
     ]
    },
    {
     "name": "stdout",
     "output_type": "stream",
     "text": [
      "100% [..............................................................................] 45108 / 45108"
     ]
    },
    {
     "name": "stderr",
     "output_type": "stream",
     "text": [
      "2023-11-29 01:12:21,225 INFO Request is queued\n",
      "2023-11-29 01:22:44,429 INFO Request is running\n",
      "2023-11-29 01:24:45,168 INFO Request is completed\n"
     ]
    },
    {
     "name": "stdout",
     "output_type": "stream",
     "text": [
      " 72% [........................................................                      ] 32768 / 45104"
     ]
    },
    {
     "name": "stderr",
     "output_type": "stream",
     "text": [
      "2023-11-29 01:24:47,640 INFO Welcome to the CDS\n",
      "2023-11-29 01:24:47,642 INFO Sending request to https://cds.climate.copernicus.eu/api/v2/resources/reanalysis-era5-single-levels-monthly-means\n"
     ]
    },
    {
     "name": "stdout",
     "output_type": "stream",
     "text": [
      "100% [..............................................................................] 45104 / 45104"
     ]
    },
    {
     "name": "stderr",
     "output_type": "stream",
     "text": [
      "2023-11-29 01:24:47,864 INFO Request is queued\n",
      "2023-11-29 01:35:10,520 INFO Request is running\n",
      "2023-11-29 01:39:11,998 INFO Request is completed\n"
     ]
    },
    {
     "name": "stdout",
     "output_type": "stream",
     "text": [
      " 72% [........................................................                      ] 32768 / 45104"
     ]
    },
    {
     "name": "stderr",
     "output_type": "stream",
     "text": [
      "2023-11-29 01:39:15,280 INFO Welcome to the CDS\n",
      "2023-11-29 01:39:15,282 INFO Sending request to https://cds.climate.copernicus.eu/api/v2/resources/reanalysis-era5-single-levels-monthly-means\n"
     ]
    },
    {
     "name": "stdout",
     "output_type": "stream",
     "text": [
      "100% [..............................................................................] 45104 / 45104"
     ]
    },
    {
     "name": "stderr",
     "output_type": "stream",
     "text": [
      "2023-11-29 01:39:15,487 INFO Request is queued\n",
      "2023-11-29 01:45:36,757 INFO Request is running\n",
      "2023-11-29 01:47:37,501 INFO Request is completed\n"
     ]
    },
    {
     "name": "stdout",
     "output_type": "stream",
     "text": [
      " 36% [............................                                                  ] 32768 / 90116"
     ]
    },
    {
     "name": "stderr",
     "output_type": "stream",
     "text": [
      "2023-11-29 01:47:39,609 INFO Welcome to the CDS\n",
      "2023-11-29 01:47:39,610 INFO Sending request to https://cds.climate.copernicus.eu/api/v2/resources/reanalysis-era5-single-levels-monthly-means\n"
     ]
    },
    {
     "name": "stdout",
     "output_type": "stream",
     "text": [
      "100% [..............................................................................] 90116 / 90116"
     ]
    },
    {
     "name": "stderr",
     "output_type": "stream",
     "text": [
      "2023-11-29 01:47:39,859 INFO Request is queued\n",
      "2023-11-29 01:54:01,046 INFO Request is running\n",
      "2023-11-29 01:56:01,770 INFO Request is completed\n"
     ]
    },
    {
     "name": "stdout",
     "output_type": "stream",
     "text": [
      " 72% [........................................................                      ] 32768 / 45104"
     ]
    },
    {
     "name": "stderr",
     "output_type": "stream",
     "text": [
      "2023-11-29 01:56:03,468 INFO Welcome to the CDS\n",
      "2023-11-29 01:56:03,470 INFO Sending request to https://cds.climate.copernicus.eu/api/v2/resources/reanalysis-era5-single-levels-monthly-means\n"
     ]
    },
    {
     "name": "stdout",
     "output_type": "stream",
     "text": [
      "100% [..............................................................................] 45104 / 45104"
     ]
    },
    {
     "name": "stderr",
     "output_type": "stream",
     "text": [
      "2023-11-29 01:56:03,718 INFO Request is queued\n",
      "2023-11-29 02:02:24,980 INFO Request is running\n",
      "2023-11-29 02:06:26,452 INFO Request is completed\n"
     ]
    },
    {
     "name": "stdout",
     "output_type": "stream",
     "text": [
      " 72% [........................................................                      ] 32768 / 45104"
     ]
    },
    {
     "name": "stderr",
     "output_type": "stream",
     "text": [
      "2023-11-29 02:06:28,387 INFO Welcome to the CDS\n",
      "2023-11-29 02:06:28,389 INFO Sending request to https://cds.climate.copernicus.eu/api/v2/resources/reanalysis-era5-single-levels-monthly-means\n"
     ]
    },
    {
     "name": "stdout",
     "output_type": "stream",
     "text": [
      "100% [..............................................................................] 45104 / 45104"
     ]
    },
    {
     "name": "stderr",
     "output_type": "stream",
     "text": [
      "2023-11-29 02:06:28,641 INFO Request is queued\n",
      "2023-11-29 02:12:49,746 INFO Request is running\n",
      "2023-11-29 02:16:51,361 INFO Request is completed\n"
     ]
    },
    {
     "name": "stdout",
     "output_type": "stream",
     "text": [
      " 72% [........................................................                      ] 32768 / 45104"
     ]
    },
    {
     "name": "stderr",
     "output_type": "stream",
     "text": [
      "2023-11-29 02:16:53,158 INFO Welcome to the CDS\n",
      "2023-11-29 02:16:53,160 INFO Sending request to https://cds.climate.copernicus.eu/api/v2/resources/reanalysis-era5-single-levels-monthly-means\n"
     ]
    },
    {
     "name": "stdout",
     "output_type": "stream",
     "text": [
      "100% [..............................................................................] 45104 / 45104"
     ]
    },
    {
     "name": "stderr",
     "output_type": "stream",
     "text": [
      "2023-11-29 02:16:53,399 INFO Request is queued\n",
      "2023-11-29 02:23:14,556 INFO Request is running\n",
      "2023-11-29 02:25:15,320 INFO Request is completed\n"
     ]
    },
    {
     "name": "stdout",
     "output_type": "stream",
     "text": [
      " 72% [........................................................                      ] 32768 / 45104"
     ]
    },
    {
     "name": "stderr",
     "output_type": "stream",
     "text": [
      "2023-11-29 02:25:17,156 INFO Welcome to the CDS\n",
      "2023-11-29 02:25:17,158 INFO Sending request to https://cds.climate.copernicus.eu/api/v2/resources/reanalysis-era5-single-levels-monthly-means\n"
     ]
    },
    {
     "name": "stdout",
     "output_type": "stream",
     "text": [
      "100% [..............................................................................] 45104 / 45104"
     ]
    },
    {
     "name": "stderr",
     "output_type": "stream",
     "text": [
      "2023-11-29 02:25:17,370 INFO Request is queued\n",
      "2023-11-29 02:35:40,034 INFO Request is running\n",
      "2023-11-29 02:37:40,764 INFO Request is completed\n"
     ]
    },
    {
     "name": "stdout",
     "output_type": "stream",
     "text": [
      " 51% [........................................                                      ] 32768 / 63088"
     ]
    },
    {
     "name": "stderr",
     "output_type": "stream",
     "text": [
      "2023-11-29 02:37:42,504 INFO Welcome to the CDS\n",
      "2023-11-29 02:37:42,506 INFO Sending request to https://cds.climate.copernicus.eu/api/v2/resources/reanalysis-era5-single-levels-monthly-means\n"
     ]
    },
    {
     "name": "stdout",
     "output_type": "stream",
     "text": [
      "100% [..............................................................................] 63088 / 63088"
     ]
    },
    {
     "name": "stderr",
     "output_type": "stream",
     "text": [
      "2023-11-29 02:37:42,733 INFO Request is queued\n",
      "2023-11-29 02:37:48,075 INFO Request is running\n",
      "2023-11-29 02:40:35,878 INFO Request is completed\n"
     ]
    },
    {
     "name": "stdout",
     "output_type": "stream",
     "text": [
      " 51% [........................................                                      ] 32768 / 63088"
     ]
    },
    {
     "name": "stderr",
     "output_type": "stream",
     "text": [
      "2023-11-29 02:40:38,161 INFO Welcome to the CDS\n",
      "2023-11-29 02:40:38,163 INFO Sending request to https://cds.climate.copernicus.eu/api/v2/resources/reanalysis-era5-single-levels-monthly-means\n"
     ]
    },
    {
     "name": "stdout",
     "output_type": "stream",
     "text": [
      "100% [..............................................................................] 63088 / 63088"
     ]
    },
    {
     "name": "stderr",
     "output_type": "stream",
     "text": [
      "2023-11-29 02:40:38,352 INFO Request is queued\n",
      "2023-11-29 02:40:41,235 INFO Request is running\n",
      "2023-11-29 02:43:31,474 INFO Request is completed\n"
     ]
    },
    {
     "name": "stdout",
     "output_type": "stream",
     "text": [
      " 72% [........................................................                      ] 32768 / 45104"
     ]
    },
    {
     "name": "stderr",
     "output_type": "stream",
     "text": [
      "2023-11-29 02:43:33,168 INFO Welcome to the CDS\n",
      "2023-11-29 02:43:33,170 INFO Sending request to https://cds.climate.copernicus.eu/api/v2/resources/reanalysis-era5-single-levels-monthly-means\n"
     ]
    },
    {
     "name": "stdout",
     "output_type": "stream",
     "text": [
      "100% [..............................................................................] 45104 / 45104"
     ]
    },
    {
     "name": "stderr",
     "output_type": "stream",
     "text": [
      "2023-11-29 02:43:33,412 INFO Request is queued\n",
      "2023-11-29 02:43:36,299 INFO Request is running\n",
      "2023-11-29 02:46:26,553 INFO Request is completed\n"
     ]
    },
    {
     "name": "stdout",
     "output_type": "stream",
     "text": [
      " 51% [........................................                                      ] 32768 / 63088"
     ]
    },
    {
     "name": "stderr",
     "output_type": "stream",
     "text": [
      "2023-11-29 02:46:28,617 INFO Welcome to the CDS\n",
      "2023-11-29 02:46:28,618 INFO Sending request to https://cds.climate.copernicus.eu/api/v2/resources/reanalysis-era5-single-levels-monthly-means\n"
     ]
    },
    {
     "name": "stdout",
     "output_type": "stream",
     "text": [
      "100% [..............................................................................] 63088 / 63088"
     ]
    },
    {
     "name": "stderr",
     "output_type": "stream",
     "text": [
      "2023-11-29 02:46:29,355 INFO Request is queued\n",
      "2023-11-29 02:46:32,238 INFO Request is running\n",
      "2023-11-29 02:49:22,466 INFO Request is completed\n"
     ]
    },
    {
     "name": "stdout",
     "output_type": "stream",
     "text": [
      " 72% [........................................................                      ] 32768 / 45104"
     ]
    },
    {
     "name": "stderr",
     "output_type": "stream",
     "text": [
      "2023-11-29 02:49:24,169 INFO Welcome to the CDS\n",
      "2023-11-29 02:49:24,171 INFO Sending request to https://cds.climate.copernicus.eu/api/v2/resources/reanalysis-era5-single-levels-monthly-means\n"
     ]
    },
    {
     "name": "stdout",
     "output_type": "stream",
     "text": [
      "100% [..............................................................................] 45104 / 45104"
     ]
    },
    {
     "name": "stderr",
     "output_type": "stream",
     "text": [
      "2023-11-29 02:49:24,415 INFO Request is queued\n",
      "2023-11-29 02:59:47,240 INFO Request is running\n",
      "2023-11-29 03:03:48,707 INFO Request is completed\n"
     ]
    },
    {
     "name": "stdout",
     "output_type": "stream",
     "text": [
      " 51% [........................................                                      ] 32768 / 63088"
     ]
    },
    {
     "name": "stderr",
     "output_type": "stream",
     "text": [
      "2023-11-29 03:03:50,406 INFO Welcome to the CDS\n",
      "2023-11-29 03:03:50,408 INFO Sending request to https://cds.climate.copernicus.eu/api/v2/resources/reanalysis-era5-single-levels-monthly-means\n"
     ]
    },
    {
     "name": "stdout",
     "output_type": "stream",
     "text": [
      "100% [..............................................................................] 63088 / 63088"
     ]
    },
    {
     "name": "stderr",
     "output_type": "stream",
     "text": [
      "2023-11-29 03:03:50,689 INFO Request is queued\n",
      "2023-11-29 03:10:11,801 INFO Request is running\n",
      "2023-11-29 03:12:12,983 INFO Request is completed\n"
     ]
    },
    {
     "name": "stdout",
     "output_type": "stream",
     "text": [
      "  0% [                                                                              ]     0 / 45104"
     ]
    },
    {
     "name": "stderr",
     "output_type": "stream",
     "text": [
      "2023-11-29 03:12:15,132 INFO Welcome to the CDS\n",
      "2023-11-29 03:12:15,134 INFO Sending request to https://cds.climate.copernicus.eu/api/v2/resources/reanalysis-era5-single-levels-monthly-means\n"
     ]
    },
    {
     "name": "stdout",
     "output_type": "stream",
     "text": [
      "100% [..............................................................................] 45104 / 45104"
     ]
    },
    {
     "name": "stderr",
     "output_type": "stream",
     "text": [
      "2023-11-29 03:12:15,326 INFO Request is queued\n",
      "2023-11-29 03:24:38,918 INFO Request is running\n",
      "2023-11-29 03:26:39,654 INFO Request is completed\n"
     ]
    },
    {
     "name": "stdout",
     "output_type": "stream",
     "text": [
      " 72% [........................................................                      ] 32768 / 45104"
     ]
    },
    {
     "name": "stderr",
     "output_type": "stream",
     "text": [
      "2023-11-29 03:26:41,642 INFO Welcome to the CDS\n",
      "2023-11-29 03:26:41,644 INFO Sending request to https://cds.climate.copernicus.eu/api/v2/resources/reanalysis-era5-single-levels-monthly-means\n"
     ]
    },
    {
     "name": "stdout",
     "output_type": "stream",
     "text": [
      "100% [..............................................................................] 45104 / 45104"
     ]
    },
    {
     "name": "stderr",
     "output_type": "stream",
     "text": [
      "2023-11-29 03:26:41,885 INFO Request is queued\n",
      "2023-11-29 03:27:15,426 INFO Request is running\n",
      "2023-11-29 03:31:02,275 INFO Request is completed\n"
     ]
    },
    {
     "name": "stdout",
     "output_type": "stream",
     "text": [
      " 36% [............................                                                  ] 32768 / 90120"
     ]
    },
    {
     "name": "stderr",
     "output_type": "stream",
     "text": [
      "2023-11-29 03:31:04,630 INFO Welcome to the CDS\n",
      "2023-11-29 03:31:04,632 INFO Sending request to https://cds.climate.copernicus.eu/api/v2/resources/reanalysis-era5-single-levels-monthly-means\n"
     ]
    },
    {
     "name": "stdout",
     "output_type": "stream",
     "text": [
      "100% [..............................................................................] 90120 / 90120"
     ]
    },
    {
     "name": "stderr",
     "output_type": "stream",
     "text": [
      "2023-11-29 03:31:04,841 INFO Request is queued\n",
      "2023-11-29 03:37:25,901 INFO Request is running\n",
      "2023-11-29 03:41:27,361 INFO Request is completed\n"
     ]
    },
    {
     "name": "stdout",
     "output_type": "stream",
     "text": [
      " 72% [........................................................                      ] 32768 / 45104"
     ]
    },
    {
     "name": "stderr",
     "output_type": "stream",
     "text": [
      "2023-11-29 03:41:29,348 INFO Welcome to the CDS\n",
      "2023-11-29 03:41:29,349 INFO Sending request to https://cds.climate.copernicus.eu/api/v2/resources/reanalysis-era5-single-levels-monthly-means\n"
     ]
    },
    {
     "name": "stdout",
     "output_type": "stream",
     "text": [
      "100% [..............................................................................] 45104 / 45104"
     ]
    },
    {
     "name": "stderr",
     "output_type": "stream",
     "text": [
      "2023-11-29 03:41:29,569 INFO Request is queued\n",
      "2023-11-29 03:47:50,892 INFO Request is running\n",
      "2023-11-29 03:51:52,323 INFO Request is completed\n"
     ]
    },
    {
     "name": "stdout",
     "output_type": "stream",
     "text": [
      "100% [..............................................................................] 63088 / 63088"
     ]
    }
   ],
   "source": [
    "import cdsapi\n",
    "import wget\n",
    "c = cdsapi.Client()  # 创建用户\n",
    "from subprocess import call\n",
    "import pandas as pd\n",
    "import os\n",
    "import datetime\n",
    "\n",
    "# pyroCb events info\n",
    "csv_file_path='/Users/liuyangfan/Desktop/Stanford/pyrocast-database/pyrocb_events.csv'\n",
    "events_df = pd.read_csv(csv_file_path)\n",
    "\n",
    "# functions\n",
    "# Function to download with wget\n",
    "def Downloader(task_url, folder_path, file_name):\n",
    "    \"\"\"\n",
    "    下载器\n",
    "    :param task_url: 下载任务地址\n",
    "    :param folder_path: 存放文件夹\n",
    "    :param file_name: 文件名\n",
    "    :return:\n",
    "    \"\"\"\n",
    "    wget.download(task_url,out=folder_path+file_name)#folder_path needs '/' in the end\n",
    "\n",
    "# Function to determine the geographical area\n",
    "def determine_geographical_area(longitude, latitude):\n",
    "    # Adjusting the coordinates to the nearest 0.25 degree grid\n",
    "    north = latitude + 0.25 - (latitude % 0.25)\n",
    "    south = latitude - (latitude % 0.25)\n",
    "    if latitude % 0.25==0:\n",
    "        south=south-0.25\n",
    "    east = longitude + 0.25 - (longitude % 0.25)\n",
    "    west = longitude - (longitude % 0.25)\n",
    "    if longitude % 0.25==0:\n",
    "        west=west-0.25\n",
    "    return [north, west, south, east]\n",
    "\n",
    "    \n",
    "download_directory = '/Users/liuyangfan/Desktop/Stanford/pyrocast-database/era5/pyroCb_events_single_level_monthly/'\n",
    "\n",
    "############### 48 hr before and after ####################\n",
    "for index, row in events_df.iterrows():\n",
    "    # Skip rows without PyroCb time information\n",
    "    if pd.isna(row['pyroCb_time_utc']):\n",
    "        continue\n",
    "    if(int(row['pyroCb_time_utc'])>2359):\n",
    "        continue\n",
    "    # Formatting the event time\n",
    "    event_time = f\"{row['pyroCb_date_utc']} {int(row['pyroCb_time_utc']):04d}\"\n",
    "    event_datetime = datetime.datetime.strptime(event_time, '%Y-%m-%d %H%M')\n",
    "    event_datetime = datetime.datetime.strftime(event_datetime,'%Y-%m-%d %H:%M:%S')\n",
    "    # Determine the geographical area\n",
    "    area = determine_geographical_area(row['pyroCb_longitude'], row['pyroCb_latitude'])\n",
    "    # Create a directory for the event\n",
    "    event_dir = os.path.join(download_directory, str(row['pyroCb_id']))\n",
    "    if not os.path.exists(event_dir):\n",
    "        os.makedirs(event_dir)\n",
    "    r=c.retrieve(\n",
    "        'reanalysis-era5-single-levels-monthly-means',\n",
    "        {\n",
    "            'format': 'netcdf',\n",
    "            'product_type': 'monthly_averaged_reanalysis_by_hour_of_day',\n",
    "            'variable': [\n",
    "                '10m_u_component_of_wind', '10m_v_component_of_wind', 'instantaneous_10m_wind_gust',#no monthly '10m_wind_gust_since_previous_post_processing',\n",
    "                '2m_dewpoint_temperature','2m_temperature', \n",
    "                'surface_pressure', \n",
    "                'total_precipitation',\n",
    "                'convective_inhibition', 'convective_available_potential_energy', 'k_index','total_totals_index', # thunderstorm and instability\n",
    "                'vertical_integral_of_divergence_of_cloud_frozen_water_flux', 'vertical_integral_of_divergence_of_cloud_liquid_water_flux', 'vertical_integral_of_eastward_cloud_frozen_water_flux',\n",
    "                'vertical_integral_of_eastward_cloud_liquid_water_flux', 'vertical_integral_of_northward_cloud_frozen_water_flux', 'vertical_integral_of_northward_cloud_liquid_water_flux',\n",
    "                'geopotential',\n",
    "                'surface_latent_heat_flux', 'surface_sensible_heat_flux',\n",
    "                'boundary_layer_height',\n",
    "                'cloud_base_height', 'high_cloud_cover','medium_cloud_cover', 'low_cloud_cover','total_cloud_cover',\n",
    "                'total_column_cloud_ice_water', 'total_column_cloud_liquid_water', 'total_column_water',#cloud\n",
    "            ],\n",
    "            'year': [\n",
    "                '2018', '2019', '2020',\n",
    "                '2021', '2022',\n",
    "            ],\n",
    "            'month':  event_datetime[5:7],\n",
    "            'time': [\n",
    "                '00:00', '01:00', '02:00',\n",
    "                '03:00', '04:00', '05:00',\n",
    "                '06:00', '07:00', '08:00',\n",
    "                '09:00', '10:00', '11:00',\n",
    "                '12:00', '13:00', '14:00',\n",
    "                '15:00', '16:00', '17:00',\n",
    "                '18:00', '19:00', '20:00',\n",
    "                '21:00', '22:00', '23:00',\n",
    "            ],\n",
    "            'area': area,\n",
    "        },\n",
    "        )\n",
    "    url = r.location  # 获取文件下载地址\n",
    "    path = event_dir+'/'  # 存放文件夹\n",
    "    filename = '24hrs.nc'  # 文件名\n",
    "    Downloader(url, path, filename)  # 添加进IDM中下载\n"
   ]
  }
 ],
 "metadata": {
  "kernelspec": {
   "display_name": "Python 3 (ipykernel)",
   "language": "python",
   "name": "python3"
  },
  "language_info": {
   "codemirror_mode": {
    "name": "ipython",
    "version": 3
   },
   "file_extension": ".py",
   "mimetype": "text/x-python",
   "name": "python",
   "nbconvert_exporter": "python",
   "pygments_lexer": "ipython3",
   "version": "3.10.9"
  }
 },
 "nbformat": 4,
 "nbformat_minor": 5
}
