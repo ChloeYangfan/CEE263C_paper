{
 "cells": [
  {
   "cell_type": "code",
   "execution_count": 70,
   "id": "4a49a923-9db9-4ace-b580-10e07fc683e8",
   "metadata": {},
   "outputs": [
    {
     "name": "stdout",
     "output_type": "stream",
     "text": [
      "202\n",
      "208\n",
      "191\n",
      "212\n",
      "211\n",
      "203\n",
      "161\n",
      "253\n",
      "178\n",
      "264\n",
      "183\n",
      "220\n",
      "252\n",
      "195\n",
      "234\n",
      "219\n",
      "218\n",
      "175\n",
      "168\n",
      "193\n",
      "194\n",
      "192\n",
      "169\n",
      "251\n",
      "173\n",
      "174\n",
      "172\n",
      "171\n",
      "197\n"
     ]
    }
   ],
   "source": [
    "cnt=0\n",
    "for index, row in events_df.iterrows():\n",
    "    # Skip rows without PyroCb time information\n",
    "    if pd.isna(row['pyroCb_time_utc']):\n",
    "        continue\n",
    "    if(int(row['pyroCb_time_utc'])>2359):\n",
    "        continue\n",
    "    cnt=cnt+1\n",
    "    if cnt<53:\n",
    "        continue\n",
    "    print(row['pyroCb_id'])"
   ]
  },
  {
   "cell_type": "code",
   "execution_count": 64,
   "id": "5bf67ee4-1cc8-48ed-a5f5-146f62dcb1e5",
   "metadata": {},
   "outputs": [
    {
     "name": "stderr",
     "output_type": "stream",
     "text": [
      "2023-11-23 14:54:58,336 INFO Welcome to the CDS\n",
      "2023-11-23 14:54:58,338 INFO Sending request to https://cds.climate.copernicus.eu/api/v2/resources/reanalysis-era5-pressure-levels\n",
      "2023-11-23 14:54:58,569 INFO Request is completed\n",
      "2023-11-23 14:55:00,442 INFO Welcome to the CDS\n",
      "2023-11-23 14:55:00,444 INFO Sending request to https://cds.climate.copernicus.eu/api/v2/resources/reanalysis-era5-pressure-levels\n"
     ]
    },
    {
     "name": "stdout",
     "output_type": "stream",
     "text": [
      "100% [..............................................................................] 10396 / 10396"
     ]
    },
    {
     "name": "stderr",
     "output_type": "stream",
     "text": [
      "2023-11-23 14:55:00,652 INFO Request is queued\n",
      "2023-11-23 14:55:01,842 INFO Request is running\n",
      "2023-11-23 14:55:14,771 INFO Request is completed\n",
      "2023-11-23 14:55:16,057 INFO Welcome to the CDS\n",
      "2023-11-23 14:55:16,059 INFO Sending request to https://cds.climate.copernicus.eu/api/v2/resources/reanalysis-era5-pressure-levels\n"
     ]
    },
    {
     "name": "stdout",
     "output_type": "stream",
     "text": [
      "100% [..............................................................................] 10392 / 10392"
     ]
    },
    {
     "name": "stderr",
     "output_type": "stream",
     "text": [
      "2023-11-23 14:55:16,276 INFO Request is queued\n",
      "2023-11-23 14:55:17,467 INFO Request is running\n",
      "2023-11-23 14:55:30,395 INFO Request is completed\n",
      "2023-11-23 14:55:31,742 INFO Welcome to the CDS\n",
      "2023-11-23 14:55:31,743 INFO Sending request to https://cds.climate.copernicus.eu/api/v2/resources/reanalysis-era5-pressure-levels\n"
     ]
    },
    {
     "name": "stdout",
     "output_type": "stream",
     "text": [
      "100% [..............................................................................] 10396 / 10396"
     ]
    },
    {
     "name": "stderr",
     "output_type": "stream",
     "text": [
      "2023-11-23 14:55:32,048 INFO Request is queued\n",
      "2023-11-23 14:55:37,356 INFO Request is running\n",
      "2023-11-23 14:55:53,953 INFO Request is completed\n",
      "2023-11-23 14:55:55,431 INFO Welcome to the CDS\n",
      "2023-11-23 14:55:55,433 INFO Sending request to https://cds.climate.copernicus.eu/api/v2/resources/reanalysis-era5-pressure-levels\n"
     ]
    },
    {
     "name": "stdout",
     "output_type": "stream",
     "text": [
      "100% [..............................................................................] 10396 / 10396"
     ]
    },
    {
     "name": "stderr",
     "output_type": "stream",
     "text": [
      "2023-11-23 14:55:55,634 INFO Request is queued\n",
      "2023-11-23 14:55:58,514 INFO Request is running\n",
      "2023-11-23 14:56:09,770 INFO Request is completed\n",
      "2023-11-23 14:56:11,236 INFO Welcome to the CDS\n",
      "2023-11-23 14:56:11,237 INFO Sending request to https://cds.climate.copernicus.eu/api/v2/resources/reanalysis-era5-pressure-levels\n"
     ]
    },
    {
     "name": "stdout",
     "output_type": "stream",
     "text": [
      "100% [..............................................................................] 12768 / 12768"
     ]
    },
    {
     "name": "stderr",
     "output_type": "stream",
     "text": [
      "2023-11-23 14:56:11,444 INFO Request is queued\n",
      "2023-11-23 14:56:12,634 INFO Request is running\n",
      "2023-11-23 14:56:33,373 INFO Request is completed\n"
     ]
    },
    {
     "name": "stdout",
     "output_type": "stream",
     "text": [
      "100% [..............................................................................] 12768 / 12768"
     ]
    },
    {
     "name": "stderr",
     "output_type": "stream",
     "text": [
      "2023-11-23 14:56:34,851 INFO Welcome to the CDS\n",
      "2023-11-23 14:56:34,852 INFO Sending request to https://cds.climate.copernicus.eu/api/v2/resources/reanalysis-era5-pressure-levels\n",
      "2023-11-23 14:56:35,077 INFO Request is queued\n",
      "2023-11-23 14:56:36,265 INFO Request is running\n",
      "2023-11-23 14:56:49,204 INFO Request is completed\n",
      "2023-11-23 14:56:50,856 INFO Welcome to the CDS\n",
      "2023-11-23 14:56:50,858 INFO Sending request to https://cds.climate.copernicus.eu/api/v2/resources/reanalysis-era5-pressure-levels\n"
     ]
    },
    {
     "name": "stdout",
     "output_type": "stream",
     "text": [
      "100% [..............................................................................] 12768 / 12768"
     ]
    },
    {
     "name": "stderr",
     "output_type": "stream",
     "text": [
      "2023-11-23 14:56:51,047 INFO Request is queued\n",
      "2023-11-23 14:56:52,236 INFO Request is running\n",
      "2023-11-23 14:57:05,172 INFO Request is completed\n"
     ]
    },
    {
     "name": "stdout",
     "output_type": "stream",
     "text": [
      "100% [..............................................................................] 12768 / 12768"
     ]
    },
    {
     "name": "stderr",
     "output_type": "stream",
     "text": [
      "2023-11-23 14:57:06,657 INFO Welcome to the CDS\n",
      "2023-11-23 14:57:06,658 INFO Sending request to https://cds.climate.copernicus.eu/api/v2/resources/reanalysis-era5-pressure-levels\n",
      "2023-11-23 14:57:06,851 INFO Request is queued\n",
      "2023-11-23 14:57:08,035 INFO Request is running\n",
      "2023-11-23 14:57:20,975 INFO Request is completed\n",
      "2023-11-23 14:57:22,325 INFO Welcome to the CDS\n",
      "2023-11-23 14:57:22,327 INFO Sending request to https://cds.climate.copernicus.eu/api/v2/resources/reanalysis-era5-pressure-levels\n"
     ]
    },
    {
     "name": "stdout",
     "output_type": "stream",
     "text": [
      "100% [..............................................................................] 12768 / 12768"
     ]
    },
    {
     "name": "stderr",
     "output_type": "stream",
     "text": [
      "2023-11-23 14:57:22,584 INFO Request is queued\n",
      "2023-11-23 14:57:27,901 INFO Request is running\n",
      "2023-11-23 14:57:44,485 INFO Request is completed\n",
      "2023-11-23 14:57:45,764 INFO Welcome to the CDS\n",
      "2023-11-23 14:57:45,766 INFO Sending request to https://cds.climate.copernicus.eu/api/v2/resources/reanalysis-era5-pressure-levels\n"
     ]
    },
    {
     "name": "stdout",
     "output_type": "stream",
     "text": [
      "100% [..............................................................................] 12768 / 12768"
     ]
    },
    {
     "name": "stderr",
     "output_type": "stream",
     "text": [
      "2023-11-23 14:57:45,969 INFO Request is queued\n",
      "2023-11-23 14:57:48,844 INFO Request is running\n",
      "2023-11-23 14:58:07,871 INFO Request is completed\n",
      "2023-11-23 14:58:08,945 INFO Welcome to the CDS\n",
      "2023-11-23 14:58:08,947 INFO Sending request to https://cds.climate.copernicus.eu/api/v2/resources/reanalysis-era5-pressure-levels\n"
     ]
    },
    {
     "name": "stdout",
     "output_type": "stream",
     "text": [
      "100% [..............................................................................] 10396 / 10396"
     ]
    },
    {
     "name": "stderr",
     "output_type": "stream",
     "text": [
      "2023-11-23 14:58:09,172 INFO Request is queued\n",
      "2023-11-23 14:58:18,048 INFO Request is running\n",
      "2023-11-23 14:58:31,086 INFO Request is completed\n",
      "2023-11-23 14:58:32,151 INFO Welcome to the CDS\n",
      "2023-11-23 14:58:32,152 INFO Sending request to https://cds.climate.copernicus.eu/api/v2/resources/reanalysis-era5-pressure-levels\n"
     ]
    },
    {
     "name": "stdout",
     "output_type": "stream",
     "text": [
      "100% [..............................................................................] 10396 / 10396"
     ]
    },
    {
     "name": "stderr",
     "output_type": "stream",
     "text": [
      "2023-11-23 14:58:32,971 INFO Request is queued\n",
      "2023-11-23 14:58:38,270 INFO Request is running\n",
      "2023-11-23 14:58:54,844 INFO Request is completed\n",
      "2023-11-23 14:58:56,167 INFO Welcome to the CDS\n",
      "2023-11-23 14:58:56,168 INFO Sending request to https://cds.climate.copernicus.eu/api/v2/resources/reanalysis-era5-pressure-levels\n"
     ]
    },
    {
     "name": "stdout",
     "output_type": "stream",
     "text": [
      "100% [..............................................................................] 10396 / 10396"
     ]
    },
    {
     "name": "stderr",
     "output_type": "stream",
     "text": [
      "2023-11-23 14:58:56,364 INFO Request is queued\n",
      "2023-11-23 14:58:59,223 INFO Request is running\n",
      "2023-11-23 14:59:10,463 INFO Request is completed\n",
      "2023-11-23 14:59:11,528 INFO Welcome to the CDS\n",
      "2023-11-23 14:59:11,529 INFO Sending request to https://cds.climate.copernicus.eu/api/v2/resources/reanalysis-era5-pressure-levels\n"
     ]
    },
    {
     "name": "stdout",
     "output_type": "stream",
     "text": [
      "100% [..............................................................................] 10396 / 10396"
     ]
    },
    {
     "name": "stderr",
     "output_type": "stream",
     "text": [
      "2023-11-23 14:59:11,745 INFO Request is queued\n",
      "2023-11-23 14:59:14,609 INFO Request is running\n",
      "2023-11-23 14:59:33,613 INFO Request is completed\n"
     ]
    },
    {
     "name": "stdout",
     "output_type": "stream",
     "text": [
      "100% [..............................................................................] 16356 / 16356"
     ]
    },
    {
     "name": "stderr",
     "output_type": "stream",
     "text": [
      "2023-11-23 14:59:35,127 INFO Welcome to the CDS\n",
      "2023-11-23 14:59:35,128 INFO Sending request to https://cds.climate.copernicus.eu/api/v2/resources/reanalysis-era5-pressure-levels\n",
      "2023-11-23 14:59:35,345 INFO Request is queued\n",
      "2023-11-23 14:59:36,525 INFO Request is running\n",
      "2023-11-23 14:59:57,214 INFO Request is completed\n"
     ]
    },
    {
     "name": "stdout",
     "output_type": "stream",
     "text": [
      "100% [..............................................................................] 16356 / 16356"
     ]
    },
    {
     "name": "stderr",
     "output_type": "stream",
     "text": [
      "2023-11-23 14:59:58,689 INFO Welcome to the CDS\n",
      "2023-11-23 14:59:58,690 INFO Sending request to https://cds.climate.copernicus.eu/api/v2/resources/reanalysis-era5-pressure-levels\n",
      "2023-11-23 14:59:58,920 INFO Request is queued\n",
      "2023-11-23 15:00:00,206 INFO Request is running\n",
      "2023-11-23 15:00:13,119 INFO Request is completed\n",
      "2023-11-23 15:00:14,376 INFO Welcome to the CDS\n",
      "2023-11-23 15:00:14,378 INFO Sending request to https://cds.climate.copernicus.eu/api/v2/resources/reanalysis-era5-pressure-levels\n"
     ]
    },
    {
     "name": "stdout",
     "output_type": "stream",
     "text": [
      "100% [..............................................................................] 10396 / 10396"
     ]
    },
    {
     "name": "stderr",
     "output_type": "stream",
     "text": [
      "2023-11-23 15:00:14,580 INFO Request is queued\n",
      "2023-11-23 15:00:15,899 INFO Request is running\n",
      "2023-11-23 15:00:28,814 INFO Request is completed\n",
      "2023-11-23 15:00:29,883 INFO Welcome to the CDS\n",
      "2023-11-23 15:00:29,884 INFO Sending request to https://cds.climate.copernicus.eu/api/v2/resources/reanalysis-era5-pressure-levels\n"
     ]
    },
    {
     "name": "stdout",
     "output_type": "stream",
     "text": [
      "100% [..............................................................................] 10396 / 10396"
     ]
    },
    {
     "name": "stderr",
     "output_type": "stream",
     "text": [
      "2023-11-23 15:00:30,100 INFO Request is queued\n",
      "2023-11-23 15:00:31,282 INFO Request is running\n",
      "2023-11-23 15:00:44,202 INFO Request is completed\n"
     ]
    },
    {
     "name": "stdout",
     "output_type": "stream",
     "text": [
      "100% [..............................................................................] 16360 / 16360"
     ]
    },
    {
     "name": "stderr",
     "output_type": "stream",
     "text": [
      "2023-11-23 15:00:45,420 INFO Welcome to the CDS\n",
      "2023-11-23 15:00:45,422 INFO Sending request to https://cds.climate.copernicus.eu/api/v2/resources/reanalysis-era5-pressure-levels\n",
      "2023-11-23 15:00:45,618 INFO Request is queued\n",
      "2023-11-23 15:00:48,483 INFO Request is running\n",
      "2023-11-23 15:00:59,713 INFO Request is completed\n"
     ]
    },
    {
     "name": "stdout",
     "output_type": "stream",
     "text": [
      "100% [..............................................................................] 16360 / 16360"
     ]
    },
    {
     "name": "stderr",
     "output_type": "stream",
     "text": [
      "2023-11-23 15:01:01,473 INFO Welcome to the CDS\n",
      "2023-11-23 15:01:01,474 INFO Sending request to https://cds.climate.copernicus.eu/api/v2/resources/reanalysis-era5-pressure-levels\n",
      "2023-11-23 15:01:01,742 INFO Request is queued\n",
      "2023-11-23 15:01:02,921 INFO Request is running\n",
      "2023-11-23 15:01:15,837 INFO Request is completed\n",
      "2023-11-23 15:01:16,897 INFO Welcome to the CDS\n",
      "2023-11-23 15:01:16,898 INFO Sending request to https://cds.climate.copernicus.eu/api/v2/resources/reanalysis-era5-pressure-levels\n"
     ]
    },
    {
     "name": "stdout",
     "output_type": "stream",
     "text": [
      "100% [..............................................................................] 10392 / 10392"
     ]
    },
    {
     "name": "stderr",
     "output_type": "stream",
     "text": [
      "2023-11-23 15:01:17,111 INFO Request is queued\n",
      "2023-11-23 15:01:18,295 INFO Request is running\n",
      "2023-11-23 15:01:31,217 INFO Request is completed\n",
      "2023-11-23 15:01:32,274 INFO Welcome to the CDS\n",
      "2023-11-23 15:01:32,276 INFO Sending request to https://cds.climate.copernicus.eu/api/v2/resources/reanalysis-era5-pressure-levels\n"
     ]
    },
    {
     "name": "stdout",
     "output_type": "stream",
     "text": [
      "100% [..............................................................................] 10396 / 10396"
     ]
    },
    {
     "name": "stderr",
     "output_type": "stream",
     "text": [
      "2023-11-23 15:01:32,459 INFO Request is queued\n",
      "2023-11-23 15:01:37,811 INFO Request is running\n",
      "2023-11-23 15:01:54,389 INFO Request is completed\n",
      "2023-11-23 15:01:55,674 INFO Welcome to the CDS\n",
      "2023-11-23 15:01:55,676 INFO Sending request to https://cds.climate.copernicus.eu/api/v2/resources/reanalysis-era5-pressure-levels\n"
     ]
    },
    {
     "name": "stdout",
     "output_type": "stream",
     "text": [
      "100% [..............................................................................] 10392 / 10392"
     ]
    },
    {
     "name": "stderr",
     "output_type": "stream",
     "text": [
      "2023-11-23 15:01:55,858 INFO Request is queued\n",
      "2023-11-23 15:02:04,706 INFO Request is running\n",
      "2023-11-23 15:02:29,377 INFO Request is completed\n",
      "2023-11-23 15:02:30,976 INFO Welcome to the CDS\n",
      "2023-11-23 15:02:30,976 INFO Sending request to https://cds.climate.copernicus.eu/api/v2/resources/reanalysis-era5-pressure-levels\n"
     ]
    },
    {
     "name": "stdout",
     "output_type": "stream",
     "text": [
      "100% [..............................................................................] 10400 / 10400"
     ]
    },
    {
     "name": "stderr",
     "output_type": "stream",
     "text": [
      "2023-11-23 15:02:31,197 INFO Request is queued\n",
      "2023-11-23 15:02:34,071 INFO Request is running\n",
      "2023-11-23 15:02:45,300 INFO Request is completed\n"
     ]
    },
    {
     "name": "stdout",
     "output_type": "stream",
     "text": [
      "100% [..............................................................................] 16356 / 16356"
     ]
    },
    {
     "name": "stderr",
     "output_type": "stream",
     "text": [
      "2023-11-23 15:02:47,061 INFO Welcome to the CDS\n",
      "2023-11-23 15:02:47,062 INFO Sending request to https://cds.climate.copernicus.eu/api/v2/resources/reanalysis-era5-pressure-levels\n",
      "2023-11-23 15:02:47,286 INFO Request is queued\n",
      "2023-11-23 15:02:52,583 INFO Request is running\n",
      "2023-11-23 15:03:09,286 INFO Request is completed\n"
     ]
    },
    {
     "name": "stdout",
     "output_type": "stream",
     "text": [
      "100% [..............................................................................] 16356 / 16356"
     ]
    },
    {
     "name": "stderr",
     "output_type": "stream",
     "text": [
      "2023-11-23 15:03:11,097 INFO Welcome to the CDS\n",
      "2023-11-23 15:03:11,100 INFO Sending request to https://cds.climate.copernicus.eu/api/v2/resources/reanalysis-era5-pressure-levels\n",
      "2023-11-23 15:03:11,419 INFO Request is queued\n",
      "2023-11-23 15:03:12,599 INFO Request is running\n",
      "2023-11-23 15:03:25,514 INFO Request is completed\n",
      "2023-11-23 15:03:26,569 INFO Welcome to the CDS\n",
      "2023-11-23 15:03:26,571 INFO Sending request to https://cds.climate.copernicus.eu/api/v2/resources/reanalysis-era5-pressure-levels\n"
     ]
    },
    {
     "name": "stdout",
     "output_type": "stream",
     "text": [
      "100% [..............................................................................] 12768 / 12768"
     ]
    },
    {
     "name": "stderr",
     "output_type": "stream",
     "text": [
      "2023-11-23 15:03:26,796 INFO Request is queued\n",
      "2023-11-23 15:03:27,980 INFO Request is running\n",
      "2023-11-23 15:03:40,899 INFO Request is completed\n",
      "2023-11-23 15:03:41,990 INFO Welcome to the CDS\n",
      "2023-11-23 15:03:41,991 INFO Sending request to https://cds.climate.copernicus.eu/api/v2/resources/reanalysis-era5-pressure-levels\n"
     ]
    },
    {
     "name": "stdout",
     "output_type": "stream",
     "text": [
      "100% [..............................................................................] 12768 / 12768"
     ]
    },
    {
     "name": "stderr",
     "output_type": "stream",
     "text": [
      "2023-11-23 15:03:42,173 INFO Request is queued\n",
      "2023-11-23 15:03:43,354 INFO Request is running\n",
      "2023-11-23 15:03:56,268 INFO Request is completed\n",
      "2023-11-23 15:03:57,333 INFO Welcome to the CDS\n",
      "2023-11-23 15:03:57,335 INFO Sending request to https://cds.climate.copernicus.eu/api/v2/resources/reanalysis-era5-pressure-levels\n"
     ]
    },
    {
     "name": "stdout",
     "output_type": "stream",
     "text": [
      "100% [..............................................................................] 10396 / 10396"
     ]
    },
    {
     "name": "stderr",
     "output_type": "stream",
     "text": [
      "2023-11-23 15:03:57,549 INFO Request is queued\n",
      "2023-11-23 15:03:58,735 INFO Request is running\n",
      "2023-11-23 15:04:11,648 INFO Request is completed\n",
      "2023-11-23 15:04:12,912 INFO Welcome to the CDS\n",
      "2023-11-23 15:04:12,914 INFO Sending request to https://cds.climate.copernicus.eu/api/v2/resources/reanalysis-era5-pressure-levels\n"
     ]
    },
    {
     "name": "stdout",
     "output_type": "stream",
     "text": [
      "100% [..............................................................................] 10400 / 10400"
     ]
    },
    {
     "name": "stderr",
     "output_type": "stream",
     "text": [
      "2023-11-23 15:04:13,113 INFO Request is queued\n",
      "2023-11-23 15:04:14,295 INFO Request is running\n",
      "2023-11-23 15:04:27,216 INFO Request is completed\n",
      "2023-11-23 15:04:28,435 INFO Welcome to the CDS\n",
      "2023-11-23 15:04:28,437 INFO Sending request to https://cds.climate.copernicus.eu/api/v2/resources/reanalysis-era5-pressure-levels\n"
     ]
    },
    {
     "name": "stdout",
     "output_type": "stream",
     "text": [
      "100% [..............................................................................] 10396 / 10396"
     ]
    },
    {
     "name": "stderr",
     "output_type": "stream",
     "text": [
      "2023-11-23 15:04:28,669 INFO Request is queued\n",
      "2023-11-23 15:04:29,853 INFO Request is running\n",
      "2023-11-23 15:04:42,769 INFO Request is completed\n",
      "2023-11-23 15:04:44,019 INFO Welcome to the CDS\n",
      "2023-11-23 15:04:44,021 INFO Sending request to https://cds.climate.copernicus.eu/api/v2/resources/reanalysis-era5-pressure-levels\n"
     ]
    },
    {
     "name": "stdout",
     "output_type": "stream",
     "text": [
      "100% [..............................................................................] 10396 / 10396"
     ]
    },
    {
     "name": "stderr",
     "output_type": "stream",
     "text": [
      "2023-11-23 15:04:44,256 INFO Request is queued\n",
      "2023-11-23 15:04:45,439 INFO Request is running\n",
      "2023-11-23 15:04:58,361 INFO Request is completed\n",
      "2023-11-23 15:04:59,416 INFO Welcome to the CDS\n",
      "2023-11-23 15:04:59,418 INFO Sending request to https://cds.climate.copernicus.eu/api/v2/resources/reanalysis-era5-pressure-levels\n"
     ]
    },
    {
     "name": "stdout",
     "output_type": "stream",
     "text": [
      "100% [..............................................................................] 10396 / 10396"
     ]
    },
    {
     "name": "stderr",
     "output_type": "stream",
     "text": [
      "2023-11-23 15:04:59,630 INFO Request is queued\n",
      "2023-11-23 15:05:00,810 INFO Request is running\n",
      "2023-11-23 15:05:13,730 INFO Request is completed\n",
      "2023-11-23 15:05:14,818 INFO Welcome to the CDS\n",
      "2023-11-23 15:05:14,819 INFO Sending request to https://cds.climate.copernicus.eu/api/v2/resources/reanalysis-era5-pressure-levels\n"
     ]
    },
    {
     "name": "stdout",
     "output_type": "stream",
     "text": [
      "100% [..............................................................................] 10400 / 10400"
     ]
    },
    {
     "name": "stderr",
     "output_type": "stream",
     "text": [
      "2023-11-23 15:05:15,017 INFO Request is queued\n",
      "2023-11-23 15:05:16,202 INFO Request is running\n",
      "2023-11-23 15:05:36,904 INFO Request is completed\n",
      "2023-11-23 15:05:38,540 INFO Welcome to the CDS\n",
      "2023-11-23 15:05:38,542 INFO Sending request to https://cds.climate.copernicus.eu/api/v2/resources/reanalysis-era5-pressure-levels\n"
     ]
    },
    {
     "name": "stdout",
     "output_type": "stream",
     "text": [
      "100% [..............................................................................] 10396 / 10396"
     ]
    },
    {
     "name": "stderr",
     "output_type": "stream",
     "text": [
      "2023-11-23 15:05:38,740 INFO Request is queued\n",
      "2023-11-23 15:05:39,925 INFO Request is running\n",
      "2023-11-23 15:05:52,845 INFO Request is completed\n",
      "2023-11-23 15:05:54,080 INFO Welcome to the CDS\n",
      "2023-11-23 15:05:54,082 INFO Sending request to https://cds.climate.copernicus.eu/api/v2/resources/reanalysis-era5-pressure-levels\n"
     ]
    },
    {
     "name": "stdout",
     "output_type": "stream",
     "text": [
      "100% [..............................................................................] 10396 / 10396"
     ]
    },
    {
     "name": "stderr",
     "output_type": "stream",
     "text": [
      "2023-11-23 15:05:54,839 INFO Request is queued\n",
      "2023-11-23 15:06:00,135 INFO Request is running\n",
      "2023-11-23 15:06:16,719 INFO Request is completed\n",
      "2023-11-23 15:06:18,027 INFO Welcome to the CDS\n",
      "2023-11-23 15:06:18,028 INFO Sending request to https://cds.climate.copernicus.eu/api/v2/resources/reanalysis-era5-pressure-levels\n"
     ]
    },
    {
     "name": "stdout",
     "output_type": "stream",
     "text": [
      "100% [..............................................................................] 12768 / 12768"
     ]
    },
    {
     "name": "stderr",
     "output_type": "stream",
     "text": [
      "2023-11-23 15:06:18,250 INFO Request is queued\n",
      "2023-11-23 15:06:21,113 INFO Request is running\n",
      "2023-11-23 15:06:32,351 INFO Request is completed\n",
      "2023-11-23 15:06:33,424 INFO Welcome to the CDS\n",
      "2023-11-23 15:06:33,425 INFO Sending request to https://cds.climate.copernicus.eu/api/v2/resources/reanalysis-era5-pressure-levels\n"
     ]
    },
    {
     "name": "stdout",
     "output_type": "stream",
     "text": [
      "100% [..............................................................................] 12768 / 12768"
     ]
    },
    {
     "name": "stderr",
     "output_type": "stream",
     "text": [
      "2023-11-23 15:06:33,643 INFO Request is queued\n",
      "2023-11-23 15:06:34,827 INFO Request is running\n",
      "2023-11-23 15:06:47,744 INFO Request is completed\n",
      "2023-11-23 15:06:48,812 INFO Welcome to the CDS\n",
      "2023-11-23 15:06:48,814 INFO Sending request to https://cds.climate.copernicus.eu/api/v2/resources/reanalysis-era5-pressure-levels\n"
     ]
    },
    {
     "name": "stdout",
     "output_type": "stream",
     "text": [
      "100% [..............................................................................] 10400 / 10400"
     ]
    },
    {
     "name": "stderr",
     "output_type": "stream",
     "text": [
      "2023-11-23 15:06:49,045 INFO Request is queued\n",
      "2023-11-23 15:06:54,339 INFO Request is running\n",
      "2023-11-23 15:07:10,920 INFO Request is completed\n",
      "2023-11-23 15:07:11,982 INFO Welcome to the CDS\n",
      "2023-11-23 15:07:11,984 INFO Sending request to https://cds.climate.copernicus.eu/api/v2/resources/reanalysis-era5-pressure-levels\n"
     ]
    },
    {
     "name": "stdout",
     "output_type": "stream",
     "text": [
      "100% [..............................................................................] 10396 / 10396"
     ]
    },
    {
     "name": "stderr",
     "output_type": "stream",
     "text": [
      "2023-11-23 15:07:12,186 INFO Request is queued\n",
      "2023-11-23 15:07:13,371 INFO Request is running\n",
      "2023-11-23 15:07:26,284 INFO Request is completed\n"
     ]
    },
    {
     "name": "stdout",
     "output_type": "stream",
     "text": [
      "100% [..............................................................................] 12768 / 12768"
     ]
    },
    {
     "name": "stderr",
     "output_type": "stream",
     "text": [
      "2023-11-23 15:07:27,514 INFO Welcome to the CDS\n",
      "2023-11-23 15:07:27,516 INFO Sending request to https://cds.climate.copernicus.eu/api/v2/resources/reanalysis-era5-pressure-levels\n",
      "2023-11-23 15:07:27,747 INFO Request is queued\n",
      "2023-11-23 15:07:28,931 INFO Request is running\n",
      "2023-11-23 15:07:41,840 INFO Request is completed\n"
     ]
    },
    {
     "name": "stdout",
     "output_type": "stream",
     "text": [
      "100% [..............................................................................] 12768 / 12768"
     ]
    },
    {
     "name": "stderr",
     "output_type": "stream",
     "text": [
      "2023-11-23 15:07:43,556 INFO Welcome to the CDS\n",
      "2023-11-23 15:07:43,557 INFO Sending request to https://cds.climate.copernicus.eu/api/v2/resources/reanalysis-era5-pressure-levels\n",
      "2023-11-23 15:07:43,745 INFO Request is queued\n",
      "2023-11-23 15:07:44,930 INFO Request is running\n",
      "2023-11-23 15:07:58,848 INFO Request is completed\n",
      "2023-11-23 15:07:59,907 INFO Welcome to the CDS\n",
      "2023-11-23 15:07:59,909 INFO Sending request to https://cds.climate.copernicus.eu/api/v2/resources/reanalysis-era5-pressure-levels\n"
     ]
    },
    {
     "name": "stdout",
     "output_type": "stream",
     "text": [
      "100% [..............................................................................] 12768 / 12768"
     ]
    },
    {
     "name": "stderr",
     "output_type": "stream",
     "text": [
      "2023-11-23 15:08:00,115 INFO Request is queued\n",
      "2023-11-23 15:08:01,299 INFO Request is running\n",
      "2023-11-23 15:08:14,217 INFO Request is completed\n",
      "2023-11-23 15:08:15,273 INFO Welcome to the CDS\n",
      "2023-11-23 15:08:15,275 INFO Sending request to https://cds.climate.copernicus.eu/api/v2/resources/reanalysis-era5-pressure-levels\n"
     ]
    },
    {
     "name": "stdout",
     "output_type": "stream",
     "text": [
      "100% [..............................................................................] 12768 / 12768"
     ]
    },
    {
     "name": "stderr",
     "output_type": "stream",
     "text": [
      "2023-11-23 15:08:15,511 INFO Request is queued\n",
      "2023-11-23 15:08:20,804 INFO Request is running\n",
      "2023-11-23 15:08:37,389 INFO Request is completed\n",
      "2023-11-23 15:08:38,683 INFO Welcome to the CDS\n",
      "2023-11-23 15:08:38,684 INFO Sending request to https://cds.climate.copernicus.eu/api/v2/resources/reanalysis-era5-pressure-levels\n"
     ]
    },
    {
     "name": "stdout",
     "output_type": "stream",
     "text": [
      "100% [..............................................................................] 10396 / 10396"
     ]
    },
    {
     "name": "stderr",
     "output_type": "stream",
     "text": [
      "2023-11-23 15:08:38,907 INFO Request is queued\n",
      "2023-11-23 15:08:40,099 INFO Request is running\n",
      "2023-11-23 15:08:53,035 INFO Request is completed\n",
      "2023-11-23 15:08:54,481 INFO Welcome to the CDS\n",
      "2023-11-23 15:08:54,483 INFO Sending request to https://cds.climate.copernicus.eu/api/v2/resources/reanalysis-era5-pressure-levels\n"
     ]
    },
    {
     "name": "stdout",
     "output_type": "stream",
     "text": [
      "100% [..............................................................................] 10396 / 10396"
     ]
    },
    {
     "name": "stderr",
     "output_type": "stream",
     "text": [
      "2023-11-23 15:08:54,716 INFO Request is queued\n",
      "2023-11-23 15:08:55,906 INFO Request is running\n",
      "2023-11-23 15:09:08,844 INFO Request is completed\n",
      "2023-11-23 15:09:10,313 INFO Welcome to the CDS\n",
      "2023-11-23 15:09:10,315 INFO Sending request to https://cds.climate.copernicus.eu/api/v2/resources/reanalysis-era5-pressure-levels\n"
     ]
    },
    {
     "name": "stdout",
     "output_type": "stream",
     "text": [
      "100% [..............................................................................] 10396 / 10396"
     ]
    },
    {
     "name": "stderr",
     "output_type": "stream",
     "text": [
      "2023-11-23 15:09:10,498 INFO Request is queued\n",
      "2023-11-23 15:09:11,687 INFO Request is running\n",
      "2023-11-23 15:09:24,622 INFO Request is completed\n",
      "2023-11-23 15:09:25,702 INFO Welcome to the CDS\n",
      "2023-11-23 15:09:25,704 INFO Sending request to https://cds.climate.copernicus.eu/api/v2/resources/reanalysis-era5-pressure-levels\n"
     ]
    },
    {
     "name": "stdout",
     "output_type": "stream",
     "text": [
      "100% [..............................................................................] 10400 / 10400"
     ]
    },
    {
     "name": "stderr",
     "output_type": "stream",
     "text": [
      "2023-11-23 15:09:25,909 INFO Request is queued\n",
      "2023-11-23 15:09:31,762 INFO Request is running\n",
      "2023-11-23 15:09:48,358 INFO Request is completed\n",
      "2023-11-23 15:09:49,411 INFO Welcome to the CDS\n",
      "2023-11-23 15:09:49,412 INFO Sending request to https://cds.climate.copernicus.eu/api/v2/resources/reanalysis-era5-pressure-levels\n"
     ]
    },
    {
     "name": "stdout",
     "output_type": "stream",
     "text": [
      "100% [..............................................................................] 10396 / 10396"
     ]
    },
    {
     "name": "stderr",
     "output_type": "stream",
     "text": [
      "2023-11-23 15:09:49,726 INFO Request is queued\n",
      "2023-11-23 15:09:50,915 INFO Request is running\n",
      "2023-11-23 15:10:03,857 INFO Request is completed\n",
      "2023-11-23 15:10:05,082 INFO Welcome to the CDS\n",
      "2023-11-23 15:10:05,084 INFO Sending request to https://cds.climate.copernicus.eu/api/v2/resources/reanalysis-era5-pressure-levels\n"
     ]
    },
    {
     "name": "stdout",
     "output_type": "stream",
     "text": [
      "100% [..............................................................................] 10396 / 10396"
     ]
    },
    {
     "name": "stderr",
     "output_type": "stream",
     "text": [
      "2023-11-23 15:10:05,289 INFO Request is queued\n",
      "2023-11-23 15:10:06,473 INFO Request is running\n",
      "2023-11-23 15:10:19,405 INFO Request is completed\n",
      "2023-11-23 15:10:20,464 INFO Welcome to the CDS\n",
      "2023-11-23 15:10:20,466 INFO Sending request to https://cds.climate.copernicus.eu/api/v2/resources/reanalysis-era5-pressure-levels\n"
     ]
    },
    {
     "name": "stdout",
     "output_type": "stream",
     "text": [
      "100% [..............................................................................] 10396 / 10396"
     ]
    },
    {
     "name": "stderr",
     "output_type": "stream",
     "text": [
      "2023-11-23 15:10:20,686 INFO Request is queued\n",
      "2023-11-23 15:10:23,565 INFO Request is running\n",
      "2023-11-23 15:10:34,825 INFO Request is completed\n",
      "2023-11-23 15:10:36,112 INFO Welcome to the CDS\n",
      "2023-11-23 15:10:36,113 INFO Sending request to https://cds.climate.copernicus.eu/api/v2/resources/reanalysis-era5-pressure-levels\n"
     ]
    },
    {
     "name": "stdout",
     "output_type": "stream",
     "text": [
      "100% [..............................................................................] 10400 / 10400"
     ]
    },
    {
     "name": "stderr",
     "output_type": "stream",
     "text": [
      "2023-11-23 15:10:36,357 INFO Request is queued\n",
      "2023-11-23 15:10:39,233 INFO Request is running\n",
      "2023-11-23 15:10:50,492 INFO Request is completed\n",
      "2023-11-23 15:10:51,573 INFO Welcome to the CDS\n",
      "2023-11-23 15:10:51,575 INFO Sending request to https://cds.climate.copernicus.eu/api/v2/resources/reanalysis-era5-pressure-levels\n"
     ]
    },
    {
     "name": "stdout",
     "output_type": "stream",
     "text": [
      "100% [..............................................................................] 10400 / 10400"
     ]
    },
    {
     "name": "stderr",
     "output_type": "stream",
     "text": [
      "2023-11-23 15:10:51,798 INFO Request is queued\n",
      "2023-11-23 15:10:53,011 INFO Request is running\n",
      "2023-11-23 15:11:05,957 INFO Request is completed\n",
      "2023-11-23 15:11:07,027 INFO Welcome to the CDS\n",
      "2023-11-23 15:11:07,029 INFO Sending request to https://cds.climate.copernicus.eu/api/v2/resources/reanalysis-era5-pressure-levels\n"
     ]
    },
    {
     "name": "stdout",
     "output_type": "stream",
     "text": [
      "100% [..............................................................................] 10396 / 10396"
     ]
    },
    {
     "name": "stderr",
     "output_type": "stream",
     "text": [
      "2023-11-23 15:11:07,271 INFO Request is queued\n",
      "2023-11-23 15:11:12,595 INFO Request is running\n",
      "2023-11-23 15:11:29,186 INFO Request is completed\n",
      "2023-11-23 15:11:30,673 INFO Welcome to the CDS\n",
      "2023-11-23 15:11:30,675 INFO Sending request to https://cds.climate.copernicus.eu/api/v2/resources/reanalysis-era5-pressure-levels\n"
     ]
    },
    {
     "name": "stdout",
     "output_type": "stream",
     "text": [
      "100% [..............................................................................] 10396 / 10396"
     ]
    },
    {
     "name": "stderr",
     "output_type": "stream",
     "text": [
      "2023-11-23 15:11:30,921 INFO Request is queued\n",
      "2023-11-23 15:11:33,797 INFO Request is running\n",
      "2023-11-23 15:11:52,838 INFO Request is completed\n",
      "2023-11-23 15:11:54,069 INFO Welcome to the CDS\n",
      "2023-11-23 15:11:54,071 INFO Sending request to https://cds.climate.copernicus.eu/api/v2/resources/reanalysis-era5-pressure-levels\n"
     ]
    },
    {
     "name": "stdout",
     "output_type": "stream",
     "text": [
      "100% [..............................................................................] 10396 / 10396"
     ]
    },
    {
     "name": "stderr",
     "output_type": "stream",
     "text": [
      "2023-11-23 15:11:54,273 INFO Request is queued\n",
      "2023-11-23 15:11:57,150 INFO Request is running\n",
      "2023-11-23 15:12:08,403 INFO Request is completed\n",
      "2023-11-23 15:12:09,476 INFO Welcome to the CDS\n",
      "2023-11-23 15:12:09,478 INFO Sending request to https://cds.climate.copernicus.eu/api/v2/resources/reanalysis-era5-pressure-levels\n"
     ]
    },
    {
     "name": "stdout",
     "output_type": "stream",
     "text": [
      "100% [..............................................................................] 10396 / 10396"
     ]
    },
    {
     "name": "stderr",
     "output_type": "stream",
     "text": [
      "2023-11-23 15:12:09,711 INFO Request is queued\n",
      "2023-11-23 15:12:12,583 INFO Request is running\n",
      "2023-11-23 15:12:23,826 INFO Request is completed\n",
      "2023-11-23 15:12:25,145 INFO Welcome to the CDS\n",
      "2023-11-23 15:12:25,146 INFO Sending request to https://cds.climate.copernicus.eu/api/v2/resources/reanalysis-era5-pressure-levels\n"
     ]
    },
    {
     "name": "stdout",
     "output_type": "stream",
     "text": [
      "100% [..............................................................................] 10400 / 10400"
     ]
    },
    {
     "name": "stderr",
     "output_type": "stream",
     "text": [
      "2023-11-23 15:12:25,332 INFO Request is queued\n",
      "2023-11-23 15:12:26,517 INFO Request is running\n",
      "2023-11-23 15:12:39,461 INFO Request is completed\n"
     ]
    },
    {
     "name": "stdout",
     "output_type": "stream",
     "text": [
      "100% [..............................................................................] 12768 / 12768"
     ]
    },
    {
     "name": "stderr",
     "output_type": "stream",
     "text": [
      "2023-11-23 15:12:40,718 INFO Welcome to the CDS\n",
      "2023-11-23 15:12:40,720 INFO Sending request to https://cds.climate.copernicus.eu/api/v2/resources/reanalysis-era5-pressure-levels\n",
      "2023-11-23 15:12:40,917 INFO Request is queued\n",
      "2023-11-23 15:12:43,808 INFO Request is running\n",
      "2023-11-23 15:12:55,067 INFO Request is completed\n",
      "2023-11-23 15:12:56,142 INFO Welcome to the CDS\n",
      "2023-11-23 15:12:56,143 INFO Sending request to https://cds.climate.copernicus.eu/api/v2/resources/reanalysis-era5-pressure-levels\n"
     ]
    },
    {
     "name": "stdout",
     "output_type": "stream",
     "text": [
      "100% [..............................................................................] 12768 / 12768"
     ]
    },
    {
     "name": "stderr",
     "output_type": "stream",
     "text": [
      "2023-11-23 15:12:56,358 INFO Request is queued\n",
      "2023-11-23 15:12:57,550 INFO Request is running\n",
      "2023-11-23 15:13:10,993 INFO Request is completed\n",
      "2023-11-23 15:13:12,363 INFO Welcome to the CDS\n",
      "2023-11-23 15:13:12,365 INFO Sending request to https://cds.climate.copernicus.eu/api/v2/resources/reanalysis-era5-pressure-levels\n"
     ]
    },
    {
     "name": "stdout",
     "output_type": "stream",
     "text": [
      "100% [..............................................................................] 10396 / 10396"
     ]
    },
    {
     "name": "stderr",
     "output_type": "stream",
     "text": [
      "2023-11-23 15:13:12,548 INFO Request is queued\n",
      "2023-11-23 15:13:13,733 INFO Request is running\n",
      "2023-11-23 15:13:26,669 INFO Request is completed\n",
      "2023-11-23 15:13:27,735 INFO Welcome to the CDS\n",
      "2023-11-23 15:13:27,736 INFO Sending request to https://cds.climate.copernicus.eu/api/v2/resources/reanalysis-era5-pressure-levels\n"
     ]
    },
    {
     "name": "stdout",
     "output_type": "stream",
     "text": [
      "100% [..............................................................................] 10396 / 10396"
     ]
    },
    {
     "name": "stderr",
     "output_type": "stream",
     "text": [
      "2023-11-23 15:13:27,955 INFO Request is queued\n",
      "2023-11-23 15:13:29,145 INFO Request is running\n",
      "2023-11-23 15:13:42,075 INFO Request is completed\n"
     ]
    },
    {
     "name": "stdout",
     "output_type": "stream",
     "text": [
      "100% [..............................................................................] 12768 / 12768"
     ]
    },
    {
     "name": "stderr",
     "output_type": "stream",
     "text": [
      "2023-11-23 15:13:43,289 INFO Welcome to the CDS\n",
      "2023-11-23 15:13:43,290 INFO Sending request to https://cds.climate.copernicus.eu/api/v2/resources/reanalysis-era5-pressure-levels\n",
      "2023-11-23 15:13:43,481 INFO Request is queued\n",
      "2023-11-23 15:13:44,664 INFO Request is running\n",
      "2023-11-23 15:13:57,583 INFO Request is completed\n",
      "2023-11-23 15:13:58,656 INFO Welcome to the CDS\n",
      "2023-11-23 15:13:58,658 INFO Sending request to https://cds.climate.copernicus.eu/api/v2/resources/reanalysis-era5-pressure-levels\n"
     ]
    },
    {
     "name": "stdout",
     "output_type": "stream",
     "text": [
      "100% [..............................................................................] 12772 / 12772"
     ]
    },
    {
     "name": "stderr",
     "output_type": "stream",
     "text": [
      "2023-11-23 15:13:58,851 INFO Request is queued\n",
      "2023-11-23 15:14:00,039 INFO Request is running\n",
      "2023-11-23 15:14:12,965 INFO Request is completed\n",
      "2023-11-23 15:14:14,256 INFO Welcome to the CDS\n",
      "2023-11-23 15:14:14,257 INFO Sending request to https://cds.climate.copernicus.eu/api/v2/resources/reanalysis-era5-pressure-levels\n"
     ]
    },
    {
     "name": "stdout",
     "output_type": "stream",
     "text": [
      "100% [..............................................................................] 10396 / 10396"
     ]
    },
    {
     "name": "stderr",
     "output_type": "stream",
     "text": [
      "2023-11-23 15:14:14,441 INFO Request is queued\n",
      "2023-11-23 15:14:15,627 INFO Request is running\n",
      "2023-11-23 15:14:28,545 INFO Request is completed\n",
      "2023-11-23 15:14:29,606 INFO Welcome to the CDS\n",
      "2023-11-23 15:14:29,608 INFO Sending request to https://cds.climate.copernicus.eu/api/v2/resources/reanalysis-era5-pressure-levels\n"
     ]
    },
    {
     "name": "stdout",
     "output_type": "stream",
     "text": [
      "100% [..............................................................................] 10396 / 10396"
     ]
    },
    {
     "name": "stderr",
     "output_type": "stream",
     "text": [
      "2023-11-23 15:14:29,834 INFO Request is queued\n",
      "2023-11-23 15:14:31,017 INFO Request is running\n",
      "2023-11-23 15:14:51,723 INFO Request is completed\n"
     ]
    },
    {
     "name": "stdout",
     "output_type": "stream",
     "text": [
      "100% [..............................................................................] 12768 / 12768"
     ]
    },
    {
     "name": "stderr",
     "output_type": "stream",
     "text": [
      "2023-11-23 15:14:53,225 INFO Welcome to the CDS\n",
      "2023-11-23 15:14:53,227 INFO Sending request to https://cds.climate.copernicus.eu/api/v2/resources/reanalysis-era5-pressure-levels\n",
      "2023-11-23 15:14:53,426 INFO Request is queued\n",
      "2023-11-23 15:14:54,610 INFO Request is running\n",
      "2023-11-23 15:15:07,525 INFO Request is completed\n",
      "2023-11-23 15:15:08,591 INFO Welcome to the CDS\n",
      "2023-11-23 15:15:08,592 INFO Sending request to https://cds.climate.copernicus.eu/api/v2/resources/reanalysis-era5-pressure-levels\n"
     ]
    },
    {
     "name": "stdout",
     "output_type": "stream",
     "text": [
      "100% [..............................................................................] 12768 / 12768"
     ]
    },
    {
     "name": "stderr",
     "output_type": "stream",
     "text": [
      "2023-11-23 15:15:08,774 INFO Request is queued\n",
      "2023-11-23 15:15:09,959 INFO Request is running\n",
      "2023-11-23 15:15:30,673 INFO Request is completed\n",
      "2023-11-23 15:15:32,027 INFO Welcome to the CDS\n",
      "2023-11-23 15:15:32,029 INFO Sending request to https://cds.climate.copernicus.eu/api/v2/resources/reanalysis-era5-pressure-levels\n"
     ]
    },
    {
     "name": "stdout",
     "output_type": "stream",
     "text": [
      "100% [..............................................................................] 10400 / 10400"
     ]
    },
    {
     "name": "stderr",
     "output_type": "stream",
     "text": [
      "2023-11-23 15:15:32,290 INFO Request is queued\n",
      "2023-11-23 15:15:37,598 INFO Request is running\n",
      "2023-11-23 15:15:54,571 INFO Request is completed\n",
      "2023-11-23 15:15:55,638 INFO Welcome to the CDS\n",
      "2023-11-23 15:15:55,639 INFO Sending request to https://cds.climate.copernicus.eu/api/v2/resources/reanalysis-era5-pressure-levels\n"
     ]
    },
    {
     "name": "stdout",
     "output_type": "stream",
     "text": [
      "100% [..............................................................................] 10396 / 10396"
     ]
    },
    {
     "name": "stderr",
     "output_type": "stream",
     "text": [
      "2023-11-23 15:15:55,866 INFO Request is queued\n",
      "2023-11-23 15:15:58,742 INFO Request is running\n",
      "2023-11-23 15:16:09,980 INFO Request is completed\n",
      "2023-11-23 15:16:11,059 INFO Welcome to the CDS\n",
      "2023-11-23 15:16:11,061 INFO Sending request to https://cds.climate.copernicus.eu/api/v2/resources/reanalysis-era5-pressure-levels\n"
     ]
    },
    {
     "name": "stdout",
     "output_type": "stream",
     "text": [
      "100% [..............................................................................] 10396 / 10396"
     ]
    },
    {
     "name": "stderr",
     "output_type": "stream",
     "text": [
      "2023-11-23 15:16:11,284 INFO Request is queued\n",
      "2023-11-23 15:16:12,475 INFO Request is running\n",
      "2023-11-23 15:16:25,401 INFO Request is completed\n",
      "2023-11-23 15:16:26,652 INFO Welcome to the CDS\n",
      "2023-11-23 15:16:26,654 INFO Sending request to https://cds.climate.copernicus.eu/api/v2/resources/reanalysis-era5-pressure-levels\n"
     ]
    },
    {
     "name": "stdout",
     "output_type": "stream",
     "text": [
      "100% [..............................................................................] 10396 / 10396"
     ]
    },
    {
     "name": "stderr",
     "output_type": "stream",
     "text": [
      "2023-11-23 15:16:26,835 INFO Request is queued\n",
      "2023-11-23 15:16:28,024 INFO Request is running\n",
      "2023-11-23 15:16:41,508 INFO Request is completed\n",
      "2023-11-23 15:16:42,590 INFO Welcome to the CDS\n",
      "2023-11-23 15:16:42,591 INFO Sending request to https://cds.climate.copernicus.eu/api/v2/resources/reanalysis-era5-pressure-levels\n"
     ]
    },
    {
     "name": "stdout",
     "output_type": "stream",
     "text": [
      "100% [..............................................................................] 10396 / 10396"
     ]
    },
    {
     "name": "stderr",
     "output_type": "stream",
     "text": [
      "2023-11-23 15:16:42,811 INFO Request is queued\n",
      "2023-11-23 15:16:44,024 INFO Request is running\n",
      "2023-11-23 15:16:56,967 INFO Request is completed\n",
      "2023-11-23 15:16:58,334 INFO Welcome to the CDS\n",
      "2023-11-23 15:16:58,335 INFO Sending request to https://cds.climate.copernicus.eu/api/v2/resources/reanalysis-era5-pressure-levels\n"
     ]
    },
    {
     "name": "stdout",
     "output_type": "stream",
     "text": [
      "100% [..............................................................................] 10396 / 10396"
     ]
    },
    {
     "name": "stderr",
     "output_type": "stream",
     "text": [
      "2023-11-23 15:16:58,571 INFO Request is queued\n",
      "2023-11-23 15:16:59,767 INFO Request is running\n",
      "2023-11-23 15:17:12,724 INFO Request is completed\n",
      "2023-11-23 15:17:14,075 INFO Welcome to the CDS\n",
      "2023-11-23 15:17:14,077 INFO Sending request to https://cds.climate.copernicus.eu/api/v2/resources/reanalysis-era5-pressure-levels\n"
     ]
    },
    {
     "name": "stdout",
     "output_type": "stream",
     "text": [
      "100% [..............................................................................] 10400 / 10400"
     ]
    },
    {
     "name": "stderr",
     "output_type": "stream",
     "text": [
      "2023-11-23 15:17:14,319 INFO Request is queued\n",
      "2023-11-23 15:17:15,511 INFO Request is running\n",
      "2023-11-23 15:17:28,464 INFO Request is completed\n",
      "2023-11-23 15:17:29,529 INFO Welcome to the CDS\n",
      "2023-11-23 15:17:29,531 INFO Sending request to https://cds.climate.copernicus.eu/api/v2/resources/reanalysis-era5-pressure-levels\n"
     ]
    },
    {
     "name": "stdout",
     "output_type": "stream",
     "text": [
      "100% [..............................................................................] 10396 / 10396"
     ]
    },
    {
     "name": "stderr",
     "output_type": "stream",
     "text": [
      "2023-11-23 15:17:29,762 INFO Request is queued\n",
      "2023-11-23 15:17:30,957 INFO Request is running\n",
      "2023-11-23 15:17:51,702 INFO Request is completed\n",
      "2023-11-23 15:17:53,165 INFO Welcome to the CDS\n",
      "2023-11-23 15:17:53,167 INFO Sending request to https://cds.climate.copernicus.eu/api/v2/resources/reanalysis-era5-pressure-levels\n"
     ]
    },
    {
     "name": "stdout",
     "output_type": "stream",
     "text": [
      "100% [..............................................................................] 10396 / 10396"
     ]
    },
    {
     "name": "stderr",
     "output_type": "stream",
     "text": [
      "2023-11-23 15:17:53,404 INFO Request is queued\n",
      "2023-11-23 15:17:54,600 INFO Request is running\n",
      "2023-11-23 15:18:07,552 INFO Request is completed\n",
      "2023-11-23 15:18:08,647 INFO Welcome to the CDS\n",
      "2023-11-23 15:18:08,649 INFO Sending request to https://cds.climate.copernicus.eu/api/v2/resources/reanalysis-era5-pressure-levels\n"
     ]
    },
    {
     "name": "stdout",
     "output_type": "stream",
     "text": [
      "100% [..............................................................................] 10392 / 10392"
     ]
    },
    {
     "name": "stderr",
     "output_type": "stream",
     "text": [
      "2023-11-23 15:18:08,856 INFO Request is queued\n",
      "2023-11-23 15:18:10,047 INFO Request is running\n",
      "2023-11-23 15:18:23,001 INFO Request is completed\n",
      "2023-11-23 15:18:24,333 INFO Welcome to the CDS\n",
      "2023-11-23 15:18:24,334 INFO Sending request to https://cds.climate.copernicus.eu/api/v2/resources/reanalysis-era5-pressure-levels\n"
     ]
    },
    {
     "name": "stdout",
     "output_type": "stream",
     "text": [
      "100% [..............................................................................] 10396 / 10396"
     ]
    },
    {
     "name": "stderr",
     "output_type": "stream",
     "text": [
      "2023-11-23 15:18:24,572 INFO Request is queued\n",
      "2023-11-23 15:18:25,761 INFO Request is running\n",
      "2023-11-23 15:18:38,710 INFO Request is completed\n",
      "2023-11-23 15:18:39,806 INFO Welcome to the CDS\n",
      "2023-11-23 15:18:39,807 INFO Sending request to https://cds.climate.copernicus.eu/api/v2/resources/reanalysis-era5-pressure-levels\n"
     ]
    },
    {
     "name": "stdout",
     "output_type": "stream",
     "text": [
      "100% [..............................................................................] 10400 / 10400"
     ]
    },
    {
     "name": "stderr",
     "output_type": "stream",
     "text": [
      "2023-11-23 15:18:40,023 INFO Request is queued\n",
      "2023-11-23 15:18:41,217 INFO Request is running\n",
      "2023-11-23 15:18:54,152 INFO Request is completed\n",
      "2023-11-23 15:18:55,245 INFO Welcome to the CDS\n",
      "2023-11-23 15:18:55,246 INFO Sending request to https://cds.climate.copernicus.eu/api/v2/resources/reanalysis-era5-pressure-levels\n"
     ]
    },
    {
     "name": "stdout",
     "output_type": "stream",
     "text": [
      "100% [..............................................................................] 10400 / 10400"
     ]
    },
    {
     "name": "stderr",
     "output_type": "stream",
     "text": [
      "2023-11-23 15:18:55,455 INFO Request is queued\n",
      "2023-11-23 15:18:56,646 INFO Request is running\n",
      "2023-11-23 15:19:09,601 INFO Request is completed\n",
      "2023-11-23 15:19:10,683 INFO Welcome to the CDS\n",
      "2023-11-23 15:19:10,685 INFO Sending request to https://cds.climate.copernicus.eu/api/v2/resources/reanalysis-era5-pressure-levels\n"
     ]
    },
    {
     "name": "stdout",
     "output_type": "stream",
     "text": [
      "100% [..............................................................................] 10400 / 10400"
     ]
    },
    {
     "name": "stderr",
     "output_type": "stream",
     "text": [
      "2023-11-23 15:19:10,873 INFO Request is queued\n",
      "2023-11-23 15:19:13,751 INFO Request is running\n",
      "2023-11-23 15:19:32,795 INFO Request is completed\n",
      "2023-11-23 15:19:33,866 INFO Welcome to the CDS\n",
      "2023-11-23 15:19:33,868 INFO Sending request to https://cds.climate.copernicus.eu/api/v2/resources/reanalysis-era5-pressure-levels\n"
     ]
    },
    {
     "name": "stdout",
     "output_type": "stream",
     "text": [
      "100% [..............................................................................] 10396 / 10396"
     ]
    },
    {
     "name": "stderr",
     "output_type": "stream",
     "text": [
      "2023-11-23 15:19:34,054 INFO Request is queued\n",
      "2023-11-23 15:19:35,249 INFO Request is running\n",
      "2023-11-23 15:19:48,186 INFO Request is completed\n",
      "2023-11-23 15:19:49,558 INFO Welcome to the CDS\n",
      "2023-11-23 15:19:49,559 INFO Sending request to https://cds.climate.copernicus.eu/api/v2/resources/reanalysis-era5-pressure-levels\n"
     ]
    },
    {
     "name": "stdout",
     "output_type": "stream",
     "text": [
      "100% [..............................................................................] 10396 / 10396"
     ]
    },
    {
     "name": "stderr",
     "output_type": "stream",
     "text": [
      "2023-11-23 15:19:49,762 INFO Request is queued\n",
      "2023-11-23 15:19:50,954 INFO Request is running\n",
      "2023-11-23 15:20:23,825 INFO Request is completed\n",
      "2023-11-23 15:20:25,224 INFO Welcome to the CDS\n",
      "2023-11-23 15:20:25,225 INFO Sending request to https://cds.climate.copernicus.eu/api/v2/resources/reanalysis-era5-pressure-levels\n"
     ]
    },
    {
     "name": "stdout",
     "output_type": "stream",
     "text": [
      "100% [..............................................................................] 10400 / 10400"
     ]
    },
    {
     "name": "stderr",
     "output_type": "stream",
     "text": [
      "2023-11-23 15:20:25,468 INFO Request is queued\n",
      "2023-11-23 15:20:26,652 INFO Request is running\n",
      "2023-11-23 15:20:39,599 INFO Request is completed\n",
      "2023-11-23 15:20:40,927 INFO Welcome to the CDS\n",
      "2023-11-23 15:20:40,929 INFO Sending request to https://cds.climate.copernicus.eu/api/v2/resources/reanalysis-era5-pressure-levels\n"
     ]
    },
    {
     "name": "stdout",
     "output_type": "stream",
     "text": [
      "100% [..............................................................................] 10396 / 10396"
     ]
    },
    {
     "name": "stderr",
     "output_type": "stream",
     "text": [
      "2023-11-23 15:20:41,153 INFO Request is queued\n",
      "2023-11-23 15:20:42,356 INFO Request is running\n",
      "2023-11-23 15:20:55,301 INFO Request is completed\n",
      "2023-11-23 15:20:56,388 INFO Welcome to the CDS\n",
      "2023-11-23 15:20:56,389 INFO Sending request to https://cds.climate.copernicus.eu/api/v2/resources/reanalysis-era5-pressure-levels\n"
     ]
    },
    {
     "name": "stdout",
     "output_type": "stream",
     "text": [
      "100% [..............................................................................] 10400 / 10400"
     ]
    },
    {
     "name": "stderr",
     "output_type": "stream",
     "text": [
      "2023-11-23 15:20:56,604 INFO Request is queued\n",
      "2023-11-23 15:20:57,795 INFO Request is running\n",
      "2023-11-23 15:21:10,738 INFO Request is completed\n",
      "2023-11-23 15:21:11,801 INFO Welcome to the CDS\n",
      "2023-11-23 15:21:11,802 INFO Sending request to https://cds.climate.copernicus.eu/api/v2/resources/reanalysis-era5-pressure-levels\n"
     ]
    },
    {
     "name": "stdout",
     "output_type": "stream",
     "text": [
      "100% [..............................................................................] 10396 / 10396"
     ]
    },
    {
     "name": "stderr",
     "output_type": "stream",
     "text": [
      "2023-11-23 15:21:12,003 INFO Request is queued\n",
      "2023-11-23 15:21:13,195 INFO Request is running\n",
      "2023-11-23 15:21:26,133 INFO Request is completed\n",
      "2023-11-23 15:21:27,219 INFO Welcome to the CDS\n",
      "2023-11-23 15:21:27,221 INFO Sending request to https://cds.climate.copernicus.eu/api/v2/resources/reanalysis-era5-pressure-levels\n"
     ]
    },
    {
     "name": "stdout",
     "output_type": "stream",
     "text": [
      "100% [..............................................................................] 10396 / 10396"
     ]
    },
    {
     "name": "stderr",
     "output_type": "stream",
     "text": [
      "2023-11-23 15:21:27,505 INFO Request is queued\n",
      "2023-11-23 15:21:28,693 INFO Request is running\n",
      "2023-11-23 15:21:41,636 INFO Request is completed\n",
      "2023-11-23 15:21:42,707 INFO Welcome to the CDS\n",
      "2023-11-23 15:21:42,709 INFO Sending request to https://cds.climate.copernicus.eu/api/v2/resources/reanalysis-era5-pressure-levels\n"
     ]
    },
    {
     "name": "stdout",
     "output_type": "stream",
     "text": [
      "100% [..............................................................................] 10396 / 10396"
     ]
    },
    {
     "name": "stderr",
     "output_type": "stream",
     "text": [
      "2023-11-23 15:21:42,962 INFO Request is queued\n",
      "2023-11-23 15:21:44,156 INFO Request is running\n",
      "2023-11-23 15:21:57,230 INFO Request is completed\n",
      "2023-11-23 15:21:58,305 INFO Welcome to the CDS\n",
      "2023-11-23 15:21:58,307 INFO Sending request to https://cds.climate.copernicus.eu/api/v2/resources/reanalysis-era5-pressure-levels\n"
     ]
    },
    {
     "name": "stdout",
     "output_type": "stream",
     "text": [
      "100% [..............................................................................] 12768 / 12768"
     ]
    },
    {
     "name": "stderr",
     "output_type": "stream",
     "text": [
      "2023-11-23 15:21:58,553 INFO Request is queued\n",
      "2023-11-23 15:21:59,741 INFO Request is running\n",
      "2023-11-23 15:22:12,680 INFO Request is completed\n",
      "2023-11-23 15:22:13,747 INFO Welcome to the CDS\n",
      "2023-11-23 15:22:13,748 INFO Sending request to https://cds.climate.copernicus.eu/api/v2/resources/reanalysis-era5-pressure-levels\n"
     ]
    },
    {
     "name": "stdout",
     "output_type": "stream",
     "text": [
      "100% [..............................................................................] 12768 / 12768"
     ]
    },
    {
     "name": "stderr",
     "output_type": "stream",
     "text": [
      "2023-11-23 15:22:13,977 INFO Request is queued\n",
      "2023-11-23 15:22:15,168 INFO Request is running\n",
      "2023-11-23 15:22:28,119 INFO Request is completed\n",
      "2023-11-23 15:22:29,555 INFO Welcome to the CDS\n",
      "2023-11-23 15:22:29,557 INFO Sending request to https://cds.climate.copernicus.eu/api/v2/resources/reanalysis-era5-pressure-levels\n"
     ]
    },
    {
     "name": "stdout",
     "output_type": "stream",
     "text": [
      "100% [..............................................................................] 12764 / 12764"
     ]
    },
    {
     "name": "stderr",
     "output_type": "stream",
     "text": [
      "2023-11-23 15:22:29,744 INFO Request is queued\n",
      "2023-11-23 15:22:30,934 INFO Request is running\n",
      "2023-11-23 15:22:43,878 INFO Request is completed\n",
      "2023-11-23 15:22:45,115 INFO Welcome to the CDS\n",
      "2023-11-23 15:22:45,117 INFO Sending request to https://cds.climate.copernicus.eu/api/v2/resources/reanalysis-era5-pressure-levels\n"
     ]
    },
    {
     "name": "stdout",
     "output_type": "stream",
     "text": [
      "100% [..............................................................................] 12768 / 12768"
     ]
    },
    {
     "name": "stderr",
     "output_type": "stream",
     "text": [
      "2023-11-23 15:22:45,320 INFO Request is queued\n",
      "2023-11-23 15:22:46,508 INFO Request is running\n",
      "2023-11-23 15:23:07,242 INFO Request is completed\n",
      "2023-11-23 15:23:08,693 INFO Welcome to the CDS\n",
      "2023-11-23 15:23:08,695 INFO Sending request to https://cds.climate.copernicus.eu/api/v2/resources/reanalysis-era5-pressure-levels\n"
     ]
    },
    {
     "name": "stdout",
     "output_type": "stream",
     "text": [
      "100% [..............................................................................] 10392 / 10392"
     ]
    },
    {
     "name": "stderr",
     "output_type": "stream",
     "text": [
      "2023-11-23 15:23:08,899 INFO Request is queued\n",
      "2023-11-23 15:23:10,091 INFO Request is running\n",
      "2023-11-23 15:23:42,386 INFO Request is completed\n",
      "2023-11-23 15:23:43,677 INFO Welcome to the CDS\n",
      "2023-11-23 15:23:43,678 INFO Sending request to https://cds.climate.copernicus.eu/api/v2/resources/reanalysis-era5-pressure-levels\n"
     ]
    },
    {
     "name": "stdout",
     "output_type": "stream",
     "text": [
      "100% [..............................................................................] 10400 / 10400"
     ]
    },
    {
     "name": "stderr",
     "output_type": "stream",
     "text": [
      "2023-11-23 15:23:43,898 INFO Request is queued\n",
      "2023-11-23 15:23:45,090 INFO Request is running\n",
      "2023-11-23 15:23:58,587 INFO Request is completed\n"
     ]
    },
    {
     "name": "stdout",
     "output_type": "stream",
     "text": [
      "100% [..............................................................................] 16356 / 16356"
     ]
    },
    {
     "name": "stderr",
     "output_type": "stream",
     "text": [
      "2023-11-23 15:24:00,008 INFO Welcome to the CDS\n",
      "2023-11-23 15:24:00,009 INFO Sending request to https://cds.climate.copernicus.eu/api/v2/resources/reanalysis-era5-pressure-levels\n",
      "2023-11-23 15:24:00,232 INFO Request is queued\n",
      "2023-11-23 15:24:01,425 INFO Request is running\n",
      "2023-11-23 15:24:14,361 INFO Request is completed\n"
     ]
    },
    {
     "name": "stdout",
     "output_type": "stream",
     "text": [
      "100% [..............................................................................] 16356 / 16356"
     ]
    },
    {
     "name": "stderr",
     "output_type": "stream",
     "text": [
      "2023-11-23 15:24:15,903 INFO Welcome to the CDS\n",
      "2023-11-23 15:24:15,904 INFO Sending request to https://cds.climate.copernicus.eu/api/v2/resources/reanalysis-era5-pressure-levels\n",
      "2023-11-23 15:24:16,098 INFO Request is queued\n",
      "2023-11-23 15:24:17,288 INFO Request is running\n",
      "2023-11-23 15:24:30,214 INFO Request is completed\n",
      "2023-11-23 15:24:31,273 INFO Welcome to the CDS\n",
      "2023-11-23 15:24:31,275 INFO Sending request to https://cds.climate.copernicus.eu/api/v2/resources/reanalysis-era5-pressure-levels\n"
     ]
    },
    {
     "name": "stdout",
     "output_type": "stream",
     "text": [
      "100% [..............................................................................] 12772 / 12772"
     ]
    },
    {
     "name": "stderr",
     "output_type": "stream",
     "text": [
      "2023-11-23 15:24:31,492 INFO Request is queued\n",
      "2023-11-23 15:24:32,685 INFO Request is running\n",
      "2023-11-23 15:24:45,622 INFO Request is completed\n"
     ]
    },
    {
     "name": "stdout",
     "output_type": "stream",
     "text": [
      "100% [..............................................................................] 12768 / 12768"
     ]
    },
    {
     "name": "stderr",
     "output_type": "stream",
     "text": [
      "2023-11-23 15:24:47,427 INFO Welcome to the CDS\n",
      "2023-11-23 15:24:47,429 INFO Sending request to https://cds.climate.copernicus.eu/api/v2/resources/reanalysis-era5-pressure-levels\n",
      "2023-11-23 15:24:47,633 INFO Request is queued\n",
      "2023-11-23 15:24:48,822 INFO Request is running\n",
      "2023-11-23 15:25:01,753 INFO Request is completed\n",
      "2023-11-23 15:25:03,088 INFO Welcome to the CDS\n",
      "2023-11-23 15:25:03,089 INFO Sending request to https://cds.climate.copernicus.eu/api/v2/resources/reanalysis-era5-pressure-levels\n"
     ]
    },
    {
     "name": "stdout",
     "output_type": "stream",
     "text": [
      "100% [..............................................................................] 10400 / 10400"
     ]
    },
    {
     "name": "stderr",
     "output_type": "stream",
     "text": [
      "2023-11-23 15:25:03,308 INFO Request is queued\n",
      "2023-11-23 15:25:08,609 INFO Request is running\n",
      "2023-11-23 15:25:25,203 INFO Request is completed\n",
      "2023-11-23 15:25:26,698 INFO Welcome to the CDS\n",
      "2023-11-23 15:25:26,700 INFO Sending request to https://cds.climate.copernicus.eu/api/v2/resources/reanalysis-era5-pressure-levels\n"
     ]
    },
    {
     "name": "stdout",
     "output_type": "stream",
     "text": [
      "100% [..............................................................................] 10396 / 10396"
     ]
    },
    {
     "name": "stderr",
     "output_type": "stream",
     "text": [
      "2023-11-23 15:25:26,891 INFO Request is queued\n",
      "2023-11-23 15:25:28,083 INFO Request is running\n",
      "2023-11-23 15:25:41,021 INFO Request is completed\n",
      "2023-11-23 15:25:42,284 INFO Welcome to the CDS\n",
      "2023-11-23 15:25:42,286 INFO Sending request to https://cds.climate.copernicus.eu/api/v2/resources/reanalysis-era5-pressure-levels\n"
     ]
    },
    {
     "name": "stdout",
     "output_type": "stream",
     "text": [
      "100% [..............................................................................] 12772 / 12772"
     ]
    },
    {
     "name": "stderr",
     "output_type": "stream",
     "text": [
      "2023-11-23 15:25:42,473 INFO Request is queued\n",
      "2023-11-23 15:25:47,778 INFO Request is running\n",
      "2023-11-23 15:26:04,382 INFO Request is completed\n",
      "2023-11-23 15:26:05,718 INFO Welcome to the CDS\n",
      "2023-11-23 15:26:05,719 INFO Sending request to https://cds.climate.copernicus.eu/api/v2/resources/reanalysis-era5-pressure-levels\n"
     ]
    },
    {
     "name": "stdout",
     "output_type": "stream",
     "text": [
      "100% [..............................................................................] 12768 / 12768"
     ]
    },
    {
     "name": "stderr",
     "output_type": "stream",
     "text": [
      "2023-11-23 15:26:05,960 INFO Request is queued\n",
      "2023-11-23 15:26:08,833 INFO Request is running\n",
      "2023-11-23 15:26:20,083 INFO Request is completed\n",
      "2023-11-23 15:26:21,443 INFO Welcome to the CDS\n",
      "2023-11-23 15:26:21,444 INFO Sending request to https://cds.climate.copernicus.eu/api/v2/resources/reanalysis-era5-pressure-levels\n"
     ]
    },
    {
     "name": "stdout",
     "output_type": "stream",
     "text": [
      "100% [..............................................................................] 12772 / 12772"
     ]
    },
    {
     "name": "stderr",
     "output_type": "stream",
     "text": [
      "2023-11-23 15:26:21,642 INFO Request is queued\n",
      "2023-11-23 15:26:24,521 INFO Request is running\n",
      "2023-11-23 15:26:35,773 INFO Request is completed\n",
      "2023-11-23 15:26:36,856 INFO Welcome to the CDS\n",
      "2023-11-23 15:26:36,858 INFO Sending request to https://cds.climate.copernicus.eu/api/v2/resources/reanalysis-era5-pressure-levels\n"
     ]
    },
    {
     "name": "stdout",
     "output_type": "stream",
     "text": [
      "100% [..............................................................................] 12772 / 12772"
     ]
    },
    {
     "name": "stderr",
     "output_type": "stream",
     "text": [
      "2023-11-23 15:26:37,086 INFO Request is queued\n",
      "2023-11-23 15:26:42,390 INFO Request is running\n",
      "2023-11-23 15:26:58,982 INFO Request is completed\n",
      "2023-11-23 15:27:00,293 INFO Welcome to the CDS\n",
      "2023-11-23 15:27:00,294 INFO Sending request to https://cds.climate.copernicus.eu/api/v2/resources/reanalysis-era5-pressure-levels\n"
     ]
    },
    {
     "name": "stdout",
     "output_type": "stream",
     "text": [
      "100% [..............................................................................] 12768 / 12768"
     ]
    },
    {
     "name": "stderr",
     "output_type": "stream",
     "text": [
      "2023-11-23 15:27:00,495 INFO Request is queued\n",
      "2023-11-23 15:27:05,817 INFO Request is running\n",
      "2023-11-23 15:27:14,632 INFO Request is completed\n",
      "2023-11-23 15:27:15,709 INFO Welcome to the CDS\n",
      "2023-11-23 15:27:15,711 INFO Sending request to https://cds.climate.copernicus.eu/api/v2/resources/reanalysis-era5-pressure-levels\n"
     ]
    },
    {
     "name": "stdout",
     "output_type": "stream",
     "text": [
      "100% [..............................................................................] 12768 / 12768"
     ]
    },
    {
     "name": "stderr",
     "output_type": "stream",
     "text": [
      "2023-11-23 15:27:15,938 INFO Request is queued\n",
      "2023-11-23 15:27:30,599 INFO Request is running\n",
      "2023-11-23 15:27:38,381 INFO Request is completed\n",
      "2023-11-23 15:27:39,654 INFO Welcome to the CDS\n",
      "2023-11-23 15:27:39,656 INFO Sending request to https://cds.climate.copernicus.eu/api/v2/resources/reanalysis-era5-pressure-levels\n"
     ]
    },
    {
     "name": "stdout",
     "output_type": "stream",
     "text": [
      "100% [..............................................................................] 10396 / 10396"
     ]
    },
    {
     "name": "stderr",
     "output_type": "stream",
     "text": [
      "2023-11-23 15:27:39,855 INFO Request is queued\n",
      "2023-11-23 15:27:41,040 INFO Request is running\n",
      "2023-11-23 15:28:01,765 INFO Request is completed\n",
      "2023-11-23 15:28:02,866 INFO Welcome to the CDS\n",
      "2023-11-23 15:28:02,868 INFO Sending request to https://cds.climate.copernicus.eu/api/v2/resources/reanalysis-era5-pressure-levels\n"
     ]
    },
    {
     "name": "stdout",
     "output_type": "stream",
     "text": [
      "100% [..............................................................................] 10400 / 10400"
     ]
    },
    {
     "name": "stderr",
     "output_type": "stream",
     "text": [
      "2023-11-23 15:28:03,107 INFO Request is queued\n",
      "2023-11-23 15:28:04,299 INFO Request is running\n",
      "2023-11-23 15:28:17,236 INFO Request is completed\n",
      "2023-11-23 15:28:18,323 INFO Welcome to the CDS\n",
      "2023-11-23 15:28:18,325 INFO Sending request to https://cds.climate.copernicus.eu/api/v2/resources/reanalysis-era5-pressure-levels\n"
     ]
    },
    {
     "name": "stdout",
     "output_type": "stream",
     "text": [
      "100% [..............................................................................] 10392 / 10392"
     ]
    },
    {
     "name": "stderr",
     "output_type": "stream",
     "text": [
      "2023-11-23 15:28:18,511 INFO Request is queued\n",
      "2023-11-23 15:28:19,693 INFO Request is running\n",
      "2023-11-23 15:28:32,629 INFO Request is completed\n",
      "2023-11-23 15:28:33,712 INFO Welcome to the CDS\n",
      "2023-11-23 15:28:33,713 INFO Sending request to https://cds.climate.copernicus.eu/api/v2/resources/reanalysis-era5-pressure-levels\n"
     ]
    },
    {
     "name": "stdout",
     "output_type": "stream",
     "text": [
      "100% [..............................................................................] 10396 / 10396"
     ]
    },
    {
     "name": "stderr",
     "output_type": "stream",
     "text": [
      "2023-11-23 15:28:33,919 INFO Request is queued\n",
      "2023-11-23 15:28:36,796 INFO Request is running\n",
      "2023-11-23 15:28:48,055 INFO Request is completed\n",
      "2023-11-23 15:28:49,134 INFO Welcome to the CDS\n",
      "2023-11-23 15:28:49,135 INFO Sending request to https://cds.climate.copernicus.eu/api/v2/resources/reanalysis-era5-pressure-levels\n"
     ]
    },
    {
     "name": "stdout",
     "output_type": "stream",
     "text": [
      "100% [..............................................................................] 12768 / 12768"
     ]
    },
    {
     "name": "stderr",
     "output_type": "stream",
     "text": [
      "2023-11-23 15:28:49,340 INFO Request is queued\n",
      "2023-11-23 15:28:52,210 INFO Request is running\n",
      "2023-11-23 15:29:11,234 INFO Request is completed\n"
     ]
    },
    {
     "name": "stdout",
     "output_type": "stream",
     "text": [
      "100% [..............................................................................] 12768 / 12768"
     ]
    },
    {
     "name": "stderr",
     "output_type": "stream",
     "text": [
      "2023-11-23 15:29:12,475 INFO Welcome to the CDS\n",
      "2023-11-23 15:29:12,477 INFO Sending request to https://cds.climate.copernicus.eu/api/v2/resources/reanalysis-era5-pressure-levels\n",
      "2023-11-23 15:29:12,796 INFO Request is queued\n",
      "2023-11-23 15:29:15,674 INFO Request is running\n",
      "2023-11-23 15:29:34,717 INFO Request is completed\n",
      "2023-11-23 15:29:36,040 INFO Welcome to the CDS\n",
      "2023-11-23 15:29:36,042 INFO Sending request to https://cds.climate.copernicus.eu/api/v2/resources/reanalysis-era5-pressure-levels\n"
     ]
    },
    {
     "name": "stdout",
     "output_type": "stream",
     "text": [
      "100% [..............................................................................] 10396 / 10396"
     ]
    },
    {
     "name": "stderr",
     "output_type": "stream",
     "text": [
      "2023-11-23 15:29:36,227 INFO Request is queued\n",
      "2023-11-23 15:29:37,409 INFO Request is running\n",
      "2023-11-23 15:29:58,137 INFO Request is completed\n",
      "2023-11-23 15:29:59,452 INFO Welcome to the CDS\n",
      "2023-11-23 15:29:59,454 INFO Sending request to https://cds.climate.copernicus.eu/api/v2/resources/reanalysis-era5-pressure-levels\n"
     ]
    },
    {
     "name": "stdout",
     "output_type": "stream",
     "text": [
      "100% [..............................................................................] 10396 / 10396"
     ]
    },
    {
     "name": "stderr",
     "output_type": "stream",
     "text": [
      "2023-11-23 15:29:59,725 INFO Request is queued\n",
      "2023-11-23 15:30:00,917 INFO Request is running\n",
      "2023-11-23 15:30:13,856 INFO Request is completed\n",
      "2023-11-23 15:30:15,427 INFO Welcome to the CDS\n",
      "2023-11-23 15:30:15,428 INFO Sending request to https://cds.climate.copernicus.eu/api/v2/resources/reanalysis-era5-pressure-levels\n"
     ]
    },
    {
     "name": "stdout",
     "output_type": "stream",
     "text": [
      "100% [..............................................................................] 10400 / 10400"
     ]
    },
    {
     "name": "stderr",
     "output_type": "stream",
     "text": [
      "2023-11-23 15:30:15,640 INFO Request is queued\n",
      "2023-11-23 15:30:20,949 INFO Request is running\n",
      "2023-11-23 15:30:37,545 INFO Request is completed\n",
      "2023-11-23 15:30:39,258 INFO Welcome to the CDS\n",
      "2023-11-23 15:30:39,260 INFO Sending request to https://cds.climate.copernicus.eu/api/v2/resources/reanalysis-era5-pressure-levels\n"
     ]
    },
    {
     "name": "stdout",
     "output_type": "stream",
     "text": [
      "100% [..............................................................................] 10396 / 10396"
     ]
    },
    {
     "name": "stderr",
     "output_type": "stream",
     "text": [
      "2023-11-23 15:30:39,475 INFO Request is queued\n",
      "2023-11-23 15:30:42,352 INFO Request is running\n",
      "2023-11-23 15:30:53,603 INFO Request is completed\n",
      "2023-11-23 15:30:54,927 INFO Welcome to the CDS\n",
      "2023-11-23 15:30:54,929 INFO Sending request to https://cds.climate.copernicus.eu/api/v2/resources/reanalysis-era5-pressure-levels\n"
     ]
    },
    {
     "name": "stdout",
     "output_type": "stream",
     "text": [
      "100% [..............................................................................] 10400 / 10400"
     ]
    },
    {
     "name": "stderr",
     "output_type": "stream",
     "text": [
      "2023-11-23 15:30:55,113 INFO Request is queued\n",
      "2023-11-23 15:30:56,296 INFO Request is running\n",
      "2023-11-23 15:31:09,248 INFO Request is completed\n",
      "2023-11-23 15:31:10,330 INFO Welcome to the CDS\n",
      "2023-11-23 15:31:10,332 INFO Sending request to https://cds.climate.copernicus.eu/api/v2/resources/reanalysis-era5-pressure-levels\n"
     ]
    },
    {
     "name": "stdout",
     "output_type": "stream",
     "text": [
      "100% [..............................................................................] 10396 / 10396"
     ]
    },
    {
     "name": "stderr",
     "output_type": "stream",
     "text": [
      "2023-11-23 15:31:10,528 INFO Request is queued\n",
      "2023-11-23 15:31:11,711 INFO Request is running\n",
      "2023-11-23 15:31:25,176 INFO Request is completed\n",
      "2023-11-23 15:31:26,421 INFO Welcome to the CDS\n",
      "2023-11-23 15:31:26,423 INFO Sending request to https://cds.climate.copernicus.eu/api/v2/resources/reanalysis-era5-pressure-levels\n"
     ]
    },
    {
     "name": "stdout",
     "output_type": "stream",
     "text": [
      "100% [..............................................................................] 10396 / 10396"
     ]
    },
    {
     "name": "stderr",
     "output_type": "stream",
     "text": [
      "2023-11-23 15:31:26,628 INFO Request is queued\n",
      "2023-11-23 15:31:29,513 INFO Request is running\n",
      "2023-11-23 15:31:40,769 INFO Request is completed\n",
      "2023-11-23 15:31:41,846 INFO Welcome to the CDS\n",
      "2023-11-23 15:31:41,847 INFO Sending request to https://cds.climate.copernicus.eu/api/v2/resources/reanalysis-era5-pressure-levels\n"
     ]
    },
    {
     "name": "stdout",
     "output_type": "stream",
     "text": [
      "100% [..............................................................................] 10396 / 10396"
     ]
    },
    {
     "name": "stderr",
     "output_type": "stream",
     "text": [
      "2023-11-23 15:31:42,089 INFO Request is queued\n",
      "2023-11-23 15:31:43,277 INFO Request is running\n",
      "2023-11-23 15:31:56,232 INFO Request is completed\n"
     ]
    },
    {
     "name": "stdout",
     "output_type": "stream",
     "text": [
      "100% [..............................................................................] 16356 / 16356"
     ]
    },
    {
     "name": "stderr",
     "output_type": "stream",
     "text": [
      "2023-11-23 15:31:57,539 INFO Welcome to the CDS\n",
      "2023-11-23 15:31:57,540 INFO Sending request to https://cds.climate.copernicus.eu/api/v2/resources/reanalysis-era5-pressure-levels\n",
      "2023-11-23 15:31:57,749 INFO Request is queued\n",
      "2023-11-23 15:31:58,940 INFO Request is running\n",
      "2023-11-23 15:32:19,660 INFO Request is completed\n"
     ]
    },
    {
     "name": "stdout",
     "output_type": "stream",
     "text": [
      "100% [..............................................................................] 16356 / 16356"
     ]
    },
    {
     "name": "stderr",
     "output_type": "stream",
     "text": [
      "2023-11-23 15:32:21,139 INFO Welcome to the CDS\n",
      "2023-11-23 15:32:21,141 INFO Sending request to https://cds.climate.copernicus.eu/api/v2/resources/reanalysis-era5-pressure-levels\n",
      "2023-11-23 15:32:21,344 INFO Request is queued\n",
      "2023-11-23 15:32:22,533 INFO Request is running\n",
      "2023-11-23 15:32:35,467 INFO Request is completed\n",
      "2023-11-23 15:32:36,555 INFO Welcome to the CDS\n",
      "2023-11-23 15:32:36,557 INFO Sending request to https://cds.climate.copernicus.eu/api/v2/resources/reanalysis-era5-pressure-levels\n"
     ]
    },
    {
     "name": "stdout",
     "output_type": "stream",
     "text": [
      "100% [..............................................................................] 10396 / 10396"
     ]
    },
    {
     "name": "stderr",
     "output_type": "stream",
     "text": [
      "2023-11-23 15:32:36,745 INFO Request is queued\n",
      "2023-11-23 15:32:37,929 INFO Request is running\n",
      "2023-11-23 15:32:50,890 INFO Request is completed\n",
      "2023-11-23 15:32:52,225 INFO Welcome to the CDS\n",
      "2023-11-23 15:32:52,226 INFO Sending request to https://cds.climate.copernicus.eu/api/v2/resources/reanalysis-era5-pressure-levels\n"
     ]
    },
    {
     "name": "stdout",
     "output_type": "stream",
     "text": [
      "100% [..............................................................................] 10396 / 10396"
     ]
    },
    {
     "name": "stderr",
     "output_type": "stream",
     "text": [
      "2023-11-23 15:32:52,453 INFO Request is queued\n",
      "2023-11-23 15:32:55,335 INFO Request is running\n",
      "2023-11-23 15:33:06,576 INFO Request is completed\n",
      "2023-11-23 15:33:07,797 INFO Welcome to the CDS\n",
      "2023-11-23 15:33:07,798 INFO Sending request to https://cds.climate.copernicus.eu/api/v2/resources/reanalysis-era5-pressure-levels\n"
     ]
    },
    {
     "name": "stdout",
     "output_type": "stream",
     "text": [
      "100% [..............................................................................] 10396 / 10396"
     ]
    },
    {
     "name": "stderr",
     "output_type": "stream",
     "text": [
      "2023-11-23 15:33:08,012 INFO Request is queued\n",
      "2023-11-23 15:33:09,207 INFO Request is running\n",
      "2023-11-23 15:33:22,143 INFO Request is completed\n",
      "2023-11-23 15:33:23,467 INFO Welcome to the CDS\n",
      "2023-11-23 15:33:23,468 INFO Sending request to https://cds.climate.copernicus.eu/api/v2/resources/reanalysis-era5-pressure-levels\n"
     ]
    },
    {
     "name": "stdout",
     "output_type": "stream",
     "text": [
      "100% [..............................................................................] 10400 / 10400"
     ]
    },
    {
     "name": "stderr",
     "output_type": "stream",
     "text": [
      "2023-11-23 15:33:23,668 INFO Request is queued\n",
      "2023-11-23 15:33:24,862 INFO Request is running\n",
      "2023-11-23 15:33:37,807 INFO Request is completed\n",
      "2023-11-23 15:33:39,071 INFO Welcome to the CDS\n",
      "2023-11-23 15:33:39,073 INFO Sending request to https://cds.climate.copernicus.eu/api/v2/resources/reanalysis-era5-pressure-levels\n"
     ]
    },
    {
     "name": "stdout",
     "output_type": "stream",
     "text": [
      "100% [..............................................................................] 10392 / 10392"
     ]
    },
    {
     "name": "stderr",
     "output_type": "stream",
     "text": [
      "2023-11-23 15:33:39,279 INFO Request is queued\n",
      "2023-11-23 15:33:40,465 INFO Request is running\n",
      "2023-11-23 15:33:53,386 INFO Request is completed\n",
      "2023-11-23 15:33:54,471 INFO Welcome to the CDS\n",
      "2023-11-23 15:33:54,472 INFO Sending request to https://cds.climate.copernicus.eu/api/v2/resources/reanalysis-era5-pressure-levels\n"
     ]
    },
    {
     "name": "stdout",
     "output_type": "stream",
     "text": [
      "100% [..............................................................................] 10396 / 10396"
     ]
    },
    {
     "name": "stderr",
     "output_type": "stream",
     "text": [
      "2023-11-23 15:33:54,691 INFO Request is queued\n",
      "2023-11-23 15:33:57,567 INFO Request is running\n",
      "2023-11-23 15:34:08,822 INFO Request is completed\n"
     ]
    },
    {
     "name": "stdout",
     "output_type": "stream",
     "text": [
      "100% [..............................................................................] 16352 / 16352"
     ]
    },
    {
     "name": "stderr",
     "output_type": "stream",
     "text": [
      "2023-11-23 15:34:10,518 INFO Welcome to the CDS\n",
      "2023-11-23 15:34:10,520 INFO Sending request to https://cds.climate.copernicus.eu/api/v2/resources/reanalysis-era5-pressure-levels\n",
      "2023-11-23 15:34:10,703 INFO Request is queued\n",
      "2023-11-23 15:34:16,023 INFO Request is running\n",
      "2023-11-23 15:34:32,615 INFO Request is completed\n"
     ]
    },
    {
     "name": "stdout",
     "output_type": "stream",
     "text": [
      "100% [..............................................................................] 16360 / 16360"
     ]
    },
    {
     "name": "stderr",
     "output_type": "stream",
     "text": [
      "2023-11-23 15:34:33,870 INFO Welcome to the CDS\n",
      "2023-11-23 15:34:33,872 INFO Sending request to https://cds.climate.copernicus.eu/api/v2/resources/reanalysis-era5-pressure-levels\n",
      "2023-11-23 15:34:34,092 INFO Request is queued\n",
      "2023-11-23 15:34:35,278 INFO Request is running\n",
      "2023-11-23 15:34:48,755 INFO Request is completed\n",
      "2023-11-23 15:34:49,816 INFO Welcome to the CDS\n",
      "2023-11-23 15:34:49,818 INFO Sending request to https://cds.climate.copernicus.eu/api/v2/resources/reanalysis-era5-pressure-levels\n"
     ]
    },
    {
     "name": "stdout",
     "output_type": "stream",
     "text": [
      "100% [..............................................................................] 10396 / 10396"
     ]
    },
    {
     "name": "stderr",
     "output_type": "stream",
     "text": [
      "2023-11-23 15:34:50,016 INFO Request is queued\n",
      "2023-11-23 15:34:51,205 INFO Request is running\n",
      "2023-11-23 15:35:04,142 INFO Request is completed\n",
      "2023-11-23 15:35:05,358 INFO Welcome to the CDS\n",
      "2023-11-23 15:35:05,360 INFO Sending request to https://cds.climate.copernicus.eu/api/v2/resources/reanalysis-era5-pressure-levels\n"
     ]
    },
    {
     "name": "stdout",
     "output_type": "stream",
     "text": [
      "100% [..............................................................................] 10396 / 10396"
     ]
    },
    {
     "name": "stderr",
     "output_type": "stream",
     "text": [
      "2023-11-23 15:35:05,630 INFO Request is queued\n",
      "2023-11-23 15:35:06,816 INFO Request is running\n",
      "2023-11-23 15:35:19,758 INFO Request is completed\n",
      "2023-11-23 15:35:20,844 INFO Welcome to the CDS\n",
      "2023-11-23 15:35:20,846 INFO Sending request to https://cds.climate.copernicus.eu/api/v2/resources/reanalysis-era5-pressure-levels\n"
     ]
    },
    {
     "name": "stdout",
     "output_type": "stream",
     "text": [
      "100% [..............................................................................] 10396 / 10396"
     ]
    },
    {
     "name": "stderr",
     "output_type": "stream",
     "text": [
      "2023-11-23 15:35:21,064 INFO Request is queued\n",
      "2023-11-23 15:35:22,252 INFO Request is running\n",
      "2023-11-23 15:35:35,182 INFO Request is completed\n",
      "2023-11-23 15:35:36,517 INFO Welcome to the CDS\n",
      "2023-11-23 15:35:36,519 INFO Sending request to https://cds.climate.copernicus.eu/api/v2/resources/reanalysis-era5-pressure-levels\n"
     ]
    },
    {
     "name": "stdout",
     "output_type": "stream",
     "text": [
      "100% [..............................................................................] 10396 / 10396"
     ]
    },
    {
     "name": "stderr",
     "output_type": "stream",
     "text": [
      "2023-11-23 15:35:36,713 INFO Request is queued\n",
      "2023-11-23 15:35:37,899 INFO Request is running\n",
      "2023-11-23 15:35:50,844 INFO Request is completed\n",
      "2023-11-23 15:35:51,917 INFO Welcome to the CDS\n",
      "2023-11-23 15:35:51,919 INFO Sending request to https://cds.climate.copernicus.eu/api/v2/resources/reanalysis-era5-pressure-levels\n"
     ]
    },
    {
     "name": "stdout",
     "output_type": "stream",
     "text": [
      "100% [..............................................................................] 10392 / 10392"
     ]
    },
    {
     "name": "stderr",
     "output_type": "stream",
     "text": [
      "2023-11-23 15:35:52,150 INFO Request is queued\n",
      "2023-11-23 15:35:53,337 INFO Request is running\n",
      "2023-11-23 15:36:06,287 INFO Request is completed\n",
      "2023-11-23 15:36:07,360 INFO Welcome to the CDS\n",
      "2023-11-23 15:36:07,362 INFO Sending request to https://cds.climate.copernicus.eu/api/v2/resources/reanalysis-era5-pressure-levels\n"
     ]
    },
    {
     "name": "stdout",
     "output_type": "stream",
     "text": [
      "100% [..............................................................................] 10396 / 10396"
     ]
    },
    {
     "name": "stderr",
     "output_type": "stream",
     "text": [
      "2023-11-23 15:36:07,552 INFO Request is queued\n",
      "2023-11-23 15:36:08,741 INFO Request is running\n",
      "2023-11-23 15:36:21,681 INFO Request is completed\n",
      "2023-11-23 15:36:22,763 INFO Welcome to the CDS\n",
      "2023-11-23 15:36:22,765 INFO Sending request to https://cds.climate.copernicus.eu/api/v2/resources/reanalysis-era5-pressure-levels\n"
     ]
    },
    {
     "name": "stdout",
     "output_type": "stream",
     "text": [
      "100% [..............................................................................] 10396 / 10396"
     ]
    },
    {
     "name": "stderr",
     "output_type": "stream",
     "text": [
      "2023-11-23 15:36:22,950 INFO Request is queued\n",
      "2023-11-23 15:36:24,142 INFO Request is running\n",
      "2023-11-23 15:36:37,065 INFO Request is completed\n",
      "2023-11-23 15:36:38,140 INFO Welcome to the CDS\n",
      "2023-11-23 15:36:38,142 INFO Sending request to https://cds.climate.copernicus.eu/api/v2/resources/reanalysis-era5-pressure-levels\n"
     ]
    },
    {
     "name": "stdout",
     "output_type": "stream",
     "text": [
      "100% [..............................................................................] 10400 / 10400"
     ]
    },
    {
     "name": "stderr",
     "output_type": "stream",
     "text": [
      "2023-11-23 15:36:38,343 INFO Request is queued\n",
      "2023-11-23 15:36:39,532 INFO Request is running\n",
      "2023-11-23 15:36:52,463 INFO Request is completed\n",
      "2023-11-23 15:36:53,546 INFO Welcome to the CDS\n",
      "2023-11-23 15:36:53,548 INFO Sending request to https://cds.climate.copernicus.eu/api/v2/resources/reanalysis-era5-pressure-levels\n"
     ]
    },
    {
     "name": "stdout",
     "output_type": "stream",
     "text": [
      "100% [..............................................................................] 12768 / 12768"
     ]
    },
    {
     "name": "stderr",
     "output_type": "stream",
     "text": [
      "2023-11-23 15:36:53,776 INFO Request is queued\n",
      "2023-11-23 15:36:56,647 INFO Request is running\n",
      "2023-11-23 15:37:15,654 INFO Request is completed\n",
      "2023-11-23 15:37:16,891 INFO Welcome to the CDS\n",
      "2023-11-23 15:37:16,893 INFO Sending request to https://cds.climate.copernicus.eu/api/v2/resources/reanalysis-era5-pressure-levels\n"
     ]
    },
    {
     "name": "stdout",
     "output_type": "stream",
     "text": [
      "100% [..............................................................................] 12772 / 12772"
     ]
    },
    {
     "name": "stderr",
     "output_type": "stream",
     "text": [
      "2023-11-23 15:37:17,106 INFO Request is queued\n",
      "2023-11-23 15:37:18,288 INFO Request is running\n",
      "2023-11-23 15:37:31,227 INFO Request is completed\n",
      "2023-11-23 15:37:32,549 INFO Welcome to the CDS\n",
      "2023-11-23 15:37:32,550 INFO Sending request to https://cds.climate.copernicus.eu/api/v2/resources/reanalysis-era5-pressure-levels\n"
     ]
    },
    {
     "name": "stdout",
     "output_type": "stream",
     "text": [
      "100% [..............................................................................] 12772 / 12772"
     ]
    },
    {
     "name": "stderr",
     "output_type": "stream",
     "text": [
      "2023-11-23 15:37:32,803 INFO Request is queued\n",
      "2023-11-23 15:37:33,995 INFO Request is running\n",
      "2023-11-23 15:37:46,928 INFO Request is completed\n",
      "2023-11-23 15:37:48,258 INFO Welcome to the CDS\n",
      "2023-11-23 15:37:48,260 INFO Sending request to https://cds.climate.copernicus.eu/api/v2/resources/reanalysis-era5-pressure-levels\n"
     ]
    },
    {
     "name": "stdout",
     "output_type": "stream",
     "text": [
      "100% [..............................................................................] 12768 / 12768"
     ]
    },
    {
     "name": "stderr",
     "output_type": "stream",
     "text": [
      "2023-11-23 15:37:48,446 INFO Request is queued\n",
      "2023-11-23 15:37:49,633 INFO Request is running\n",
      "2023-11-23 15:38:02,567 INFO Request is completed\n",
      "2023-11-23 15:38:03,665 INFO Welcome to the CDS\n",
      "2023-11-23 15:38:03,667 INFO Sending request to https://cds.climate.copernicus.eu/api/v2/resources/reanalysis-era5-pressure-levels\n"
     ]
    },
    {
     "name": "stdout",
     "output_type": "stream",
     "text": [
      "100% [..............................................................................] 10396 / 10396"
     ]
    },
    {
     "name": "stderr",
     "output_type": "stream",
     "text": [
      "2023-11-23 15:38:04,399 INFO Request is queued\n",
      "2023-11-23 15:38:05,594 INFO Request is running\n",
      "2023-11-23 15:38:18,542 INFO Request is completed\n",
      "2023-11-23 15:38:19,618 INFO Welcome to the CDS\n",
      "2023-11-23 15:38:19,619 INFO Sending request to https://cds.climate.copernicus.eu/api/v2/resources/reanalysis-era5-pressure-levels\n"
     ]
    },
    {
     "name": "stdout",
     "output_type": "stream",
     "text": [
      "100% [..............................................................................] 10392 / 10392"
     ]
    },
    {
     "name": "stderr",
     "output_type": "stream",
     "text": [
      "2023-11-23 15:38:19,895 INFO Request is queued\n",
      "2023-11-23 15:38:21,089 INFO Request is running\n",
      "2023-11-23 15:38:34,044 INFO Request is completed\n",
      "2023-11-23 15:38:35,483 INFO Welcome to the CDS\n",
      "2023-11-23 15:38:35,485 INFO Sending request to https://cds.climate.copernicus.eu/api/v2/resources/reanalysis-era5-pressure-levels\n"
     ]
    },
    {
     "name": "stdout",
     "output_type": "stream",
     "text": [
      "100% [..............................................................................] 12768 / 12768"
     ]
    },
    {
     "name": "stderr",
     "output_type": "stream",
     "text": [
      "2023-11-23 15:38:35,707 INFO Request is queued\n",
      "2023-11-23 15:38:36,893 INFO Request is running\n",
      "2023-11-23 15:38:49,846 INFO Request is completed\n"
     ]
    },
    {
     "name": "stdout",
     "output_type": "stream",
     "text": [
      "100% [..............................................................................] 12772 / 12772"
     ]
    },
    {
     "name": "stderr",
     "output_type": "stream",
     "text": [
      "2023-11-23 15:38:51,101 INFO Welcome to the CDS\n",
      "2023-11-23 15:38:51,103 INFO Sending request to https://cds.climate.copernicus.eu/api/v2/resources/reanalysis-era5-pressure-levels\n",
      "2023-11-23 15:38:51,293 INFO Request is queued\n",
      "2023-11-23 15:38:56,604 INFO Request is running\n",
      "2023-11-23 15:39:13,218 INFO Request is completed\n",
      "2023-11-23 15:39:14,314 INFO Welcome to the CDS\n",
      "2023-11-23 15:39:14,316 INFO Sending request to https://cds.climate.copernicus.eu/api/v2/resources/reanalysis-era5-pressure-levels\n"
     ]
    },
    {
     "name": "stdout",
     "output_type": "stream",
     "text": [
      "100% [..............................................................................] 10396 / 10396"
     ]
    },
    {
     "name": "stderr",
     "output_type": "stream",
     "text": [
      "2023-11-23 15:39:14,505 INFO Request is queued\n",
      "2023-11-23 15:39:15,702 INFO Request is running\n",
      "2023-11-23 15:39:28,649 INFO Request is completed\n",
      "2023-11-23 15:39:30,134 INFO Welcome to the CDS\n",
      "2023-11-23 15:39:30,135 INFO Sending request to https://cds.climate.copernicus.eu/api/v2/resources/reanalysis-era5-pressure-levels\n"
     ]
    },
    {
     "name": "stdout",
     "output_type": "stream",
     "text": [
      "100% [..............................................................................] 10400 / 10400"
     ]
    },
    {
     "name": "stderr",
     "output_type": "stream",
     "text": [
      "2023-11-23 15:39:30,342 INFO Request is queued\n",
      "2023-11-23 15:39:31,533 INFO Request is running\n",
      "2023-11-23 15:39:44,493 INFO Request is completed\n",
      "2023-11-23 15:39:45,581 INFO Welcome to the CDS\n",
      "2023-11-23 15:39:45,582 INFO Sending request to https://cds.climate.copernicus.eu/api/v2/resources/reanalysis-era5-pressure-levels\n"
     ]
    },
    {
     "name": "stdout",
     "output_type": "stream",
     "text": [
      "100% [..............................................................................] 12768 / 12768"
     ]
    },
    {
     "name": "stderr",
     "output_type": "stream",
     "text": [
      "2023-11-23 15:39:45,778 INFO Request is queued\n",
      "2023-11-23 15:39:46,973 INFO Request is running\n",
      "2023-11-23 15:39:59,920 INFO Request is completed\n",
      "2023-11-23 15:40:01,695 INFO Welcome to the CDS\n",
      "2023-11-23 15:40:01,697 INFO Sending request to https://cds.climate.copernicus.eu/api/v2/resources/reanalysis-era5-pressure-levels\n"
     ]
    },
    {
     "name": "stdout",
     "output_type": "stream",
     "text": [
      "100% [..............................................................................] 12768 / 12768"
     ]
    },
    {
     "name": "stderr",
     "output_type": "stream",
     "text": [
      "2023-11-23 15:40:01,886 INFO Request is queued\n",
      "2023-11-23 15:40:03,085 INFO Request is running\n",
      "2023-11-23 15:40:23,847 INFO Request is completed\n",
      "2023-11-23 15:40:24,942 INFO Welcome to the CDS\n",
      "2023-11-23 15:40:24,944 INFO Sending request to https://cds.climate.copernicus.eu/api/v2/resources/reanalysis-era5-pressure-levels\n"
     ]
    },
    {
     "name": "stdout",
     "output_type": "stream",
     "text": [
      "100% [..............................................................................] 10396 / 10396"
     ]
    },
    {
     "name": "stderr",
     "output_type": "stream",
     "text": [
      "2023-11-23 15:40:25,135 INFO Request is queued\n",
      "2023-11-23 15:40:26,498 INFO Request is running\n",
      "2023-11-23 15:40:47,239 INFO Request is completed\n",
      "2023-11-23 15:40:48,529 INFO Welcome to the CDS\n",
      "2023-11-23 15:40:48,531 INFO Sending request to https://cds.climate.copernicus.eu/api/v2/resources/reanalysis-era5-pressure-levels\n"
     ]
    },
    {
     "name": "stdout",
     "output_type": "stream",
     "text": [
      "100% [..............................................................................] 10396 / 10396"
     ]
    },
    {
     "name": "stderr",
     "output_type": "stream",
     "text": [
      "2023-11-23 15:40:48,760 INFO Request is queued\n",
      "2023-11-23 15:40:49,951 INFO Request is running\n",
      "2023-11-23 15:41:02,909 INFO Request is completed\n",
      "2023-11-23 15:41:04,449 INFO Welcome to the CDS\n",
      "2023-11-23 15:41:04,451 INFO Sending request to https://cds.climate.copernicus.eu/api/v2/resources/reanalysis-era5-pressure-levels\n"
     ]
    },
    {
     "name": "stdout",
     "output_type": "stream",
     "text": [
      "100% [..............................................................................] 10396 / 10396"
     ]
    },
    {
     "name": "stderr",
     "output_type": "stream",
     "text": [
      "2023-11-23 15:41:04,645 INFO Request is queued\n",
      "2023-11-23 15:41:05,832 INFO Request is running\n",
      "2023-11-23 15:41:18,780 INFO Request is completed\n"
     ]
    },
    {
     "name": "stdout",
     "output_type": "stream",
     "text": [
      "100% [..............................................................................] 10400 / 10400"
     ]
    },
    {
     "name": "stderr",
     "output_type": "stream",
     "text": [
      "2023-11-23 15:41:20,240 INFO Welcome to the CDS\n",
      "2023-11-23 15:41:20,242 INFO Sending request to https://cds.climate.copernicus.eu/api/v2/resources/reanalysis-era5-pressure-levels\n",
      "2023-11-23 15:41:20,430 INFO Request is queued\n",
      "2023-11-23 15:41:21,626 INFO Request is running\n",
      "2023-11-23 15:41:34,571 INFO Request is completed\n"
     ]
    },
    {
     "name": "stdout",
     "output_type": "stream",
     "text": [
      "100% [..............................................................................] 16360 / 16360"
     ]
    },
    {
     "name": "stderr",
     "output_type": "stream",
     "text": [
      "2023-11-23 15:41:36,510 INFO Welcome to the CDS\n",
      "2023-11-23 15:41:36,512 INFO Sending request to https://cds.climate.copernicus.eu/api/v2/resources/reanalysis-era5-pressure-levels\n",
      "2023-11-23 15:41:36,705 INFO Request is queued\n",
      "2023-11-23 15:41:46,162 INFO Request is running\n",
      "2023-11-23 15:41:59,239 INFO Request is completed\n"
     ]
    },
    {
     "name": "stdout",
     "output_type": "stream",
     "text": [
      "100% [..............................................................................] 16360 / 16360"
     ]
    },
    {
     "name": "stderr",
     "output_type": "stream",
     "text": [
      "2023-11-23 15:42:00,488 INFO Welcome to the CDS\n",
      "2023-11-23 15:42:00,489 INFO Sending request to https://cds.climate.copernicus.eu/api/v2/resources/reanalysis-era5-pressure-levels\n",
      "2023-11-23 15:42:00,672 INFO Request is queued\n",
      "2023-11-23 15:42:09,621 INFO Request is running\n",
      "2023-11-23 15:42:22,658 INFO Request is completed\n",
      "2023-11-23 15:42:24,258 INFO Welcome to the CDS\n",
      "2023-11-23 15:42:24,260 INFO Sending request to https://cds.climate.copernicus.eu/api/v2/resources/reanalysis-era5-pressure-levels\n"
     ]
    },
    {
     "name": "stdout",
     "output_type": "stream",
     "text": [
      "100% [..............................................................................] 10396 / 10396"
     ]
    },
    {
     "name": "stderr",
     "output_type": "stream",
     "text": [
      "2023-11-23 15:42:24,500 INFO Request is queued\n",
      "2023-11-23 15:42:25,692 INFO Request is running\n",
      "2023-11-23 15:42:38,636 INFO Request is completed\n",
      "2023-11-23 15:42:39,849 INFO Welcome to the CDS\n",
      "2023-11-23 15:42:39,851 INFO Sending request to https://cds.climate.copernicus.eu/api/v2/resources/reanalysis-era5-pressure-levels\n"
     ]
    },
    {
     "name": "stdout",
     "output_type": "stream",
     "text": [
      "100% [..............................................................................] 10396 / 10396"
     ]
    },
    {
     "name": "stderr",
     "output_type": "stream",
     "text": [
      "2023-11-23 15:42:40,099 INFO Request is queued\n",
      "2023-11-23 15:42:41,293 INFO Request is running\n",
      "2023-11-23 15:42:54,234 INFO Request is completed\n",
      "2023-11-23 15:42:55,324 INFO Welcome to the CDS\n",
      "2023-11-23 15:42:55,326 INFO Sending request to https://cds.climate.copernicus.eu/api/v2/resources/reanalysis-era5-pressure-levels\n"
     ]
    },
    {
     "name": "stdout",
     "output_type": "stream",
     "text": [
      "100% [..............................................................................] 12772 / 12772"
     ]
    },
    {
     "name": "stderr",
     "output_type": "stream",
     "text": [
      "2023-11-23 15:42:55,542 INFO Request is queued\n",
      "2023-11-23 15:42:56,726 INFO Request is running\n",
      "2023-11-23 15:43:09,673 INFO Request is completed\n"
     ]
    },
    {
     "name": "stdout",
     "output_type": "stream",
     "text": [
      "100% [..............................................................................] 12768 / 12768"
     ]
    }
   ],
   "source": [
    "import cdsapi\n",
    "import wget\n",
    "c = cdsapi.Client()  # 创建用户\n",
    "from subprocess import call\n",
    "import pandas as pd\n",
    "import os\n",
    "import datetime\n",
    "\n",
    "# pyroCb events info\n",
    "csv_file_path='/Users/liuyangfan/Desktop/Stanford/pyrocast-database/pyrocb_events.csv'\n",
    "events_df = pd.read_csv(csv_file_path)\n",
    "\n",
    "# functions\n",
    "# Function to download with wget\n",
    "def Downloader(task_url, folder_path, file_name):\n",
    "    \"\"\"\n",
    "    下载器\n",
    "    :param task_url: 下载任务地址\n",
    "    :param folder_path: 存放文件夹\n",
    "    :param file_name: 文件名\n",
    "    :return:\n",
    "    \"\"\"\n",
    "    wget.download(task_url,out=folder_path+file_name)#folder_path needs '/' in the end\n",
    "\n",
    "# Function to determine the geographical area\n",
    "def determine_geographical_area(longitude, latitude):\n",
    "    # Adjusting the coordinates to the nearest 0.25 degree grid\n",
    "    north = latitude + 0.25 - (latitude % 0.25)\n",
    "    south = latitude - (latitude % 0.25)\n",
    "    if latitude % 0.25==0:\n",
    "        south=south-0.25\n",
    "    east = longitude + 0.25 - (longitude % 0.25)\n",
    "    west = longitude - (longitude % 0.25)\n",
    "    if longitude % 0.25==0:\n",
    "        west=west-0.25\n",
    "    return [north, west, south, east]\n",
    "\n",
    "    \n",
    "download_directory = '/Users/liuyangfan/Desktop/Stanford/pyrocast-database/era5/pyroCb_events_/'\n",
    "vars=['divergence', 'fraction_of_cloud_cover', 'geopotential',\n",
    "        'ozone_mass_mixing_ratio', 'potential_vorticity', 'relative_humidity',\n",
    "        'specific_cloud_ice_water_content', 'specific_cloud_liquid_water_content', 'specific_humidity',\n",
    "        'specific_rain_water_content', 'specific_snow_water_content', 'temperature',\n",
    "        'u_component_of_wind', 'v_component_of_wind', 'vertical_velocity',\n",
    "        'vorticity',\n",
    "    ]\n",
    "p_levels=[\n",
    "                '1', '2', '3',\n",
    "                '5', '7', '10',\n",
    "                '20', '30', '50',\n",
    "                '70', '100', '125',\n",
    "                '150', '175', '200',\n",
    "                '225', '250', '300',\n",
    "                '350', '400', '450',\n",
    "                '500', '550', '600',\n",
    "                '650', '700', '750',\n",
    "                '775', '800', '825',\n",
    "                '850', '875', '900',\n",
    "                '925', '950', '975',\n",
    "                '1000',\n",
    "            ]\n",
    "cnt=0\n",
    "for index, row in events_df.iterrows():\n",
    "    # Skip rows without PyroCb time information\n",
    "    if pd.isna(row['pyroCb_time_utc']):\n",
    "        continue\n",
    "    if(int(row['pyroCb_time_utc'])>2359):\n",
    "        continue\n",
    "    cnt=cnt+1\n",
    "    if cnt<53:\n",
    "        continue\n",
    "    print(row['pyroCb_id'])\n",
    "    # Formatting the event time\n",
    "    event_time = f\"{row['pyroCb_date_utc']} {int(row['pyroCb_time_utc']):04d}\"\n",
    "    event_datetime = datetime.datetime.strptime(event_time, '%Y-%m-%d %H%M')\n",
    "    # Calculate the time range\n",
    "    time_before=event_datetime\n",
    "    time_after=event_datetime + datetime.timedelta(hours=1)\n",
    "    time_before=datetime.datetime.strftime(time_before,'%Y-%m-%d %H:%M:%S')\n",
    "    time_after=datetime.datetime.strftime(time_after,'%Y-%m-%d %H:%M:%S')\n",
    "    # Determine the geographical area\n",
    "    area = determine_geographical_area(row['pyroCb_longitude'], row['pyroCb_latitude'])\n",
    "    # Create a directory for the event\n",
    "    event_dir = os.path.join(download_directory, str(row['pyroCb_id']))\n",
    "    if not os.path.exists(event_dir):\n",
    "        os.makedirs(event_dir)\n",
    "\n",
    "    r=c.retrieve(\n",
    "        'reanalysis-era5-pressure-levels',\n",
    "        {\n",
    "            'product_type': 'reanalysis',\n",
    "            'format': 'netcdf',\n",
    "            'variable': vars,\n",
    "            'pressure_level': p_levels,\n",
    "            'year': time_before[:4],#change to loop variable\n",
    "            'month': time_before[5:7],#change to loop variable\n",
    "            'day': time_before[8:10],#change to loop variable\n",
    "            'time': time_before[11:13]+':00',#change to loop variable\n",
    "            'area': area,#change to loop variable\n",
    "        },\n",
    "        )\n",
    "\n",
    "    url = r.location  # 获取文件下载地址\n",
    "    path = event_dir+'/'  # 存放文件夹\n",
    "    filename = 'time_before.nc'  # 文件名\n",
    "    Downloader(url, path, filename)  # 添加进IDM中下载\n",
    "\n",
    "    r=c.retrieve(\n",
    "        'reanalysis-era5-pressure-levels',\n",
    "        {\n",
    "            'product_type': 'reanalysis',\n",
    "            'format': 'netcdf',\n",
    "            'variable': vars,\n",
    "            'pressure_level': p_levels,\n",
    "            'year': time_after[:4],#change to loop variable\n",
    "            'month': time_after[5:7],#change to loop variable\n",
    "            'day': time_after[8:10],#change to loop variable\n",
    "            'time': time_after[11:13]+':00',#change to loop variable\n",
    "            'area': area,#change to loop variable\n",
    "        },\n",
    "        )\n",
    "\n",
    "    url = r.location  # 获取文件下载地址\n",
    "    path = event_dir+'/'  # 存放文件夹\n",
    "    filename = 'time_after.nc'  # 文件名\n",
    "    Downloader(url, path, filename)  # 添加进IDM中下载"
   ]
  },
  {
   "cell_type": "code",
   "execution_count": 68,
   "id": "5f91d80d-b0cb-4fed-b7a7-8b6a3f856df7",
   "metadata": {},
   "outputs": [
    {
     "name": "stdout",
     "output_type": "stream",
     "text": [
      "0\n"
     ]
    },
    {
     "name": "stderr",
     "output_type": "stream",
     "text": [
      "2023-11-24 12:23:44,811 INFO Welcome to the CDS\n",
      "2023-11-24 12:23:44,812 INFO Sending request to https://cds.climate.copernicus.eu/api/v2/resources/reanalysis-era5-pressure-levels\n",
      "2023-11-24 12:23:45,106 INFO Request is completed\n",
      "2023-11-24 12:23:46,461 INFO Welcome to the CDS\n",
      "2023-11-24 12:23:46,462 INFO Sending request to https://cds.climate.copernicus.eu/api/v2/resources/reanalysis-era5-pressure-levels\n"
     ]
    },
    {
     "name": "stdout",
     "output_type": "stream",
     "text": [
      "100% [..............................................................................] 10396 / 10396"
     ]
    },
    {
     "name": "stderr",
     "output_type": "stream",
     "text": [
      "2023-11-24 12:23:47,824 INFO Welcome to the CDS\n",
      "2023-11-24 12:23:47,826 INFO Sending request to https://cds.climate.copernicus.eu/api/v2/resources/reanalysis-era5-pressure-levels\n"
     ]
    },
    {
     "name": "stdout",
     "output_type": "stream",
     "text": [
      "100% [..............................................................................] 10392 / 103921\n"
     ]
    },
    {
     "name": "stderr",
     "output_type": "stream",
     "text": [
      "2023-11-24 12:23:49,143 INFO Welcome to the CDS\n",
      "2023-11-24 12:23:49,144 INFO Sending request to https://cds.climate.copernicus.eu/api/v2/resources/reanalysis-era5-pressure-levels\n"
     ]
    },
    {
     "name": "stdout",
     "output_type": "stream",
     "text": [
      "100% [..............................................................................] 10392 / 10392"
     ]
    },
    {
     "name": "stderr",
     "output_type": "stream",
     "text": [
      "2023-11-24 12:23:50,415 INFO Welcome to the CDS\n",
      "2023-11-24 12:23:50,417 INFO Sending request to https://cds.climate.copernicus.eu/api/v2/resources/reanalysis-era5-pressure-levels\n"
     ]
    },
    {
     "name": "stdout",
     "output_type": "stream",
     "text": [
      "100% [..............................................................................] 10392 / 103922\n"
     ]
    },
    {
     "name": "stderr",
     "output_type": "stream",
     "text": [
      "2023-11-24 12:23:51,904 INFO Welcome to the CDS\n",
      "2023-11-24 12:23:51,905 INFO Sending request to https://cds.climate.copernicus.eu/api/v2/resources/reanalysis-era5-pressure-levels\n"
     ]
    },
    {
     "name": "stdout",
     "output_type": "stream",
     "text": [
      "100% [..............................................................................] 10396 / 10396"
     ]
    },
    {
     "name": "stderr",
     "output_type": "stream",
     "text": [
      "2023-11-24 12:23:53,192 INFO Welcome to the CDS\n",
      "2023-11-24 12:23:53,193 INFO Sending request to https://cds.climate.copernicus.eu/api/v2/resources/reanalysis-era5-pressure-levels\n"
     ]
    },
    {
     "name": "stdout",
     "output_type": "stream",
     "text": [
      "100% [..............................................................................] 10400 / 104003\n"
     ]
    },
    {
     "name": "stderr",
     "output_type": "stream",
     "text": [
      "2023-11-24 12:23:54,563 INFO Welcome to the CDS\n",
      "2023-11-24 12:23:54,564 INFO Sending request to https://cds.climate.copernicus.eu/api/v2/resources/reanalysis-era5-pressure-levels\n"
     ]
    },
    {
     "name": "stdout",
     "output_type": "stream",
     "text": [
      "100% [..............................................................................] 10396 / 10396"
     ]
    },
    {
     "name": "stderr",
     "output_type": "stream",
     "text": [
      "2023-11-24 12:23:55,869 INFO Welcome to the CDS\n",
      "2023-11-24 12:23:55,870 INFO Sending request to https://cds.climate.copernicus.eu/api/v2/resources/reanalysis-era5-pressure-levels\n"
     ]
    },
    {
     "name": "stdout",
     "output_type": "stream",
     "text": [
      "100% [..............................................................................] 10392 / 103924\n"
     ]
    },
    {
     "name": "stderr",
     "output_type": "stream",
     "text": [
      "2023-11-24 12:23:57,160 INFO Welcome to the CDS\n",
      "2023-11-24 12:23:57,161 INFO Sending request to https://cds.climate.copernicus.eu/api/v2/resources/reanalysis-era5-pressure-levels\n"
     ]
    },
    {
     "name": "stdout",
     "output_type": "stream",
     "text": [
      "100% [..............................................................................] 10396 / 10396"
     ]
    },
    {
     "name": "stderr",
     "output_type": "stream",
     "text": [
      "2023-11-24 12:23:58,629 INFO Welcome to the CDS\n",
      "2023-11-24 12:23:58,630 INFO Sending request to https://cds.climate.copernicus.eu/api/v2/resources/reanalysis-era5-pressure-levels\n"
     ]
    },
    {
     "name": "stdout",
     "output_type": "stream",
     "text": [
      "100% [..............................................................................] 10392 / 103925\n"
     ]
    },
    {
     "name": "stderr",
     "output_type": "stream",
     "text": [
      "2023-11-24 12:23:59,929 INFO Welcome to the CDS\n",
      "2023-11-24 12:23:59,930 INFO Sending request to https://cds.climate.copernicus.eu/api/v2/resources/reanalysis-era5-pressure-levels\n"
     ]
    },
    {
     "name": "stdout",
     "output_type": "stream",
     "text": [
      "100% [..............................................................................] 10400 / 10400"
     ]
    },
    {
     "name": "stderr",
     "output_type": "stream",
     "text": [
      "2023-11-24 12:24:01,230 INFO Welcome to the CDS\n",
      "2023-11-24 12:24:01,231 INFO Sending request to https://cds.climate.copernicus.eu/api/v2/resources/reanalysis-era5-pressure-levels\n"
     ]
    },
    {
     "name": "stdout",
     "output_type": "stream",
     "text": [
      "100% [..............................................................................] 10396 / 103966\n"
     ]
    },
    {
     "name": "stderr",
     "output_type": "stream",
     "text": [
      "2023-11-24 12:24:02,618 INFO Welcome to the CDS\n",
      "2023-11-24 12:24:02,620 INFO Sending request to https://cds.climate.copernicus.eu/api/v2/resources/reanalysis-era5-pressure-levels\n"
     ]
    },
    {
     "name": "stdout",
     "output_type": "stream",
     "text": [
      "100% [..............................................................................] 10396 / 10396"
     ]
    },
    {
     "name": "stderr",
     "output_type": "stream",
     "text": [
      "2023-11-24 12:24:04,108 INFO Welcome to the CDS\n",
      "2023-11-24 12:24:04,109 INFO Sending request to https://cds.climate.copernicus.eu/api/v2/resources/reanalysis-era5-pressure-levels\n"
     ]
    },
    {
     "name": "stdout",
     "output_type": "stream",
     "text": [
      "100% [..............................................................................] 10400 / 104007\n"
     ]
    },
    {
     "name": "stderr",
     "output_type": "stream",
     "text": [
      "2023-11-24 12:24:05,434 INFO Welcome to the CDS\n",
      "2023-11-24 12:24:05,436 INFO Sending request to https://cds.climate.copernicus.eu/api/v2/resources/reanalysis-era5-pressure-levels\n"
     ]
    },
    {
     "name": "stdout",
     "output_type": "stream",
     "text": [
      "100% [..............................................................................] 10400 / 10400"
     ]
    },
    {
     "name": "stderr",
     "output_type": "stream",
     "text": [
      "2023-11-24 12:24:06,741 INFO Welcome to the CDS\n",
      "2023-11-24 12:24:06,743 INFO Sending request to https://cds.climate.copernicus.eu/api/v2/resources/reanalysis-era5-pressure-levels\n"
     ]
    },
    {
     "name": "stdout",
     "output_type": "stream",
     "text": [
      "100% [..............................................................................] 10396 / 103968\n"
     ]
    },
    {
     "name": "stderr",
     "output_type": "stream",
     "text": [
      "2023-11-24 12:24:08,145 INFO Welcome to the CDS\n",
      "2023-11-24 12:24:08,146 INFO Sending request to https://cds.climate.copernicus.eu/api/v2/resources/reanalysis-era5-pressure-levels\n"
     ]
    },
    {
     "name": "stdout",
     "output_type": "stream",
     "text": [
      "100% [..............................................................................] 10396 / 10396"
     ]
    },
    {
     "name": "stderr",
     "output_type": "stream",
     "text": [
      "2023-11-24 12:24:09,550 INFO Welcome to the CDS\n",
      "2023-11-24 12:24:09,551 INFO Sending request to https://cds.climate.copernicus.eu/api/v2/resources/reanalysis-era5-pressure-levels\n"
     ]
    },
    {
     "name": "stdout",
     "output_type": "stream",
     "text": [
      "100% [..............................................................................] 10400 / 104009\n"
     ]
    },
    {
     "name": "stderr",
     "output_type": "stream",
     "text": [
      "2023-11-24 12:24:10,849 INFO Welcome to the CDS\n",
      "2023-11-24 12:24:10,851 INFO Sending request to https://cds.climate.copernicus.eu/api/v2/resources/reanalysis-era5-pressure-levels\n"
     ]
    },
    {
     "name": "stdout",
     "output_type": "stream",
     "text": [
      "100% [..............................................................................] 10396 / 10396"
     ]
    },
    {
     "ename": "KeyboardInterrupt",
     "evalue": "",
     "output_type": "error",
     "traceback": [
      "\u001b[0;31m---------------------------------------------------------------------------\u001b[0m",
      "\u001b[0;31mKeyboardInterrupt\u001b[0m                         Traceback (most recent call last)",
      "Cell \u001b[0;32mIn[68], line 125\u001b[0m\n\u001b[1;32m    123\u001b[0m path \u001b[38;5;241m=\u001b[39m event_dir\u001b[38;5;241m+\u001b[39m\u001b[38;5;124m'\u001b[39m\u001b[38;5;124m/\u001b[39m\u001b[38;5;124m'\u001b[39m  \u001b[38;5;66;03m# 存放文件夹\u001b[39;00m\n\u001b[1;32m    124\u001b[0m filename \u001b[38;5;241m=\u001b[39m \u001b[38;5;124m'\u001b[39m\u001b[38;5;124mtime_after_\u001b[39m\u001b[38;5;124m'\u001b[39m\u001b[38;5;241m+\u001b[39m\u001b[38;5;28mstr\u001b[39m(dt)\u001b[38;5;241m+\u001b[39m\u001b[38;5;124m'\u001b[39m\u001b[38;5;124m.nc\u001b[39m\u001b[38;5;124m'\u001b[39m  \u001b[38;5;66;03m# 文件名\u001b[39;00m\n\u001b[0;32m--> 125\u001b[0m \u001b[43mDownloader\u001b[49m\u001b[43m(\u001b[49m\u001b[43murl\u001b[49m\u001b[43m,\u001b[49m\u001b[43m \u001b[49m\u001b[43mpath\u001b[49m\u001b[43m,\u001b[49m\u001b[43m \u001b[49m\u001b[43mfilename\u001b[49m\u001b[43m)\u001b[49m  \u001b[38;5;66;03m# 添加进IDM中下载\u001b[39;00m\n",
      "Cell \u001b[0;32mIn[68], line 23\u001b[0m, in \u001b[0;36mDownloader\u001b[0;34m(task_url, folder_path, file_name)\u001b[0m\n\u001b[1;32m     15\u001b[0m \u001b[38;5;28;01mdef\u001b[39;00m \u001b[38;5;21mDownloader\u001b[39m(task_url, folder_path, file_name):\n\u001b[1;32m     16\u001b[0m \u001b[38;5;250m    \u001b[39m\u001b[38;5;124;03m\"\"\"\u001b[39;00m\n\u001b[1;32m     17\u001b[0m \u001b[38;5;124;03m    下载器\u001b[39;00m\n\u001b[1;32m     18\u001b[0m \u001b[38;5;124;03m    :param task_url: 下载任务地址\u001b[39;00m\n\u001b[0;32m   (...)\u001b[0m\n\u001b[1;32m     21\u001b[0m \u001b[38;5;124;03m    :return:\u001b[39;00m\n\u001b[1;32m     22\u001b[0m \u001b[38;5;124;03m    \"\"\"\u001b[39;00m\n\u001b[0;32m---> 23\u001b[0m     \u001b[43mwget\u001b[49m\u001b[38;5;241;43m.\u001b[39;49m\u001b[43mdownload\u001b[49m\u001b[43m(\u001b[49m\u001b[43mtask_url\u001b[49m\u001b[43m,\u001b[49m\u001b[43mout\u001b[49m\u001b[38;5;241;43m=\u001b[39;49m\u001b[43mfolder_path\u001b[49m\u001b[38;5;241;43m+\u001b[39;49m\u001b[43mfile_name\u001b[49m\u001b[43m)\u001b[49m\n",
      "File \u001b[0;32m~/anaconda3/envs/lyf/lib/python3.10/site-packages/wget.py:526\u001b[0m, in \u001b[0;36mdownload\u001b[0;34m(url, out, bar)\u001b[0m\n\u001b[1;32m    524\u001b[0m \u001b[38;5;28;01melse\u001b[39;00m:\n\u001b[1;32m    525\u001b[0m     binurl \u001b[38;5;241m=\u001b[39m url\n\u001b[0;32m--> 526\u001b[0m (tmpfile, headers) \u001b[38;5;241m=\u001b[39m \u001b[43mulib\u001b[49m\u001b[38;5;241;43m.\u001b[39;49m\u001b[43murlretrieve\u001b[49m\u001b[43m(\u001b[49m\u001b[43mbinurl\u001b[49m\u001b[43m,\u001b[49m\u001b[43m \u001b[49m\u001b[43mtmpfile\u001b[49m\u001b[43m,\u001b[49m\u001b[43m \u001b[49m\u001b[43mcallback\u001b[49m\u001b[43m)\u001b[49m\n\u001b[1;32m    527\u001b[0m filename \u001b[38;5;241m=\u001b[39m detect_filename(url, out, headers)\n\u001b[1;32m    528\u001b[0m \u001b[38;5;28;01mif\u001b[39;00m outdir:\n",
      "File \u001b[0;32m~/anaconda3/envs/lyf/lib/python3.10/urllib/request.py:241\u001b[0m, in \u001b[0;36murlretrieve\u001b[0;34m(url, filename, reporthook, data)\u001b[0m\n\u001b[1;32m    224\u001b[0m \u001b[38;5;250m\u001b[39m\u001b[38;5;124;03m\"\"\"\u001b[39;00m\n\u001b[1;32m    225\u001b[0m \u001b[38;5;124;03mRetrieve a URL into a temporary location on disk.\u001b[39;00m\n\u001b[1;32m    226\u001b[0m \n\u001b[0;32m   (...)\u001b[0m\n\u001b[1;32m    237\u001b[0m \u001b[38;5;124;03mdata file as well as the resulting HTTPMessage object.\u001b[39;00m\n\u001b[1;32m    238\u001b[0m \u001b[38;5;124;03m\"\"\"\u001b[39;00m\n\u001b[1;32m    239\u001b[0m url_type, path \u001b[38;5;241m=\u001b[39m _splittype(url)\n\u001b[0;32m--> 241\u001b[0m \u001b[38;5;28;01mwith\u001b[39;00m contextlib\u001b[38;5;241m.\u001b[39mclosing(\u001b[43murlopen\u001b[49m\u001b[43m(\u001b[49m\u001b[43murl\u001b[49m\u001b[43m,\u001b[49m\u001b[43m \u001b[49m\u001b[43mdata\u001b[49m\u001b[43m)\u001b[49m) \u001b[38;5;28;01mas\u001b[39;00m fp:\n\u001b[1;32m    242\u001b[0m     headers \u001b[38;5;241m=\u001b[39m fp\u001b[38;5;241m.\u001b[39minfo()\n\u001b[1;32m    244\u001b[0m     \u001b[38;5;66;03m# Just return the local path and the \"headers\" for file://\u001b[39;00m\n\u001b[1;32m    245\u001b[0m     \u001b[38;5;66;03m# URLs. No sense in performing a copy unless requested.\u001b[39;00m\n",
      "File \u001b[0;32m~/anaconda3/envs/lyf/lib/python3.10/urllib/request.py:216\u001b[0m, in \u001b[0;36murlopen\u001b[0;34m(url, data, timeout, cafile, capath, cadefault, context)\u001b[0m\n\u001b[1;32m    214\u001b[0m \u001b[38;5;28;01melse\u001b[39;00m:\n\u001b[1;32m    215\u001b[0m     opener \u001b[38;5;241m=\u001b[39m _opener\n\u001b[0;32m--> 216\u001b[0m \u001b[38;5;28;01mreturn\u001b[39;00m \u001b[43mopener\u001b[49m\u001b[38;5;241;43m.\u001b[39;49m\u001b[43mopen\u001b[49m\u001b[43m(\u001b[49m\u001b[43murl\u001b[49m\u001b[43m,\u001b[49m\u001b[43m \u001b[49m\u001b[43mdata\u001b[49m\u001b[43m,\u001b[49m\u001b[43m \u001b[49m\u001b[43mtimeout\u001b[49m\u001b[43m)\u001b[49m\n",
      "File \u001b[0;32m~/anaconda3/envs/lyf/lib/python3.10/urllib/request.py:519\u001b[0m, in \u001b[0;36mOpenerDirector.open\u001b[0;34m(self, fullurl, data, timeout)\u001b[0m\n\u001b[1;32m    516\u001b[0m     req \u001b[38;5;241m=\u001b[39m meth(req)\n\u001b[1;32m    518\u001b[0m sys\u001b[38;5;241m.\u001b[39maudit(\u001b[38;5;124m'\u001b[39m\u001b[38;5;124murllib.Request\u001b[39m\u001b[38;5;124m'\u001b[39m, req\u001b[38;5;241m.\u001b[39mfull_url, req\u001b[38;5;241m.\u001b[39mdata, req\u001b[38;5;241m.\u001b[39mheaders, req\u001b[38;5;241m.\u001b[39mget_method())\n\u001b[0;32m--> 519\u001b[0m response \u001b[38;5;241m=\u001b[39m \u001b[38;5;28;43mself\u001b[39;49m\u001b[38;5;241;43m.\u001b[39;49m\u001b[43m_open\u001b[49m\u001b[43m(\u001b[49m\u001b[43mreq\u001b[49m\u001b[43m,\u001b[49m\u001b[43m \u001b[49m\u001b[43mdata\u001b[49m\u001b[43m)\u001b[49m\n\u001b[1;32m    521\u001b[0m \u001b[38;5;66;03m# post-process response\u001b[39;00m\n\u001b[1;32m    522\u001b[0m meth_name \u001b[38;5;241m=\u001b[39m protocol\u001b[38;5;241m+\u001b[39m\u001b[38;5;124m\"\u001b[39m\u001b[38;5;124m_response\u001b[39m\u001b[38;5;124m\"\u001b[39m\n",
      "File \u001b[0;32m~/anaconda3/envs/lyf/lib/python3.10/urllib/request.py:536\u001b[0m, in \u001b[0;36mOpenerDirector._open\u001b[0;34m(self, req, data)\u001b[0m\n\u001b[1;32m    533\u001b[0m     \u001b[38;5;28;01mreturn\u001b[39;00m result\n\u001b[1;32m    535\u001b[0m protocol \u001b[38;5;241m=\u001b[39m req\u001b[38;5;241m.\u001b[39mtype\n\u001b[0;32m--> 536\u001b[0m result \u001b[38;5;241m=\u001b[39m \u001b[38;5;28;43mself\u001b[39;49m\u001b[38;5;241;43m.\u001b[39;49m\u001b[43m_call_chain\u001b[49m\u001b[43m(\u001b[49m\u001b[38;5;28;43mself\u001b[39;49m\u001b[38;5;241;43m.\u001b[39;49m\u001b[43mhandle_open\u001b[49m\u001b[43m,\u001b[49m\u001b[43m \u001b[49m\u001b[43mprotocol\u001b[49m\u001b[43m,\u001b[49m\u001b[43m \u001b[49m\u001b[43mprotocol\u001b[49m\u001b[43m \u001b[49m\u001b[38;5;241;43m+\u001b[39;49m\n\u001b[1;32m    537\u001b[0m \u001b[43m                          \u001b[49m\u001b[38;5;124;43m'\u001b[39;49m\u001b[38;5;124;43m_open\u001b[39;49m\u001b[38;5;124;43m'\u001b[39;49m\u001b[43m,\u001b[49m\u001b[43m \u001b[49m\u001b[43mreq\u001b[49m\u001b[43m)\u001b[49m\n\u001b[1;32m    538\u001b[0m \u001b[38;5;28;01mif\u001b[39;00m result:\n\u001b[1;32m    539\u001b[0m     \u001b[38;5;28;01mreturn\u001b[39;00m result\n",
      "File \u001b[0;32m~/anaconda3/envs/lyf/lib/python3.10/urllib/request.py:496\u001b[0m, in \u001b[0;36mOpenerDirector._call_chain\u001b[0;34m(self, chain, kind, meth_name, *args)\u001b[0m\n\u001b[1;32m    494\u001b[0m \u001b[38;5;28;01mfor\u001b[39;00m handler \u001b[38;5;129;01min\u001b[39;00m handlers:\n\u001b[1;32m    495\u001b[0m     func \u001b[38;5;241m=\u001b[39m \u001b[38;5;28mgetattr\u001b[39m(handler, meth_name)\n\u001b[0;32m--> 496\u001b[0m     result \u001b[38;5;241m=\u001b[39m \u001b[43mfunc\u001b[49m\u001b[43m(\u001b[49m\u001b[38;5;241;43m*\u001b[39;49m\u001b[43margs\u001b[49m\u001b[43m)\u001b[49m\n\u001b[1;32m    497\u001b[0m     \u001b[38;5;28;01mif\u001b[39;00m result \u001b[38;5;129;01mis\u001b[39;00m \u001b[38;5;129;01mnot\u001b[39;00m \u001b[38;5;28;01mNone\u001b[39;00m:\n\u001b[1;32m    498\u001b[0m         \u001b[38;5;28;01mreturn\u001b[39;00m result\n",
      "File \u001b[0;32m~/anaconda3/envs/lyf/lib/python3.10/urllib/request.py:1391\u001b[0m, in \u001b[0;36mHTTPSHandler.https_open\u001b[0;34m(self, req)\u001b[0m\n\u001b[1;32m   1390\u001b[0m \u001b[38;5;28;01mdef\u001b[39;00m \u001b[38;5;21mhttps_open\u001b[39m(\u001b[38;5;28mself\u001b[39m, req):\n\u001b[0;32m-> 1391\u001b[0m     \u001b[38;5;28;01mreturn\u001b[39;00m \u001b[38;5;28;43mself\u001b[39;49m\u001b[38;5;241;43m.\u001b[39;49m\u001b[43mdo_open\u001b[49m\u001b[43m(\u001b[49m\u001b[43mhttp\u001b[49m\u001b[38;5;241;43m.\u001b[39;49m\u001b[43mclient\u001b[49m\u001b[38;5;241;43m.\u001b[39;49m\u001b[43mHTTPSConnection\u001b[49m\u001b[43m,\u001b[49m\u001b[43m \u001b[49m\u001b[43mreq\u001b[49m\u001b[43m,\u001b[49m\n\u001b[1;32m   1392\u001b[0m \u001b[43m        \u001b[49m\u001b[43mcontext\u001b[49m\u001b[38;5;241;43m=\u001b[39;49m\u001b[38;5;28;43mself\u001b[39;49m\u001b[38;5;241;43m.\u001b[39;49m\u001b[43m_context\u001b[49m\u001b[43m,\u001b[49m\u001b[43m \u001b[49m\u001b[43mcheck_hostname\u001b[49m\u001b[38;5;241;43m=\u001b[39;49m\u001b[38;5;28;43mself\u001b[39;49m\u001b[38;5;241;43m.\u001b[39;49m\u001b[43m_check_hostname\u001b[49m\u001b[43m)\u001b[49m\n",
      "File \u001b[0;32m~/anaconda3/envs/lyf/lib/python3.10/urllib/request.py:1348\u001b[0m, in \u001b[0;36mAbstractHTTPHandler.do_open\u001b[0;34m(self, http_class, req, **http_conn_args)\u001b[0m\n\u001b[1;32m   1346\u001b[0m \u001b[38;5;28;01mtry\u001b[39;00m:\n\u001b[1;32m   1347\u001b[0m     \u001b[38;5;28;01mtry\u001b[39;00m:\n\u001b[0;32m-> 1348\u001b[0m         \u001b[43mh\u001b[49m\u001b[38;5;241;43m.\u001b[39;49m\u001b[43mrequest\u001b[49m\u001b[43m(\u001b[49m\u001b[43mreq\u001b[49m\u001b[38;5;241;43m.\u001b[39;49m\u001b[43mget_method\u001b[49m\u001b[43m(\u001b[49m\u001b[43m)\u001b[49m\u001b[43m,\u001b[49m\u001b[43m \u001b[49m\u001b[43mreq\u001b[49m\u001b[38;5;241;43m.\u001b[39;49m\u001b[43mselector\u001b[49m\u001b[43m,\u001b[49m\u001b[43m \u001b[49m\u001b[43mreq\u001b[49m\u001b[38;5;241;43m.\u001b[39;49m\u001b[43mdata\u001b[49m\u001b[43m,\u001b[49m\u001b[43m \u001b[49m\u001b[43mheaders\u001b[49m\u001b[43m,\u001b[49m\n\u001b[1;32m   1349\u001b[0m \u001b[43m                  \u001b[49m\u001b[43mencode_chunked\u001b[49m\u001b[38;5;241;43m=\u001b[39;49m\u001b[43mreq\u001b[49m\u001b[38;5;241;43m.\u001b[39;49m\u001b[43mhas_header\u001b[49m\u001b[43m(\u001b[49m\u001b[38;5;124;43m'\u001b[39;49m\u001b[38;5;124;43mTransfer-encoding\u001b[39;49m\u001b[38;5;124;43m'\u001b[39;49m\u001b[43m)\u001b[49m\u001b[43m)\u001b[49m\n\u001b[1;32m   1350\u001b[0m     \u001b[38;5;28;01mexcept\u001b[39;00m \u001b[38;5;167;01mOSError\u001b[39;00m \u001b[38;5;28;01mas\u001b[39;00m err: \u001b[38;5;66;03m# timeout error\u001b[39;00m\n\u001b[1;32m   1351\u001b[0m         \u001b[38;5;28;01mraise\u001b[39;00m URLError(err)\n",
      "File \u001b[0;32m~/anaconda3/envs/lyf/lib/python3.10/http/client.py:1282\u001b[0m, in \u001b[0;36mHTTPConnection.request\u001b[0;34m(self, method, url, body, headers, encode_chunked)\u001b[0m\n\u001b[1;32m   1279\u001b[0m \u001b[38;5;28;01mdef\u001b[39;00m \u001b[38;5;21mrequest\u001b[39m(\u001b[38;5;28mself\u001b[39m, method, url, body\u001b[38;5;241m=\u001b[39m\u001b[38;5;28;01mNone\u001b[39;00m, headers\u001b[38;5;241m=\u001b[39m{}, \u001b[38;5;241m*\u001b[39m,\n\u001b[1;32m   1280\u001b[0m             encode_chunked\u001b[38;5;241m=\u001b[39m\u001b[38;5;28;01mFalse\u001b[39;00m):\n\u001b[1;32m   1281\u001b[0m \u001b[38;5;250m    \u001b[39m\u001b[38;5;124;03m\"\"\"Send a complete request to the server.\"\"\"\u001b[39;00m\n\u001b[0;32m-> 1282\u001b[0m     \u001b[38;5;28;43mself\u001b[39;49m\u001b[38;5;241;43m.\u001b[39;49m\u001b[43m_send_request\u001b[49m\u001b[43m(\u001b[49m\u001b[43mmethod\u001b[49m\u001b[43m,\u001b[49m\u001b[43m \u001b[49m\u001b[43murl\u001b[49m\u001b[43m,\u001b[49m\u001b[43m \u001b[49m\u001b[43mbody\u001b[49m\u001b[43m,\u001b[49m\u001b[43m \u001b[49m\u001b[43mheaders\u001b[49m\u001b[43m,\u001b[49m\u001b[43m \u001b[49m\u001b[43mencode_chunked\u001b[49m\u001b[43m)\u001b[49m\n",
      "File \u001b[0;32m~/anaconda3/envs/lyf/lib/python3.10/http/client.py:1328\u001b[0m, in \u001b[0;36mHTTPConnection._send_request\u001b[0;34m(self, method, url, body, headers, encode_chunked)\u001b[0m\n\u001b[1;32m   1324\u001b[0m \u001b[38;5;28;01mif\u001b[39;00m \u001b[38;5;28misinstance\u001b[39m(body, \u001b[38;5;28mstr\u001b[39m):\n\u001b[1;32m   1325\u001b[0m     \u001b[38;5;66;03m# RFC 2616 Section 3.7.1 says that text default has a\u001b[39;00m\n\u001b[1;32m   1326\u001b[0m     \u001b[38;5;66;03m# default charset of iso-8859-1.\u001b[39;00m\n\u001b[1;32m   1327\u001b[0m     body \u001b[38;5;241m=\u001b[39m _encode(body, \u001b[38;5;124m'\u001b[39m\u001b[38;5;124mbody\u001b[39m\u001b[38;5;124m'\u001b[39m)\n\u001b[0;32m-> 1328\u001b[0m \u001b[38;5;28;43mself\u001b[39;49m\u001b[38;5;241;43m.\u001b[39;49m\u001b[43mendheaders\u001b[49m\u001b[43m(\u001b[49m\u001b[43mbody\u001b[49m\u001b[43m,\u001b[49m\u001b[43m \u001b[49m\u001b[43mencode_chunked\u001b[49m\u001b[38;5;241;43m=\u001b[39;49m\u001b[43mencode_chunked\u001b[49m\u001b[43m)\u001b[49m\n",
      "File \u001b[0;32m~/anaconda3/envs/lyf/lib/python3.10/http/client.py:1277\u001b[0m, in \u001b[0;36mHTTPConnection.endheaders\u001b[0;34m(self, message_body, encode_chunked)\u001b[0m\n\u001b[1;32m   1275\u001b[0m \u001b[38;5;28;01melse\u001b[39;00m:\n\u001b[1;32m   1276\u001b[0m     \u001b[38;5;28;01mraise\u001b[39;00m CannotSendHeader()\n\u001b[0;32m-> 1277\u001b[0m \u001b[38;5;28;43mself\u001b[39;49m\u001b[38;5;241;43m.\u001b[39;49m\u001b[43m_send_output\u001b[49m\u001b[43m(\u001b[49m\u001b[43mmessage_body\u001b[49m\u001b[43m,\u001b[49m\u001b[43m \u001b[49m\u001b[43mencode_chunked\u001b[49m\u001b[38;5;241;43m=\u001b[39;49m\u001b[43mencode_chunked\u001b[49m\u001b[43m)\u001b[49m\n",
      "File \u001b[0;32m~/anaconda3/envs/lyf/lib/python3.10/http/client.py:1037\u001b[0m, in \u001b[0;36mHTTPConnection._send_output\u001b[0;34m(self, message_body, encode_chunked)\u001b[0m\n\u001b[1;32m   1035\u001b[0m msg \u001b[38;5;241m=\u001b[39m \u001b[38;5;124mb\u001b[39m\u001b[38;5;124m\"\u001b[39m\u001b[38;5;130;01m\\r\u001b[39;00m\u001b[38;5;130;01m\\n\u001b[39;00m\u001b[38;5;124m\"\u001b[39m\u001b[38;5;241m.\u001b[39mjoin(\u001b[38;5;28mself\u001b[39m\u001b[38;5;241m.\u001b[39m_buffer)\n\u001b[1;32m   1036\u001b[0m \u001b[38;5;28;01mdel\u001b[39;00m \u001b[38;5;28mself\u001b[39m\u001b[38;5;241m.\u001b[39m_buffer[:]\n\u001b[0;32m-> 1037\u001b[0m \u001b[38;5;28;43mself\u001b[39;49m\u001b[38;5;241;43m.\u001b[39;49m\u001b[43msend\u001b[49m\u001b[43m(\u001b[49m\u001b[43mmsg\u001b[49m\u001b[43m)\u001b[49m\n\u001b[1;32m   1039\u001b[0m \u001b[38;5;28;01mif\u001b[39;00m message_body \u001b[38;5;129;01mis\u001b[39;00m \u001b[38;5;129;01mnot\u001b[39;00m \u001b[38;5;28;01mNone\u001b[39;00m:\n\u001b[1;32m   1040\u001b[0m \n\u001b[1;32m   1041\u001b[0m     \u001b[38;5;66;03m# create a consistent interface to message_body\u001b[39;00m\n\u001b[1;32m   1042\u001b[0m     \u001b[38;5;28;01mif\u001b[39;00m \u001b[38;5;28mhasattr\u001b[39m(message_body, \u001b[38;5;124m'\u001b[39m\u001b[38;5;124mread\u001b[39m\u001b[38;5;124m'\u001b[39m):\n\u001b[1;32m   1043\u001b[0m         \u001b[38;5;66;03m# Let file-like take precedence over byte-like.  This\u001b[39;00m\n\u001b[1;32m   1044\u001b[0m         \u001b[38;5;66;03m# is needed to allow the current position of mmap'ed\u001b[39;00m\n\u001b[1;32m   1045\u001b[0m         \u001b[38;5;66;03m# files to be taken into account.\u001b[39;00m\n",
      "File \u001b[0;32m~/anaconda3/envs/lyf/lib/python3.10/http/client.py:975\u001b[0m, in \u001b[0;36mHTTPConnection.send\u001b[0;34m(self, data)\u001b[0m\n\u001b[1;32m    973\u001b[0m \u001b[38;5;28;01mif\u001b[39;00m \u001b[38;5;28mself\u001b[39m\u001b[38;5;241m.\u001b[39msock \u001b[38;5;129;01mis\u001b[39;00m \u001b[38;5;28;01mNone\u001b[39;00m:\n\u001b[1;32m    974\u001b[0m     \u001b[38;5;28;01mif\u001b[39;00m \u001b[38;5;28mself\u001b[39m\u001b[38;5;241m.\u001b[39mauto_open:\n\u001b[0;32m--> 975\u001b[0m         \u001b[38;5;28;43mself\u001b[39;49m\u001b[38;5;241;43m.\u001b[39;49m\u001b[43mconnect\u001b[49m\u001b[43m(\u001b[49m\u001b[43m)\u001b[49m\n\u001b[1;32m    976\u001b[0m     \u001b[38;5;28;01melse\u001b[39;00m:\n\u001b[1;32m    977\u001b[0m         \u001b[38;5;28;01mraise\u001b[39;00m NotConnected()\n",
      "File \u001b[0;32m~/anaconda3/envs/lyf/lib/python3.10/http/client.py:1454\u001b[0m, in \u001b[0;36mHTTPSConnection.connect\u001b[0;34m(self)\u001b[0m\n\u001b[1;32m   1451\u001b[0m \u001b[38;5;28;01melse\u001b[39;00m:\n\u001b[1;32m   1452\u001b[0m     server_hostname \u001b[38;5;241m=\u001b[39m \u001b[38;5;28mself\u001b[39m\u001b[38;5;241m.\u001b[39mhost\n\u001b[0;32m-> 1454\u001b[0m \u001b[38;5;28mself\u001b[39m\u001b[38;5;241m.\u001b[39msock \u001b[38;5;241m=\u001b[39m \u001b[38;5;28;43mself\u001b[39;49m\u001b[38;5;241;43m.\u001b[39;49m\u001b[43m_context\u001b[49m\u001b[38;5;241;43m.\u001b[39;49m\u001b[43mwrap_socket\u001b[49m\u001b[43m(\u001b[49m\u001b[38;5;28;43mself\u001b[39;49m\u001b[38;5;241;43m.\u001b[39;49m\u001b[43msock\u001b[49m\u001b[43m,\u001b[49m\n\u001b[1;32m   1455\u001b[0m \u001b[43m                                      \u001b[49m\u001b[43mserver_hostname\u001b[49m\u001b[38;5;241;43m=\u001b[39;49m\u001b[43mserver_hostname\u001b[49m\u001b[43m)\u001b[49m\n",
      "File \u001b[0;32m~/anaconda3/envs/lyf/lib/python3.10/ssl.py:513\u001b[0m, in \u001b[0;36mSSLContext.wrap_socket\u001b[0;34m(self, sock, server_side, do_handshake_on_connect, suppress_ragged_eofs, server_hostname, session)\u001b[0m\n\u001b[1;32m    507\u001b[0m \u001b[38;5;28;01mdef\u001b[39;00m \u001b[38;5;21mwrap_socket\u001b[39m(\u001b[38;5;28mself\u001b[39m, sock, server_side\u001b[38;5;241m=\u001b[39m\u001b[38;5;28;01mFalse\u001b[39;00m,\n\u001b[1;32m    508\u001b[0m                 do_handshake_on_connect\u001b[38;5;241m=\u001b[39m\u001b[38;5;28;01mTrue\u001b[39;00m,\n\u001b[1;32m    509\u001b[0m                 suppress_ragged_eofs\u001b[38;5;241m=\u001b[39m\u001b[38;5;28;01mTrue\u001b[39;00m,\n\u001b[1;32m    510\u001b[0m                 server_hostname\u001b[38;5;241m=\u001b[39m\u001b[38;5;28;01mNone\u001b[39;00m, session\u001b[38;5;241m=\u001b[39m\u001b[38;5;28;01mNone\u001b[39;00m):\n\u001b[1;32m    511\u001b[0m     \u001b[38;5;66;03m# SSLSocket class handles server_hostname encoding before it calls\u001b[39;00m\n\u001b[1;32m    512\u001b[0m     \u001b[38;5;66;03m# ctx._wrap_socket()\u001b[39;00m\n\u001b[0;32m--> 513\u001b[0m     \u001b[38;5;28;01mreturn\u001b[39;00m \u001b[38;5;28;43mself\u001b[39;49m\u001b[38;5;241;43m.\u001b[39;49m\u001b[43msslsocket_class\u001b[49m\u001b[38;5;241;43m.\u001b[39;49m\u001b[43m_create\u001b[49m\u001b[43m(\u001b[49m\n\u001b[1;32m    514\u001b[0m \u001b[43m        \u001b[49m\u001b[43msock\u001b[49m\u001b[38;5;241;43m=\u001b[39;49m\u001b[43msock\u001b[49m\u001b[43m,\u001b[49m\n\u001b[1;32m    515\u001b[0m \u001b[43m        \u001b[49m\u001b[43mserver_side\u001b[49m\u001b[38;5;241;43m=\u001b[39;49m\u001b[43mserver_side\u001b[49m\u001b[43m,\u001b[49m\n\u001b[1;32m    516\u001b[0m \u001b[43m        \u001b[49m\u001b[43mdo_handshake_on_connect\u001b[49m\u001b[38;5;241;43m=\u001b[39;49m\u001b[43mdo_handshake_on_connect\u001b[49m\u001b[43m,\u001b[49m\n\u001b[1;32m    517\u001b[0m \u001b[43m        \u001b[49m\u001b[43msuppress_ragged_eofs\u001b[49m\u001b[38;5;241;43m=\u001b[39;49m\u001b[43msuppress_ragged_eofs\u001b[49m\u001b[43m,\u001b[49m\n\u001b[1;32m    518\u001b[0m \u001b[43m        \u001b[49m\u001b[43mserver_hostname\u001b[49m\u001b[38;5;241;43m=\u001b[39;49m\u001b[43mserver_hostname\u001b[49m\u001b[43m,\u001b[49m\n\u001b[1;32m    519\u001b[0m \u001b[43m        \u001b[49m\u001b[43mcontext\u001b[49m\u001b[38;5;241;43m=\u001b[39;49m\u001b[38;5;28;43mself\u001b[39;49m\u001b[43m,\u001b[49m\n\u001b[1;32m    520\u001b[0m \u001b[43m        \u001b[49m\u001b[43msession\u001b[49m\u001b[38;5;241;43m=\u001b[39;49m\u001b[43msession\u001b[49m\n\u001b[1;32m    521\u001b[0m \u001b[43m    \u001b[49m\u001b[43m)\u001b[49m\n",
      "File \u001b[0;32m~/anaconda3/envs/lyf/lib/python3.10/ssl.py:1071\u001b[0m, in \u001b[0;36mSSLSocket._create\u001b[0;34m(cls, sock, server_side, do_handshake_on_connect, suppress_ragged_eofs, server_hostname, context, session)\u001b[0m\n\u001b[1;32m   1068\u001b[0m         \u001b[38;5;28;01mif\u001b[39;00m timeout \u001b[38;5;241m==\u001b[39m \u001b[38;5;241m0.0\u001b[39m:\n\u001b[1;32m   1069\u001b[0m             \u001b[38;5;66;03m# non-blocking\u001b[39;00m\n\u001b[1;32m   1070\u001b[0m             \u001b[38;5;28;01mraise\u001b[39;00m \u001b[38;5;167;01mValueError\u001b[39;00m(\u001b[38;5;124m\"\u001b[39m\u001b[38;5;124mdo_handshake_on_connect should not be specified for non-blocking sockets\u001b[39m\u001b[38;5;124m\"\u001b[39m)\n\u001b[0;32m-> 1071\u001b[0m         \u001b[38;5;28;43mself\u001b[39;49m\u001b[38;5;241;43m.\u001b[39;49m\u001b[43mdo_handshake\u001b[49m\u001b[43m(\u001b[49m\u001b[43m)\u001b[49m\n\u001b[1;32m   1072\u001b[0m \u001b[38;5;28;01mexcept\u001b[39;00m (\u001b[38;5;167;01mOSError\u001b[39;00m, \u001b[38;5;167;01mValueError\u001b[39;00m):\n\u001b[1;32m   1073\u001b[0m     \u001b[38;5;28mself\u001b[39m\u001b[38;5;241m.\u001b[39mclose()\n",
      "File \u001b[0;32m~/anaconda3/envs/lyf/lib/python3.10/ssl.py:1342\u001b[0m, in \u001b[0;36mSSLSocket.do_handshake\u001b[0;34m(self, block)\u001b[0m\n\u001b[1;32m   1340\u001b[0m     \u001b[38;5;28;01mif\u001b[39;00m timeout \u001b[38;5;241m==\u001b[39m \u001b[38;5;241m0.0\u001b[39m \u001b[38;5;129;01mand\u001b[39;00m block:\n\u001b[1;32m   1341\u001b[0m         \u001b[38;5;28mself\u001b[39m\u001b[38;5;241m.\u001b[39msettimeout(\u001b[38;5;28;01mNone\u001b[39;00m)\n\u001b[0;32m-> 1342\u001b[0m     \u001b[38;5;28;43mself\u001b[39;49m\u001b[38;5;241;43m.\u001b[39;49m\u001b[43m_sslobj\u001b[49m\u001b[38;5;241;43m.\u001b[39;49m\u001b[43mdo_handshake\u001b[49m\u001b[43m(\u001b[49m\u001b[43m)\u001b[49m\n\u001b[1;32m   1343\u001b[0m \u001b[38;5;28;01mfinally\u001b[39;00m:\n\u001b[1;32m   1344\u001b[0m     \u001b[38;5;28mself\u001b[39m\u001b[38;5;241m.\u001b[39msettimeout(timeout)\n",
      "\u001b[0;31mKeyboardInterrupt\u001b[0m: "
     ]
    }
   ],
   "source": [
    "import cdsapi\n",
    "import wget\n",
    "c = cdsapi.Client()  # 创建用户\n",
    "from subprocess import call\n",
    "import pandas as pd\n",
    "import os\n",
    "import datetime\n",
    "\n",
    "# pyroCb events info\n",
    "csv_file_path='/Users/liuyangfan/Desktop/Stanford/pyrocast-database/pyrocb_events.csv'\n",
    "events_df = pd.read_csv(csv_file_path)\n",
    "\n",
    "# functions\n",
    "# Function to download with wget\n",
    "def Downloader(task_url, folder_path, file_name):\n",
    "    \"\"\"\n",
    "    下载器\n",
    "    :param task_url: 下载任务地址\n",
    "    :param folder_path: 存放文件夹\n",
    "    :param file_name: 文件名\n",
    "    :return:\n",
    "    \"\"\"\n",
    "    wget.download(task_url,out=folder_path+file_name)#folder_path needs '/' in the end\n",
    "\n",
    "# Function to determine the geographical area\n",
    "def determine_geographical_area(longitude, latitude):\n",
    "    # Adjusting the coordinates to the nearest 0.25 degree grid\n",
    "    north = latitude + 0.25 - (latitude % 0.25)\n",
    "    south = latitude - (latitude % 0.25)\n",
    "    if latitude % 0.25==0:\n",
    "        south=south-0.25\n",
    "    east = longitude + 0.25 - (longitude % 0.25)\n",
    "    west = longitude - (longitude % 0.25)\n",
    "    if longitude % 0.25==0:\n",
    "        west=west-0.25\n",
    "    return [north, west, south, east]\n",
    "\n",
    "    \n",
    "download_directory = '/Users/liuyangfan/Desktop/Stanford/pyrocast-database/era5/pyroCb_events_pressure_level/'\n",
    "vars=['divergence', 'fraction_of_cloud_cover', 'geopotential',\n",
    "        'ozone_mass_mixing_ratio', 'potential_vorticity', 'relative_humidity',\n",
    "        'specific_cloud_ice_water_content', 'specific_cloud_liquid_water_content', 'specific_humidity',\n",
    "        'specific_rain_water_content', 'specific_snow_water_content', 'temperature',\n",
    "        'u_component_of_wind', 'v_component_of_wind', 'vertical_velocity',\n",
    "        'vorticity',\n",
    "    ]\n",
    "p_levels=[\n",
    "                '1', '2', '3',\n",
    "                '5', '7', '10',\n",
    "                '20', '30', '50',\n",
    "                '70', '100', '125',\n",
    "                '150', '175', '200',\n",
    "                '225', '250', '300',\n",
    "                '350', '400', '450',\n",
    "                '500', '550', '600',\n",
    "                '650', '700', '750',\n",
    "                '775', '800', '825',\n",
    "                '850', '875', '900',\n",
    "                '925', '950', '975',\n",
    "                '1000',\n",
    "            ]\n",
    "############### 48 hr before and after ####################\n",
    "for index, row in events_df.iterrows():\n",
    "    # Skip rows without PyroCb time information\n",
    "    if pd.isna(row['pyroCb_time_utc']):\n",
    "        continue\n",
    "    if(int(row['pyroCb_time_utc'])>2359):\n",
    "        continue\n",
    "    # Formatting the event time\n",
    "    event_time = f\"{row['pyroCb_date_utc']} {int(row['pyroCb_time_utc']):04d}\"\n",
    "    event_datetime = datetime.datetime.strptime(event_time, '%Y-%m-%d %H%M')\n",
    "    for dt in range(0, 49):\n",
    "        # Your code here\n",
    "        print(dt)\n",
    "        # Calculate the time range\n",
    "        time_before=event_datetime - datetime.timedelta(hours=dt)\n",
    "        time_after=event_datetime + datetime.timedelta(hours=1+dt)\n",
    "        time_before=datetime.datetime.strftime(time_before,'%Y-%m-%d %H:%M:%S')\n",
    "        time_after=datetime.datetime.strftime(time_after,'%Y-%m-%d %H:%M:%S')\n",
    "        # Determine the geographical area\n",
    "        area = determine_geographical_area(row['pyroCb_longitude'], row['pyroCb_latitude'])\n",
    "        # Create a directory for the event\n",
    "        event_dir = os.path.join(download_directory, str(row['pyroCb_id']))\n",
    "        if not os.path.exists(event_dir):\n",
    "            os.makedirs(event_dir)\n",
    "    \n",
    "        r=c.retrieve(\n",
    "            'reanalysis-era5-pressure-levels',\n",
    "            {\n",
    "                'product_type': 'reanalysis',\n",
    "                'format': 'netcdf',\n",
    "                'variable': vars,\n",
    "                'pressure_level': p_levels,\n",
    "                'year': time_before[:4],#change to loop variable\n",
    "                'month': time_before[5:7],#change to loop variable\n",
    "                'day': time_before[8:10],#change to loop variable\n",
    "                'time': time_before[11:13]+':00',#change to loop variable\n",
    "                'area': area,#change to loop variable\n",
    "            },\n",
    "            )\n",
    "    \n",
    "        url = r.location  # 获取文件下载地址\n",
    "        path = event_dir+'/'  # 存放文件夹\n",
    "        filename = 'time_before_'+str(dt)+'.nc'  # 文件名\n",
    "        Downloader(url, path, filename)  # 添加进IDM中下载\n",
    "    \n",
    "        r=c.retrieve(\n",
    "            'reanalysis-era5-pressure-levels',\n",
    "            {\n",
    "                'product_type': 'reanalysis',\n",
    "                'format': 'netcdf',\n",
    "                'variable': vars,\n",
    "                'pressure_level': p_levels,\n",
    "                'year': time_after[:4],#change to loop variable\n",
    "                'month': time_after[5:7],#change to loop variable\n",
    "                'day': time_after[8:10],#change to loop variable\n",
    "                'time': time_after[11:13]+':00',#change to loop variable\n",
    "                'area': area,#change to loop variable\n",
    "            },\n",
    "            )\n",
    "    \n",
    "        url = r.location  # 获取文件下载地址\n",
    "        path = event_dir+'/'  # 存放文件夹\n",
    "        filename = 'time_after_'+str(dt)+'.nc'  # 文件名\n",
    "        Downloader(url, path, filename)  # 添加进IDM中下载"
   ]
  },
  {
   "cell_type": "code",
   "execution_count": 67,
   "id": "0926611f-f19b-4700-b532-aca328b96649",
   "metadata": {},
   "outputs": [
    {
     "name": "stdout",
     "output_type": "stream",
     "text": [
      "1\n"
     ]
    },
    {
     "name": "stderr",
     "output_type": "stream",
     "text": [
      "2023-11-24 11:32:11,904 INFO Welcome to the CDS\n",
      "2023-11-24 11:32:11,905 INFO Sending request to https://cds.climate.copernicus.eu/api/v2/resources/reanalysis-era5-pressure-levels\n",
      "2023-11-24 11:32:12,149 INFO Request is queued\n",
      "2023-11-24 11:32:13,337 INFO Request is running\n",
      "2023-11-24 11:32:26,252 INFO Request is completed\n",
      "2023-11-24 11:32:28,117 INFO Welcome to the CDS\n",
      "2023-11-24 11:32:28,118 INFO Sending request to https://cds.climate.copernicus.eu/api/v2/resources/reanalysis-era5-pressure-levels\n"
     ]
    },
    {
     "name": "stdout",
     "output_type": "stream",
     "text": [
      "100% [..............................................................................] 10392 / 10392"
     ]
    },
    {
     "name": "stderr",
     "output_type": "stream",
     "text": [
      "2023-11-24 11:32:28,303 INFO Request is queued\n",
      "2023-11-24 11:32:29,491 INFO Request is running\n",
      "2023-11-24 11:32:42,411 INFO Request is completed\n",
      "2023-11-24 11:32:43,463 INFO Welcome to the CDS\n",
      "2023-11-24 11:32:43,464 INFO Sending request to https://cds.climate.copernicus.eu/api/v2/resources/reanalysis-era5-pressure-levels\n"
     ]
    },
    {
     "name": "stdout",
     "output_type": "stream",
     "text": [
      "100% [..............................................................................] 10392 / 103922\n"
     ]
    },
    {
     "name": "stderr",
     "output_type": "stream",
     "text": [
      "2023-11-24 11:32:43,681 INFO Request is queued\n",
      "2023-11-24 11:32:44,864 INFO Request is running\n",
      "2023-11-24 11:32:57,777 INFO Request is completed\n",
      "2023-11-24 11:32:59,415 INFO Welcome to the CDS\n",
      "2023-11-24 11:32:59,416 INFO Sending request to https://cds.climate.copernicus.eu/api/v2/resources/reanalysis-era5-pressure-levels\n"
     ]
    },
    {
     "name": "stdout",
     "output_type": "stream",
     "text": [
      "100% [..............................................................................] 10396 / 10396"
     ]
    },
    {
     "name": "stderr",
     "output_type": "stream",
     "text": [
      "2023-11-24 11:32:59,600 INFO Request is queued\n",
      "2023-11-24 11:33:00,788 INFO Request is running\n",
      "2023-11-24 11:33:13,708 INFO Request is completed\n",
      "2023-11-24 11:33:14,977 INFO Welcome to the CDS\n",
      "2023-11-24 11:33:14,978 INFO Sending request to https://cds.climate.copernicus.eu/api/v2/resources/reanalysis-era5-pressure-levels\n"
     ]
    },
    {
     "name": "stdout",
     "output_type": "stream",
     "text": [
      "100% [..............................................................................] 10400 / 104003\n"
     ]
    },
    {
     "name": "stderr",
     "output_type": "stream",
     "text": [
      "2023-11-24 11:33:15,174 INFO Request is queued\n",
      "2023-11-24 11:33:16,361 INFO Request is running\n",
      "2023-11-24 11:33:29,398 INFO Request is completed\n",
      "2023-11-24 11:33:30,713 INFO Welcome to the CDS\n",
      "2023-11-24 11:33:30,715 INFO Sending request to https://cds.climate.copernicus.eu/api/v2/resources/reanalysis-era5-pressure-levels\n"
     ]
    },
    {
     "name": "stdout",
     "output_type": "stream",
     "text": [
      "100% [..............................................................................] 10396 / 10396"
     ]
    },
    {
     "name": "stderr",
     "output_type": "stream",
     "text": [
      "2023-11-24 11:33:30,913 INFO Request is queued\n",
      "2023-11-24 11:33:32,100 INFO Request is running\n",
      "2023-11-24 11:33:45,020 INFO Request is completed\n",
      "2023-11-24 11:33:46,924 INFO Welcome to the CDS\n",
      "2023-11-24 11:33:46,926 INFO Sending request to https://cds.climate.copernicus.eu/api/v2/resources/reanalysis-era5-pressure-levels\n"
     ]
    },
    {
     "name": "stdout",
     "output_type": "stream",
     "text": [
      "100% [..............................................................................] 10392 / 103924\n"
     ]
    },
    {
     "name": "stderr",
     "output_type": "stream",
     "text": [
      "2023-11-24 11:33:47,110 INFO Request is queued\n",
      "2023-11-24 11:33:48,294 INFO Request is running\n",
      "2023-11-24 11:34:01,221 INFO Request is completed\n",
      "2023-11-24 11:34:02,280 INFO Welcome to the CDS\n",
      "2023-11-24 11:34:02,282 INFO Sending request to https://cds.climate.copernicus.eu/api/v2/resources/reanalysis-era5-pressure-levels\n"
     ]
    },
    {
     "name": "stdout",
     "output_type": "stream",
     "text": [
      "100% [..............................................................................] 10396 / 10396"
     ]
    },
    {
     "name": "stderr",
     "output_type": "stream",
     "text": [
      "2023-11-24 11:34:02,498 INFO Request is queued\n",
      "2023-11-24 11:34:03,681 INFO Request is running\n",
      "2023-11-24 11:34:35,960 INFO Request is completed\n",
      "2023-11-24 11:34:37,782 INFO Welcome to the CDS\n",
      "2023-11-24 11:34:37,784 INFO Sending request to https://cds.climate.copernicus.eu/api/v2/resources/reanalysis-era5-pressure-levels\n"
     ]
    },
    {
     "name": "stdout",
     "output_type": "stream",
     "text": [
      "100% [..............................................................................] 10392 / 103925\n"
     ]
    },
    {
     "name": "stderr",
     "output_type": "stream",
     "text": [
      "2023-11-24 11:34:38,073 INFO Request is queued\n",
      "2023-11-24 11:34:39,259 INFO Request is running\n",
      "2023-11-24 11:34:52,185 INFO Request is completed\n",
      "2023-11-24 11:34:53,247 INFO Welcome to the CDS\n",
      "2023-11-24 11:34:53,248 INFO Sending request to https://cds.climate.copernicus.eu/api/v2/resources/reanalysis-era5-pressure-levels\n"
     ]
    },
    {
     "name": "stdout",
     "output_type": "stream",
     "text": [
      "100% [..............................................................................] 10400 / 10400"
     ]
    },
    {
     "name": "stderr",
     "output_type": "stream",
     "text": [
      "2023-11-24 11:34:53,431 INFO Request is queued\n",
      "2023-11-24 11:34:54,617 INFO Request is running\n",
      "2023-11-24 11:35:15,320 INFO Request is completed\n",
      "2023-11-24 11:35:16,640 INFO Welcome to the CDS\n",
      "2023-11-24 11:35:16,641 INFO Sending request to https://cds.climate.copernicus.eu/api/v2/resources/reanalysis-era5-pressure-levels\n"
     ]
    },
    {
     "name": "stdout",
     "output_type": "stream",
     "text": [
      "100% [..............................................................................] 10396 / 103966\n"
     ]
    },
    {
     "name": "stderr",
     "output_type": "stream",
     "text": [
      "2023-11-24 11:35:16,849 INFO Request is queued\n",
      "2023-11-24 11:35:19,718 INFO Request is running\n",
      "2023-11-24 11:35:30,955 INFO Request is completed\n",
      "2023-11-24 11:35:32,234 INFO Welcome to the CDS\n",
      "2023-11-24 11:35:32,235 INFO Sending request to https://cds.climate.copernicus.eu/api/v2/resources/reanalysis-era5-pressure-levels\n"
     ]
    },
    {
     "name": "stdout",
     "output_type": "stream",
     "text": [
      "100% [..............................................................................] 10396 / 10396"
     ]
    },
    {
     "name": "stderr",
     "output_type": "stream",
     "text": [
      "2023-11-24 11:35:32,417 INFO Request is queued\n",
      "2023-11-24 11:35:37,717 INFO Request is running\n",
      "2023-11-24 11:35:54,303 INFO Request is completed\n"
     ]
    },
    {
     "name": "stdout",
     "output_type": "stream",
     "text": [
      "100% [..............................................................................] 10400 / 104007\n"
     ]
    },
    {
     "name": "stderr",
     "output_type": "stream",
     "text": [
      "2023-11-24 11:35:56,689 INFO Welcome to the CDS\n",
      "2023-11-24 11:35:56,691 INFO Sending request to https://cds.climate.copernicus.eu/api/v2/resources/reanalysis-era5-pressure-levels\n",
      "2023-11-24 11:35:56,872 INFO Request is queued\n",
      "2023-11-24 11:36:02,174 INFO Request is running\n",
      "2023-11-24 11:36:18,756 INFO Request is completed\n",
      "2023-11-24 11:36:20,081 INFO Welcome to the CDS\n",
      "2023-11-24 11:36:20,083 INFO Sending request to https://cds.climate.copernicus.eu/api/v2/resources/reanalysis-era5-pressure-levels\n"
     ]
    },
    {
     "name": "stdout",
     "output_type": "stream",
     "text": [
      "100% [..............................................................................] 10400 / 10400"
     ]
    },
    {
     "name": "stderr",
     "output_type": "stream",
     "text": [
      "2023-11-24 11:36:20,376 INFO Request is queued\n",
      "2023-11-24 11:36:21,556 INFO Request is running\n",
      "2023-11-24 11:36:34,478 INFO Request is completed\n",
      "2023-11-24 11:36:35,829 INFO Welcome to the CDS\n",
      "2023-11-24 11:36:35,830 INFO Sending request to https://cds.climate.copernicus.eu/api/v2/resources/reanalysis-era5-pressure-levels\n"
     ]
    },
    {
     "name": "stdout",
     "output_type": "stream",
     "text": [
      "100% [..............................................................................] 10396 / 103968\n"
     ]
    },
    {
     "name": "stderr",
     "output_type": "stream",
     "text": [
      "2023-11-24 11:36:36,048 INFO Request is queued\n",
      "2023-11-24 11:36:37,236 INFO Request is running\n",
      "2023-11-24 11:36:50,166 INFO Request is completed\n",
      "2023-11-24 11:36:51,237 INFO Welcome to the CDS\n",
      "2023-11-24 11:36:51,239 INFO Sending request to https://cds.climate.copernicus.eu/api/v2/resources/reanalysis-era5-pressure-levels\n"
     ]
    },
    {
     "name": "stdout",
     "output_type": "stream",
     "text": [
      "100% [..............................................................................] 10396 / 10396"
     ]
    },
    {
     "name": "stderr",
     "output_type": "stream",
     "text": [
      "2023-11-24 11:36:51,524 INFO Request is queued\n",
      "2023-11-24 11:36:52,710 INFO Request is running\n",
      "2023-11-24 11:37:05,632 INFO Request is completed\n",
      "2023-11-24 11:37:06,718 INFO Welcome to the CDS\n",
      "2023-11-24 11:37:06,720 INFO Sending request to https://cds.climate.copernicus.eu/api/v2/resources/reanalysis-era5-pressure-levels\n"
     ]
    },
    {
     "name": "stdout",
     "output_type": "stream",
     "text": [
      "100% [..............................................................................] 10400 / 104009\n"
     ]
    },
    {
     "name": "stderr",
     "output_type": "stream",
     "text": [
      "2023-11-24 11:37:06,906 INFO Request is queued\n",
      "2023-11-24 11:37:08,088 INFO Request is running\n",
      "2023-11-24 11:37:21,016 INFO Request is completed\n",
      "2023-11-24 11:37:22,298 INFO Welcome to the CDS\n",
      "2023-11-24 11:37:22,299 INFO Sending request to https://cds.climate.copernicus.eu/api/v2/resources/reanalysis-era5-pressure-levels\n"
     ]
    },
    {
     "name": "stdout",
     "output_type": "stream",
     "text": [
      "100% [..............................................................................] 10396 / 10396"
     ]
    },
    {
     "name": "stderr",
     "output_type": "stream",
     "text": [
      "2023-11-24 11:37:22,499 INFO Request is queued\n",
      "2023-11-24 11:37:25,379 INFO Request is running\n",
      "2023-11-24 11:37:44,399 INFO Request is completed\n",
      "2023-11-24 11:37:45,483 INFO Welcome to the CDS\n",
      "2023-11-24 11:37:45,484 INFO Sending request to https://cds.climate.copernicus.eu/api/v2/resources/reanalysis-era5-pressure-levels\n"
     ]
    },
    {
     "name": "stdout",
     "output_type": "stream",
     "text": [
      "100% [..............................................................................] 10400 / 1040010\n"
     ]
    },
    {
     "name": "stderr",
     "output_type": "stream",
     "text": [
      "2023-11-24 11:37:45,687 INFO Request is queued\n",
      "2023-11-24 11:37:54,548 INFO Request is running\n",
      "2023-11-24 11:38:07,565 INFO Request is completed\n",
      "2023-11-24 11:38:08,812 INFO Welcome to the CDS\n",
      "2023-11-24 11:38:08,813 INFO Sending request to https://cds.climate.copernicus.eu/api/v2/resources/reanalysis-era5-pressure-levels\n"
     ]
    },
    {
     "name": "stdout",
     "output_type": "stream",
     "text": [
      "100% [..............................................................................] 10396 / 10396"
     ]
    },
    {
     "name": "stderr",
     "output_type": "stream",
     "text": [
      "2023-11-24 11:38:09,040 INFO Request is queued\n",
      "2023-11-24 11:38:11,903 INFO Request is running\n",
      "2023-11-24 11:38:30,921 INFO Request is completed\n",
      "2023-11-24 11:38:31,982 INFO Welcome to the CDS\n",
      "2023-11-24 11:38:31,983 INFO Sending request to https://cds.climate.copernicus.eu/api/v2/resources/reanalysis-era5-pressure-levels\n"
     ]
    },
    {
     "name": "stdout",
     "output_type": "stream",
     "text": [
      "100% [..............................................................................] 10396 / 1039611\n"
     ]
    },
    {
     "name": "stderr",
     "output_type": "stream",
     "text": [
      "2023-11-24 11:38:32,176 INFO Request is queued\n",
      "2023-11-24 11:38:33,361 INFO Request is running\n",
      "2023-11-24 11:38:46,290 INFO Request is completed\n",
      "2023-11-24 11:38:47,959 INFO Welcome to the CDS\n",
      "2023-11-24 11:38:47,961 INFO Sending request to https://cds.climate.copernicus.eu/api/v2/resources/reanalysis-era5-pressure-levels\n"
     ]
    },
    {
     "name": "stdout",
     "output_type": "stream",
     "text": [
      "100% [..............................................................................] 10400 / 10400"
     ]
    },
    {
     "name": "stderr",
     "output_type": "stream",
     "text": [
      "2023-11-24 11:38:48,146 INFO Request is queued\n",
      "2023-11-24 11:38:53,452 INFO Request is running\n",
      "2023-11-24 11:39:10,039 INFO Request is completed\n",
      "2023-11-24 11:39:11,189 INFO Welcome to the CDS\n",
      "2023-11-24 11:39:11,189 INFO Sending request to https://cds.climate.copernicus.eu/api/v2/resources/reanalysis-era5-pressure-levels\n"
     ]
    },
    {
     "name": "stdout",
     "output_type": "stream",
     "text": [
      "100% [..............................................................................] 10400 / 1040012\n"
     ]
    },
    {
     "name": "stderr",
     "output_type": "stream",
     "text": [
      "2023-11-24 11:39:11,406 INFO Request is queued\n",
      "2023-11-24 11:39:16,703 INFO Request is running\n",
      "2023-11-24 11:39:33,305 INFO Request is completed\n",
      "2023-11-24 11:39:34,633 INFO Welcome to the CDS\n",
      "2023-11-24 11:39:34,634 INFO Sending request to https://cds.climate.copernicus.eu/api/v2/resources/reanalysis-era5-pressure-levels\n"
     ]
    },
    {
     "name": "stdout",
     "output_type": "stream",
     "text": [
      "100% [..............................................................................] 10396 / 10396"
     ]
    },
    {
     "name": "stderr",
     "output_type": "stream",
     "text": [
      "2023-11-24 11:39:34,838 INFO Request is queued\n",
      "2023-11-24 11:39:36,025 INFO Request is running\n",
      "2023-11-24 11:39:49,473 INFO Request is completed\n",
      "2023-11-24 11:39:50,543 INFO Welcome to the CDS\n",
      "2023-11-24 11:39:50,545 INFO Sending request to https://cds.climate.copernicus.eu/api/v2/resources/reanalysis-era5-pressure-levels\n"
     ]
    },
    {
     "name": "stdout",
     "output_type": "stream",
     "text": [
      "100% [..............................................................................] 10396 / 1039613\n"
     ]
    },
    {
     "name": "stderr",
     "output_type": "stream",
     "text": [
      "2023-11-24 11:39:50,855 INFO Request is queued\n",
      "2023-11-24 11:39:52,038 INFO Request is running\n",
      "2023-11-24 11:40:04,953 INFO Request is completed\n",
      "2023-11-24 11:40:06,293 INFO Welcome to the CDS\n",
      "2023-11-24 11:40:06,293 INFO Sending request to https://cds.climate.copernicus.eu/api/v2/resources/reanalysis-era5-pressure-levels\n"
     ]
    },
    {
     "name": "stdout",
     "output_type": "stream",
     "text": [
      "100% [..............................................................................] 10396 / 10396"
     ]
    },
    {
     "name": "stderr",
     "output_type": "stream",
     "text": [
      "2023-11-24 11:40:06,487 INFO Request is queued\n",
      "2023-11-24 11:40:09,353 INFO Request is running\n",
      "2023-11-24 11:40:20,586 INFO Request is completed\n",
      "2023-11-24 11:40:21,850 INFO Welcome to the CDS\n",
      "2023-11-24 11:40:21,851 INFO Sending request to https://cds.climate.copernicus.eu/api/v2/resources/reanalysis-era5-pressure-levels\n"
     ]
    },
    {
     "name": "stdout",
     "output_type": "stream",
     "text": [
      "100% [..............................................................................] 10396 / 1039614\n"
     ]
    },
    {
     "name": "stderr",
     "output_type": "stream",
     "text": [
      "2023-11-24 11:40:22,030 INFO Request is queued\n",
      "2023-11-24 11:40:23,211 INFO Request is running\n",
      "2023-11-24 11:40:36,118 INFO Request is completed\n",
      "2023-11-24 11:40:37,242 INFO Welcome to the CDS\n",
      "2023-11-24 11:40:37,243 INFO Sending request to https://cds.climate.copernicus.eu/api/v2/resources/reanalysis-era5-pressure-levels\n"
     ]
    },
    {
     "name": "stdout",
     "output_type": "stream",
     "text": [
      "100% [..............................................................................] 10396 / 10396"
     ]
    },
    {
     "name": "stderr",
     "output_type": "stream",
     "text": [
      "2023-11-24 11:40:37,468 INFO Request is queued\n",
      "2023-11-24 11:40:38,650 INFO Request is running\n",
      "2023-11-24 11:40:51,561 INFO Request is completed\n",
      "2023-11-24 11:40:52,764 INFO Welcome to the CDS\n",
      "2023-11-24 11:40:52,766 INFO Sending request to https://cds.climate.copernicus.eu/api/v2/resources/reanalysis-era5-pressure-levels\n"
     ]
    },
    {
     "name": "stdout",
     "output_type": "stream",
     "text": [
      "100% [..............................................................................] 10392 / 1039215\n"
     ]
    },
    {
     "name": "stderr",
     "output_type": "stream",
     "text": [
      "2023-11-24 11:40:52,974 INFO Request is queued\n",
      "2023-11-24 11:40:54,156 INFO Request is running\n",
      "2023-11-24 11:41:07,068 INFO Request is completed\n",
      "2023-11-24 11:41:08,124 INFO Welcome to the CDS\n",
      "2023-11-24 11:41:08,126 INFO Sending request to https://cds.climate.copernicus.eu/api/v2/resources/reanalysis-era5-pressure-levels\n"
     ]
    },
    {
     "name": "stdout",
     "output_type": "stream",
     "text": [
      "100% [..............................................................................] 10392 / 10392"
     ]
    },
    {
     "name": "stderr",
     "output_type": "stream",
     "text": [
      "2023-11-24 11:41:08,307 INFO Request is queued\n",
      "2023-11-24 11:41:11,170 INFO Request is running\n",
      "2023-11-24 11:41:22,401 INFO Request is completed\n",
      "2023-11-24 11:41:23,467 INFO Welcome to the CDS\n",
      "2023-11-24 11:41:23,467 INFO Sending request to https://cds.climate.copernicus.eu/api/v2/resources/reanalysis-era5-pressure-levels\n"
     ]
    },
    {
     "name": "stdout",
     "output_type": "stream",
     "text": [
      "100% [..............................................................................] 10396 / 1039616\n"
     ]
    },
    {
     "name": "stderr",
     "output_type": "stream",
     "text": [
      "2023-11-24 11:41:23,682 INFO Request is queued\n",
      "2023-11-24 11:41:26,639 INFO Request is running\n",
      "2023-11-24 11:41:37,872 INFO Request is completed\n",
      "2023-11-24 11:41:38,952 INFO Welcome to the CDS\n",
      "2023-11-24 11:41:38,953 INFO Sending request to https://cds.climate.copernicus.eu/api/v2/resources/reanalysis-era5-pressure-levels\n"
     ]
    },
    {
     "name": "stdout",
     "output_type": "stream",
     "text": [
      "100% [..............................................................................] 10400 / 10400"
     ]
    },
    {
     "name": "stderr",
     "output_type": "stream",
     "text": [
      "2023-11-24 11:41:39,164 INFO Request is queued\n",
      "2023-11-24 11:41:40,349 INFO Request is running\n",
      "2023-11-24 11:41:53,252 INFO Request is completed\n",
      "2023-11-24 11:41:54,604 INFO Welcome to the CDS\n",
      "2023-11-24 11:41:54,606 INFO Sending request to https://cds.climate.copernicus.eu/api/v2/resources/reanalysis-era5-pressure-levels\n"
     ]
    },
    {
     "name": "stdout",
     "output_type": "stream",
     "text": [
      "100% [..............................................................................] 10396 / 1039617\n"
     ]
    },
    {
     "name": "stderr",
     "output_type": "stream",
     "text": [
      "2023-11-24 11:41:54,813 INFO Request is queued\n",
      "2023-11-24 11:42:00,102 INFO Request is running\n",
      "2023-11-24 11:42:16,674 INFO Request is completed\n"
     ]
    },
    {
     "name": "stdout",
     "output_type": "stream",
     "text": [
      "100% [..............................................................................] 10396 / 10396"
     ]
    },
    {
     "name": "stderr",
     "output_type": "stream",
     "text": [
      "2023-11-24 11:42:17,800 INFO Welcome to the CDS\n",
      "2023-11-24 11:42:17,800 INFO Sending request to https://cds.climate.copernicus.eu/api/v2/resources/reanalysis-era5-pressure-levels\n",
      "2023-11-24 11:42:17,979 INFO Request is queued\n",
      "2023-11-24 11:42:19,162 INFO Request is running\n",
      "2023-11-24 11:42:32,083 INFO Request is completed\n",
      "2023-11-24 11:42:33,157 INFO Welcome to the CDS\n",
      "2023-11-24 11:42:33,157 INFO Sending request to https://cds.climate.copernicus.eu/api/v2/resources/reanalysis-era5-pressure-levels\n"
     ]
    },
    {
     "name": "stdout",
     "output_type": "stream",
     "text": [
      "100% [..............................................................................] 10396 / 1039618\n"
     ]
    },
    {
     "name": "stderr",
     "output_type": "stream",
     "text": [
      "2023-11-24 11:42:33,343 INFO Request is queued\n",
      "2023-11-24 11:42:36,208 INFO Request is running\n",
      "2023-11-24 11:42:47,440 INFO Request is completed\n",
      "2023-11-24 11:42:48,486 INFO Welcome to the CDS\n",
      "2023-11-24 11:42:48,488 INFO Sending request to https://cds.climate.copernicus.eu/api/v2/resources/reanalysis-era5-pressure-levels\n"
     ]
    },
    {
     "name": "stdout",
     "output_type": "stream",
     "text": [
      "100% [..............................................................................] 10396 / 10396"
     ]
    },
    {
     "name": "stderr",
     "output_type": "stream",
     "text": [
      "2023-11-24 11:42:48,722 INFO Request is queued\n",
      "2023-11-24 11:42:49,911 INFO Request is running\n",
      "2023-11-24 11:43:02,833 INFO Request is completed\n",
      "2023-11-24 11:43:03,884 INFO Welcome to the CDS\n",
      "2023-11-24 11:43:03,885 INFO Sending request to https://cds.climate.copernicus.eu/api/v2/resources/reanalysis-era5-pressure-levels\n"
     ]
    },
    {
     "name": "stdout",
     "output_type": "stream",
     "text": [
      "100% [..............................................................................] 10396 / 1039619\n"
     ]
    },
    {
     "name": "stderr",
     "output_type": "stream",
     "text": [
      "2023-11-24 11:43:04,670 INFO Request is queued\n",
      "2023-11-24 11:43:05,858 INFO Request is running\n",
      "2023-11-24 11:43:18,783 INFO Request is completed\n",
      "2023-11-24 11:43:20,066 INFO Welcome to the CDS\n",
      "2023-11-24 11:43:20,067 INFO Sending request to https://cds.climate.copernicus.eu/api/v2/resources/reanalysis-era5-pressure-levels\n"
     ]
    },
    {
     "name": "stdout",
     "output_type": "stream",
     "text": [
      "100% [..............................................................................] 10396 / 10396"
     ]
    },
    {
     "name": "stderr",
     "output_type": "stream",
     "text": [
      "2023-11-24 11:43:20,302 INFO Request is queued\n",
      "2023-11-24 11:43:23,180 INFO Request is running\n",
      "2023-11-24 11:43:42,217 INFO Request is completed\n",
      "2023-11-24 11:43:43,699 INFO Welcome to the CDS\n",
      "2023-11-24 11:43:43,701 INFO Sending request to https://cds.climate.copernicus.eu/api/v2/resources/reanalysis-era5-pressure-levels\n"
     ]
    },
    {
     "name": "stdout",
     "output_type": "stream",
     "text": [
      "100% [..............................................................................] 10396 / 1039620\n"
     ]
    },
    {
     "name": "stderr",
     "output_type": "stream",
     "text": [
      "2023-11-24 11:43:43,887 INFO Request is queued\n",
      "2023-11-24 11:43:49,193 INFO Request is running\n",
      "2023-11-24 11:44:05,779 INFO Request is completed\n",
      "2023-11-24 11:44:07,963 INFO Welcome to the CDS\n",
      "2023-11-24 11:44:07,965 INFO Sending request to https://cds.climate.copernicus.eu/api/v2/resources/reanalysis-era5-pressure-levels\n"
     ]
    },
    {
     "name": "stdout",
     "output_type": "stream",
     "text": [
      "100% [..............................................................................] 10396 / 10396"
     ]
    },
    {
     "name": "stderr",
     "output_type": "stream",
     "text": [
      "2023-11-24 11:44:09,003 INFO Request is queued\n",
      "2023-11-24 11:44:10,191 INFO Request is running\n",
      "2023-11-24 11:44:23,121 INFO Request is completed\n",
      "2023-11-24 11:44:24,465 INFO Welcome to the CDS\n",
      "2023-11-24 11:44:24,466 INFO Sending request to https://cds.climate.copernicus.eu/api/v2/resources/reanalysis-era5-pressure-levels\n"
     ]
    },
    {
     "name": "stdout",
     "output_type": "stream",
     "text": [
      "100% [..............................................................................] 10396 / 1039621\n"
     ]
    },
    {
     "name": "stderr",
     "output_type": "stream",
     "text": [
      "2023-11-24 11:44:24,692 INFO Request is queued\n",
      "2023-11-24 11:44:25,878 INFO Request is running\n",
      "2023-11-24 11:44:38,827 INFO Request is completed\n",
      "2023-11-24 11:44:39,896 INFO Welcome to the CDS\n",
      "2023-11-24 11:44:39,898 INFO Sending request to https://cds.climate.copernicus.eu/api/v2/resources/reanalysis-era5-pressure-levels\n"
     ]
    },
    {
     "name": "stdout",
     "output_type": "stream",
     "text": [
      "100% [..............................................................................] 10396 / 10396"
     ]
    },
    {
     "name": "stderr",
     "output_type": "stream",
     "text": [
      "2023-11-24 11:44:40,098 INFO Request is queued\n",
      "2023-11-24 11:44:42,972 INFO Request is running\n",
      "2023-11-24 11:44:54,223 INFO Request is completed\n",
      "2023-11-24 11:44:55,586 INFO Welcome to the CDS\n",
      "2023-11-24 11:44:55,586 INFO Sending request to https://cds.climate.copernicus.eu/api/v2/resources/reanalysis-era5-pressure-levels\n"
     ]
    },
    {
     "name": "stdout",
     "output_type": "stream",
     "text": [
      "100% [..............................................................................] 10400 / 1040022\n"
     ]
    },
    {
     "name": "stderr",
     "output_type": "stream",
     "text": [
      "2023-11-24 11:44:55,805 INFO Request is queued\n",
      "2023-11-24 11:45:04,673 INFO Request is running\n",
      "2023-11-24 11:45:17,700 INFO Request is completed\n",
      "2023-11-24 11:45:18,776 INFO Welcome to the CDS\n",
      "2023-11-24 11:45:18,777 INFO Sending request to https://cds.climate.copernicus.eu/api/v2/resources/reanalysis-era5-pressure-levels\n"
     ]
    },
    {
     "name": "stdout",
     "output_type": "stream",
     "text": [
      "100% [..............................................................................] 10396 / 10396"
     ]
    },
    {
     "name": "stderr",
     "output_type": "stream",
     "text": [
      "2023-11-24 11:45:19,016 INFO Request is queued\n",
      "2023-11-24 11:45:21,881 INFO Request is running\n",
      "2023-11-24 11:45:40,894 INFO Request is completed\n",
      "2023-11-24 11:45:41,966 INFO Welcome to the CDS\n",
      "2023-11-24 11:45:41,967 INFO Sending request to https://cds.climate.copernicus.eu/api/v2/resources/reanalysis-era5-pressure-levels\n"
     ]
    },
    {
     "name": "stdout",
     "output_type": "stream",
     "text": [
      "100% [..............................................................................] 10396 / 1039623\n"
     ]
    },
    {
     "name": "stderr",
     "output_type": "stream",
     "text": [
      "2023-11-24 11:45:42,166 INFO Request is queued\n",
      "2023-11-24 11:45:45,026 INFO Request is running\n",
      "2023-11-24 11:45:56,252 INFO Request is completed\n",
      "2023-11-24 11:45:57,306 INFO Welcome to the CDS\n",
      "2023-11-24 11:45:57,307 INFO Sending request to https://cds.climate.copernicus.eu/api/v2/resources/reanalysis-era5-pressure-levels\n"
     ]
    },
    {
     "name": "stdout",
     "output_type": "stream",
     "text": [
      "100% [..............................................................................] 10392 / 10392"
     ]
    },
    {
     "name": "stderr",
     "output_type": "stream",
     "text": [
      "2023-11-24 11:45:57,538 INFO Request is queued\n",
      "2023-11-24 11:46:00,402 INFO Request is running\n",
      "2023-11-24 11:46:11,640 INFO Request is completed\n",
      "2023-11-24 11:46:12,862 INFO Welcome to the CDS\n",
      "2023-11-24 11:46:12,863 INFO Sending request to https://cds.climate.copernicus.eu/api/v2/resources/reanalysis-era5-pressure-levels\n"
     ]
    },
    {
     "name": "stdout",
     "output_type": "stream",
     "text": [
      "100% [..............................................................................] 10396 / 1039624\n"
     ]
    },
    {
     "name": "stderr",
     "output_type": "stream",
     "text": [
      "2023-11-24 11:46:13,062 INFO Request is queued\n",
      "2023-11-24 11:46:15,928 INFO Request is running\n",
      "2023-11-24 11:46:27,155 INFO Request is completed\n",
      "2023-11-24 11:46:28,466 INFO Welcome to the CDS\n",
      "2023-11-24 11:46:28,467 INFO Sending request to https://cds.climate.copernicus.eu/api/v2/resources/reanalysis-era5-pressure-levels\n"
     ]
    },
    {
     "name": "stdout",
     "output_type": "stream",
     "text": [
      "100% [..............................................................................] 10396 / 10396"
     ]
    },
    {
     "name": "stderr",
     "output_type": "stream",
     "text": [
      "2023-11-24 11:46:28,728 INFO Request is queued\n",
      "2023-11-24 11:46:29,911 INFO Request is running\n",
      "2023-11-24 11:46:42,835 INFO Request is completed\n",
      "2023-11-24 11:46:44,165 INFO Welcome to the CDS\n",
      "2023-11-24 11:46:44,166 INFO Sending request to https://cds.climate.copernicus.eu/api/v2/resources/reanalysis-era5-pressure-levels\n"
     ]
    },
    {
     "name": "stdout",
     "output_type": "stream",
     "text": [
      "100% [..............................................................................] 10396 / 1039625\n"
     ]
    },
    {
     "name": "stderr",
     "output_type": "stream",
     "text": [
      "2023-11-24 11:46:44,924 INFO Request is queued\n",
      "2023-11-24 11:46:50,223 INFO Request is running\n",
      "2023-11-24 11:47:06,807 INFO Request is completed\n",
      "2023-11-24 11:47:08,268 INFO Welcome to the CDS\n",
      "2023-11-24 11:47:08,270 INFO Sending request to https://cds.climate.copernicus.eu/api/v2/resources/reanalysis-era5-pressure-levels\n"
     ]
    },
    {
     "name": "stdout",
     "output_type": "stream",
     "text": [
      "100% [..............................................................................] 10396 / 10396"
     ]
    },
    {
     "name": "stderr",
     "output_type": "stream",
     "text": [
      "2023-11-24 11:47:08,479 INFO Request is queued\n",
      "2023-11-24 11:47:17,343 INFO Request is running\n",
      "2023-11-24 11:47:30,371 INFO Request is completed\n",
      "2023-11-24 11:47:32,070 INFO Welcome to the CDS\n",
      "2023-11-24 11:47:32,072 INFO Sending request to https://cds.climate.copernicus.eu/api/v2/resources/reanalysis-era5-pressure-levels\n"
     ]
    },
    {
     "name": "stdout",
     "output_type": "stream",
     "text": [
      "100% [..............................................................................] 10396 / 1039626\n"
     ]
    },
    {
     "name": "stderr",
     "output_type": "stream",
     "text": [
      "2023-11-24 11:47:32,273 INFO Request is queued\n",
      "2023-11-24 11:47:37,574 INFO Request is running\n",
      "2023-11-24 11:47:54,158 INFO Request is completed\n",
      "2023-11-24 11:47:55,229 INFO Welcome to the CDS\n",
      "2023-11-24 11:47:55,231 INFO Sending request to https://cds.climate.copernicus.eu/api/v2/resources/reanalysis-era5-pressure-levels\n"
     ]
    },
    {
     "name": "stdout",
     "output_type": "stream",
     "text": [
      "100% [..............................................................................] 10396 / 10396"
     ]
    },
    {
     "name": "stderr",
     "output_type": "stream",
     "text": [
      "2023-11-24 11:47:55,415 INFO Request is queued\n",
      "2023-11-24 11:47:56,598 INFO Request is running\n",
      "2023-11-24 11:48:09,531 INFO Request is completed\n",
      "2023-11-24 11:48:10,590 INFO Welcome to the CDS\n",
      "2023-11-24 11:48:10,592 INFO Sending request to https://cds.climate.copernicus.eu/api/v2/resources/reanalysis-era5-pressure-levels\n"
     ]
    },
    {
     "name": "stdout",
     "output_type": "stream",
     "text": [
      "100% [..............................................................................] 10396 / 1039627\n"
     ]
    },
    {
     "name": "stderr",
     "output_type": "stream",
     "text": [
      "2023-11-24 11:48:10,779 INFO Request is queued\n",
      "2023-11-24 11:48:13,643 INFO Request is running\n",
      "2023-11-24 11:48:24,884 INFO Request is completed\n",
      "2023-11-24 11:48:26,123 INFO Welcome to the CDS\n",
      "2023-11-24 11:48:26,124 INFO Sending request to https://cds.climate.copernicus.eu/api/v2/resources/reanalysis-era5-pressure-levels\n"
     ]
    },
    {
     "name": "stdout",
     "output_type": "stream",
     "text": [
      "100% [..............................................................................] 10392 / 10392"
     ]
    },
    {
     "name": "stderr",
     "output_type": "stream",
     "text": [
      "2023-11-24 11:48:26,361 INFO Request is queued\n",
      "2023-11-24 11:48:29,240 INFO Request is running\n",
      "2023-11-24 11:48:48,256 INFO Request is completed\n",
      "2023-11-24 11:48:49,337 INFO Welcome to the CDS\n",
      "2023-11-24 11:48:49,339 INFO Sending request to https://cds.climate.copernicus.eu/api/v2/resources/reanalysis-era5-pressure-levels\n"
     ]
    },
    {
     "name": "stdout",
     "output_type": "stream",
     "text": [
      "100% [..............................................................................] 10396 / 1039628\n"
     ]
    },
    {
     "name": "stderr",
     "output_type": "stream",
     "text": [
      "2023-11-24 11:48:49,548 INFO Request is queued\n",
      "2023-11-24 11:48:50,731 INFO Request is running\n",
      "2023-11-24 11:49:03,657 INFO Request is completed\n",
      "2023-11-24 11:49:04,729 INFO Welcome to the CDS\n",
      "2023-11-24 11:49:04,731 INFO Sending request to https://cds.climate.copernicus.eu/api/v2/resources/reanalysis-era5-pressure-levels\n"
     ]
    },
    {
     "name": "stdout",
     "output_type": "stream",
     "text": [
      "100% [..............................................................................] 10396 / 10396"
     ]
    },
    {
     "name": "stderr",
     "output_type": "stream",
     "text": [
      "2023-11-24 11:49:04,957 INFO Request is queued\n",
      "2023-11-24 11:49:06,143 INFO Request is running\n",
      "2023-11-24 11:49:19,062 INFO Request is completed\n",
      "2023-11-24 11:49:20,125 INFO Welcome to the CDS\n",
      "2023-11-24 11:49:20,125 INFO Sending request to https://cds.climate.copernicus.eu/api/v2/resources/reanalysis-era5-pressure-levels\n"
     ]
    },
    {
     "name": "stdout",
     "output_type": "stream",
     "text": [
      "100% [..............................................................................] 10400 / 1040029\n"
     ]
    },
    {
     "name": "stderr",
     "output_type": "stream",
     "text": [
      "2023-11-24 11:49:20,327 INFO Request is queued\n",
      "2023-11-24 11:49:25,636 INFO Request is running\n",
      "2023-11-24 11:49:42,225 INFO Request is completed\n",
      "2023-11-24 11:49:43,314 INFO Welcome to the CDS\n",
      "2023-11-24 11:49:43,315 INFO Sending request to https://cds.climate.copernicus.eu/api/v2/resources/reanalysis-era5-pressure-levels\n"
     ]
    },
    {
     "name": "stdout",
     "output_type": "stream",
     "text": [
      "100% [..............................................................................] 10392 / 10392"
     ]
    },
    {
     "name": "stderr",
     "output_type": "stream",
     "text": [
      "2023-11-24 11:49:43,520 INFO Request is queued\n",
      "2023-11-24 11:49:46,396 INFO Request is running\n",
      "2023-11-24 11:49:57,634 INFO Request is completed\n",
      "2023-11-24 11:49:58,705 INFO Welcome to the CDS\n",
      "2023-11-24 11:49:58,705 INFO Sending request to https://cds.climate.copernicus.eu/api/v2/resources/reanalysis-era5-pressure-levels\n"
     ]
    },
    {
     "name": "stdout",
     "output_type": "stream",
     "text": [
      "100% [..............................................................................] 10396 / 1039630\n"
     ]
    },
    {
     "name": "stderr",
     "output_type": "stream",
     "text": [
      "2023-11-24 11:49:58,922 INFO Request is queued\n",
      "2023-11-24 11:50:00,103 INFO Request is running\n",
      "2023-11-24 11:50:13,029 INFO Request is completed\n",
      "2023-11-24 11:50:14,328 INFO Welcome to the CDS\n",
      "2023-11-24 11:50:14,329 INFO Sending request to https://cds.climate.copernicus.eu/api/v2/resources/reanalysis-era5-pressure-levels\n"
     ]
    },
    {
     "name": "stdout",
     "output_type": "stream",
     "text": [
      "100% [..............................................................................] 10396 / 10396"
     ]
    },
    {
     "name": "stderr",
     "output_type": "stream",
     "text": [
      "2023-11-24 11:50:14,514 INFO Request is queued\n",
      "2023-11-24 11:50:15,696 INFO Request is running\n",
      "2023-11-24 11:50:28,621 INFO Request is completed\n"
     ]
    },
    {
     "name": "stdout",
     "output_type": "stream",
     "text": [
      "100% [..............................................................................] 10400 / 1040031\n"
     ]
    },
    {
     "name": "stderr",
     "output_type": "stream",
     "text": [
      "2023-11-24 11:50:30,618 INFO Welcome to the CDS\n",
      "2023-11-24 11:50:30,621 INFO Sending request to https://cds.climate.copernicus.eu/api/v2/resources/reanalysis-era5-pressure-levels\n",
      "2023-11-24 11:50:30,837 INFO Request is queued\n",
      "2023-11-24 11:50:32,025 INFO Request is running\n",
      "2023-11-24 11:50:52,725 INFO Request is completed\n",
      "2023-11-24 11:50:53,924 INFO Welcome to the CDS\n",
      "2023-11-24 11:50:53,926 INFO Sending request to https://cds.climate.copernicus.eu/api/v2/resources/reanalysis-era5-pressure-levels\n"
     ]
    },
    {
     "name": "stdout",
     "output_type": "stream",
     "text": [
      "100% [..............................................................................] 10396 / 10396"
     ]
    },
    {
     "name": "stderr",
     "output_type": "stream",
     "text": [
      "2023-11-24 11:50:54,153 INFO Request is queued\n",
      "2023-11-24 11:50:55,337 INFO Request is running\n",
      "2023-11-24 11:51:08,269 INFO Request is completed\n",
      "2023-11-24 11:51:09,995 INFO Welcome to the CDS\n",
      "2023-11-24 11:51:09,996 INFO Sending request to https://cds.climate.copernicus.eu/api/v2/resources/reanalysis-era5-pressure-levels\n"
     ]
    },
    {
     "name": "stdout",
     "output_type": "stream",
     "text": [
      "100% [..............................................................................] 10392 / 1039232\n"
     ]
    },
    {
     "name": "stderr",
     "output_type": "stream",
     "text": [
      "2023-11-24 11:51:10,227 INFO Request is queued\n",
      "2023-11-24 11:51:11,413 INFO Request is running\n",
      "2023-11-24 11:51:24,335 INFO Request is completed\n",
      "2023-11-24 11:51:25,742 INFO Welcome to the CDS\n",
      "2023-11-24 11:51:25,743 INFO Sending request to https://cds.climate.copernicus.eu/api/v2/resources/reanalysis-era5-pressure-levels\n"
     ]
    },
    {
     "name": "stdout",
     "output_type": "stream",
     "text": [
      "100% [..............................................................................] 10396 / 10396"
     ]
    },
    {
     "name": "stderr",
     "output_type": "stream",
     "text": [
      "2023-11-24 11:51:25,932 INFO Request is queued\n",
      "2023-11-24 11:51:28,793 INFO Request is running\n",
      "2023-11-24 11:51:40,028 INFO Request is completed\n",
      "2023-11-24 11:51:41,095 INFO Welcome to the CDS\n",
      "2023-11-24 11:51:41,096 INFO Sending request to https://cds.climate.copernicus.eu/api/v2/resources/reanalysis-era5-pressure-levels\n"
     ]
    },
    {
     "name": "stdout",
     "output_type": "stream",
     "text": [
      "100% [..............................................................................] 10396 / 1039633\n"
     ]
    },
    {
     "name": "stderr",
     "output_type": "stream",
     "text": [
      "2023-11-24 11:51:42,191 INFO Request is queued\n",
      "2023-11-24 11:51:45,055 INFO Request is running\n",
      "2023-11-24 11:52:04,063 INFO Request is completed\n",
      "2023-11-24 11:52:05,274 INFO Welcome to the CDS\n",
      "2023-11-24 11:52:05,275 INFO Sending request to https://cds.climate.copernicus.eu/api/v2/resources/reanalysis-era5-pressure-levels\n"
     ]
    },
    {
     "name": "stdout",
     "output_type": "stream",
     "text": [
      "100% [..............................................................................] 10396 / 10396"
     ]
    },
    {
     "name": "stderr",
     "output_type": "stream",
     "text": [
      "2023-11-24 11:52:05,487 INFO Request is queued\n",
      "2023-11-24 11:52:06,667 INFO Request is running\n",
      "2023-11-24 11:52:19,591 INFO Request is completed\n",
      "2023-11-24 11:52:20,650 INFO Welcome to the CDS\n",
      "2023-11-24 11:52:20,652 INFO Sending request to https://cds.climate.copernicus.eu/api/v2/resources/reanalysis-era5-pressure-levels\n"
     ]
    },
    {
     "name": "stdout",
     "output_type": "stream",
     "text": [
      "100% [..............................................................................] 10396 / 1039634\n"
     ]
    },
    {
     "name": "stderr",
     "output_type": "stream",
     "text": [
      "2023-11-24 11:52:20,853 INFO Request is queued\n",
      "2023-11-24 11:52:22,040 INFO Request is running\n",
      "2023-11-24 11:52:42,732 INFO Request is completed\n",
      "2023-11-24 11:52:43,803 INFO Welcome to the CDS\n",
      "2023-11-24 11:52:43,804 INFO Sending request to https://cds.climate.copernicus.eu/api/v2/resources/reanalysis-era5-pressure-levels\n"
     ]
    },
    {
     "name": "stdout",
     "output_type": "stream",
     "text": [
      "100% [..............................................................................] 10396 / 10396"
     ]
    },
    {
     "name": "stderr",
     "output_type": "stream",
     "text": [
      "2023-11-24 11:52:44,118 INFO Request is queued\n",
      "2023-11-24 11:53:06,004 INFO Request is running\n",
      "2023-11-24 11:53:17,580 INFO Request is completed\n",
      "2023-11-24 11:53:18,885 INFO Welcome to the CDS\n",
      "2023-11-24 11:53:18,887 INFO Sending request to https://cds.climate.copernicus.eu/api/v2/resources/reanalysis-era5-pressure-levels\n"
     ]
    },
    {
     "name": "stdout",
     "output_type": "stream",
     "text": [
      "100% [..............................................................................] 10396 / 1039635\n"
     ]
    },
    {
     "name": "stderr",
     "output_type": "stream",
     "text": [
      "2023-11-24 11:53:19,071 INFO Request is queued\n",
      "2023-11-24 11:53:20,254 INFO Request is running\n",
      "2023-11-24 11:53:33,169 INFO Request is completed\n",
      "2023-11-24 11:53:34,509 INFO Welcome to the CDS\n",
      "2023-11-24 11:53:34,510 INFO Sending request to https://cds.climate.copernicus.eu/api/v2/resources/reanalysis-era5-pressure-levels\n"
     ]
    },
    {
     "name": "stdout",
     "output_type": "stream",
     "text": [
      "100% [..............................................................................] 10400 / 10400"
     ]
    },
    {
     "name": "stderr",
     "output_type": "stream",
     "text": [
      "2023-11-24 11:53:34,736 INFO Request is queued\n",
      "2023-11-24 11:53:43,590 INFO Request is running\n",
      "2023-11-24 11:53:56,616 INFO Request is completed\n",
      "2023-11-24 11:53:57,942 INFO Welcome to the CDS\n",
      "2023-11-24 11:53:57,944 INFO Sending request to https://cds.climate.copernicus.eu/api/v2/resources/reanalysis-era5-pressure-levels\n"
     ]
    },
    {
     "name": "stdout",
     "output_type": "stream",
     "text": [
      "100% [..............................................................................] 10396 / 1039636\n"
     ]
    },
    {
     "name": "stderr",
     "output_type": "stream",
     "text": [
      "2023-11-24 11:53:58,184 INFO Request is queued\n",
      "2023-11-24 11:54:07,044 INFO Request is running\n",
      "2023-11-24 11:54:20,072 INFO Request is completed\n",
      "2023-11-24 11:54:21,344 INFO Welcome to the CDS\n",
      "2023-11-24 11:54:21,345 INFO Sending request to https://cds.climate.copernicus.eu/api/v2/resources/reanalysis-era5-pressure-levels\n"
     ]
    },
    {
     "name": "stdout",
     "output_type": "stream",
     "text": [
      "100% [..............................................................................] 10396 / 10396"
     ]
    },
    {
     "name": "stderr",
     "output_type": "stream",
     "text": [
      "2023-11-24 11:54:21,546 INFO Request is queued\n",
      "2023-11-24 11:54:24,411 INFO Request is running\n",
      "2023-11-24 11:54:36,324 INFO Request is completed\n",
      "2023-11-24 11:54:37,418 INFO Welcome to the CDS\n",
      "2023-11-24 11:54:37,419 INFO Sending request to https://cds.climate.copernicus.eu/api/v2/resources/reanalysis-era5-pressure-levels\n"
     ]
    },
    {
     "name": "stdout",
     "output_type": "stream",
     "text": [
      "100% [..............................................................................] 10396 / 1039637\n"
     ]
    },
    {
     "name": "stderr",
     "output_type": "stream",
     "text": [
      "2023-11-24 11:54:37,627 INFO Request is queued\n",
      "2023-11-24 11:54:42,932 INFO Request is running\n",
      "2023-11-24 11:54:59,512 INFO Request is completed\n",
      "2023-11-24 11:55:00,967 INFO Welcome to the CDS\n",
      "2023-11-24 11:55:00,968 INFO Sending request to https://cds.climate.copernicus.eu/api/v2/resources/reanalysis-era5-pressure-levels\n"
     ]
    },
    {
     "name": "stdout",
     "output_type": "stream",
     "text": [
      "100% [..............................................................................] 10396 / 10396"
     ]
    },
    {
     "name": "stderr",
     "output_type": "stream",
     "text": [
      "2023-11-24 11:55:01,166 INFO Request is queued\n",
      "2023-11-24 11:55:02,352 INFO Request is running\n",
      "2023-11-24 11:55:15,271 INFO Request is completed\n",
      "2023-11-24 11:55:16,627 INFO Welcome to the CDS\n",
      "2023-11-24 11:55:16,628 INFO Sending request to https://cds.climate.copernicus.eu/api/v2/resources/reanalysis-era5-pressure-levels\n"
     ]
    },
    {
     "name": "stdout",
     "output_type": "stream",
     "text": [
      "100% [..............................................................................] 10396 / 1039638\n"
     ]
    },
    {
     "name": "stderr",
     "output_type": "stream",
     "text": [
      "2023-11-24 11:55:16,811 INFO Request is queued\n",
      "2023-11-24 11:55:17,992 INFO Request is running\n",
      "2023-11-24 11:55:30,915 INFO Request is completed\n",
      "2023-11-24 11:55:32,010 INFO Welcome to the CDS\n",
      "2023-11-24 11:55:32,010 INFO Sending request to https://cds.climate.copernicus.eu/api/v2/resources/reanalysis-era5-pressure-levels\n"
     ]
    },
    {
     "name": "stdout",
     "output_type": "stream",
     "text": [
      "100% [..............................................................................] 10400 / 10400"
     ]
    },
    {
     "name": "stderr",
     "output_type": "stream",
     "text": [
      "2023-11-24 11:55:32,219 INFO Request is queued\n",
      "2023-11-24 11:55:33,407 INFO Request is running\n",
      "2023-11-24 11:55:46,327 INFO Request is completed\n",
      "2023-11-24 11:55:47,390 INFO Welcome to the CDS\n",
      "2023-11-24 11:55:47,390 INFO Sending request to https://cds.climate.copernicus.eu/api/v2/resources/reanalysis-era5-pressure-levels\n"
     ]
    },
    {
     "name": "stdout",
     "output_type": "stream",
     "text": [
      "100% [..............................................................................] 10396 / 1039639\n"
     ]
    },
    {
     "name": "stderr",
     "output_type": "stream",
     "text": [
      "2023-11-24 11:55:47,670 INFO Request is queued\n",
      "2023-11-24 11:55:48,856 INFO Request is running\n",
      "2023-11-24 11:56:01,769 INFO Request is completed\n",
      "2023-11-24 11:56:03,072 INFO Welcome to the CDS\n",
      "2023-11-24 11:56:03,074 INFO Sending request to https://cds.climate.copernicus.eu/api/v2/resources/reanalysis-era5-pressure-levels\n"
     ]
    },
    {
     "name": "stdout",
     "output_type": "stream",
     "text": [
      "100% [..............................................................................] 10396 / 10396"
     ]
    },
    {
     "name": "stderr",
     "output_type": "stream",
     "text": [
      "2023-11-24 11:56:03,288 INFO Request is queued\n",
      "2023-11-24 11:56:06,156 INFO Request is running\n",
      "2023-11-24 11:56:17,391 INFO Request is completed\n",
      "2023-11-24 11:56:18,453 INFO Welcome to the CDS\n",
      "2023-11-24 11:56:18,454 INFO Sending request to https://cds.climate.copernicus.eu/api/v2/resources/reanalysis-era5-pressure-levels\n"
     ]
    },
    {
     "name": "stdout",
     "output_type": "stream",
     "text": [
      "100% [..............................................................................] 10400 / 1040040\n"
     ]
    },
    {
     "name": "stderr",
     "output_type": "stream",
     "text": [
      "2023-11-24 11:56:18,669 INFO Request is queued\n",
      "2023-11-24 11:56:19,854 INFO Request is running\n",
      "2023-11-24 11:56:32,788 INFO Request is completed\n",
      "2023-11-24 11:56:34,094 INFO Welcome to the CDS\n",
      "2023-11-24 11:56:34,096 INFO Sending request to https://cds.climate.copernicus.eu/api/v2/resources/reanalysis-era5-pressure-levels\n"
     ]
    },
    {
     "name": "stdout",
     "output_type": "stream",
     "text": [
      "100% [..............................................................................] 10400 / 10400"
     ]
    },
    {
     "name": "stderr",
     "output_type": "stream",
     "text": [
      "2023-11-24 11:56:34,300 INFO Request is queued\n",
      "2023-11-24 11:56:37,161 INFO Request is running\n",
      "2023-11-24 11:56:48,402 INFO Request is completed\n",
      "2023-11-24 11:56:49,475 INFO Welcome to the CDS\n",
      "2023-11-24 11:56:49,475 INFO Sending request to https://cds.climate.copernicus.eu/api/v2/resources/reanalysis-era5-pressure-levels\n"
     ]
    },
    {
     "name": "stdout",
     "output_type": "stream",
     "text": [
      "100% [..............................................................................] 10396 / 1039641\n"
     ]
    },
    {
     "name": "stderr",
     "output_type": "stream",
     "text": [
      "2023-11-24 11:56:49,688 INFO Request is queued\n",
      "2023-11-24 11:56:54,985 INFO Request is running\n",
      "2023-11-24 11:57:11,573 INFO Request is completed\n",
      "2023-11-24 11:57:12,646 INFO Welcome to the CDS\n",
      "2023-11-24 11:57:12,648 INFO Sending request to https://cds.climate.copernicus.eu/api/v2/resources/reanalysis-era5-pressure-levels\n"
     ]
    },
    {
     "name": "stdout",
     "output_type": "stream",
     "text": [
      "100% [..............................................................................] 10400 / 10400"
     ]
    },
    {
     "name": "stderr",
     "output_type": "stream",
     "text": [
      "2023-11-24 11:57:12,872 INFO Request is queued\n",
      "2023-11-24 11:57:15,735 INFO Request is running\n",
      "2023-11-24 11:57:26,980 INFO Request is completed\n",
      "2023-11-24 11:57:28,289 INFO Welcome to the CDS\n",
      "2023-11-24 11:57:28,290 INFO Sending request to https://cds.climate.copernicus.eu/api/v2/resources/reanalysis-era5-pressure-levels\n"
     ]
    },
    {
     "name": "stdout",
     "output_type": "stream",
     "text": [
      "100% [..............................................................................] 10396 / 1039642\n"
     ]
    },
    {
     "name": "stderr",
     "output_type": "stream",
     "text": [
      "2023-11-24 11:57:28,571 INFO Request is queued\n",
      "2023-11-24 11:57:31,432 INFO Request is running\n",
      "2023-11-24 11:57:50,452 INFO Request is completed\n",
      "2023-11-24 11:57:51,506 INFO Welcome to the CDS\n",
      "2023-11-24 11:57:51,507 INFO Sending request to https://cds.climate.copernicus.eu/api/v2/resources/reanalysis-era5-pressure-levels\n"
     ]
    },
    {
     "name": "stdout",
     "output_type": "stream",
     "text": [
      "100% [..............................................................................] 10396 / 10396"
     ]
    },
    {
     "name": "stderr",
     "output_type": "stream",
     "text": [
      "2023-11-24 11:57:51,729 INFO Request is queued\n",
      "2023-11-24 11:57:52,916 INFO Request is running\n",
      "2023-11-24 11:58:06,374 INFO Request is completed\n",
      "2023-11-24 11:58:07,467 INFO Welcome to the CDS\n",
      "2023-11-24 11:58:07,468 INFO Sending request to https://cds.climate.copernicus.eu/api/v2/resources/reanalysis-era5-pressure-levels\n"
     ]
    },
    {
     "name": "stdout",
     "output_type": "stream",
     "text": [
      "100% [..............................................................................] 10396 / 1039643\n"
     ]
    },
    {
     "name": "stderr",
     "output_type": "stream",
     "text": [
      "2023-11-24 11:58:07,667 INFO Request is queued\n",
      "2023-11-24 11:58:08,853 INFO Request is running\n",
      "2023-11-24 11:58:21,787 INFO Request is completed\n",
      "2023-11-24 11:58:23,136 INFO Welcome to the CDS\n",
      "2023-11-24 11:58:23,137 INFO Sending request to https://cds.climate.copernicus.eu/api/v2/resources/reanalysis-era5-pressure-levels\n"
     ]
    },
    {
     "name": "stdout",
     "output_type": "stream",
     "text": [
      "100% [..............................................................................] 10392 / 10392"
     ]
    },
    {
     "name": "stderr",
     "output_type": "stream",
     "text": [
      "2023-11-24 11:58:23,338 INFO Request is queued\n",
      "2023-11-24 11:58:26,216 INFO Request is running\n",
      "2023-11-24 11:58:37,468 INFO Request is completed\n",
      "2023-11-24 11:58:38,550 INFO Welcome to the CDS\n",
      "2023-11-24 11:58:38,551 INFO Sending request to https://cds.climate.copernicus.eu/api/v2/resources/reanalysis-era5-pressure-levels\n"
     ]
    },
    {
     "name": "stdout",
     "output_type": "stream",
     "text": [
      "100% [..............................................................................] 10396 / 1039644\n"
     ]
    },
    {
     "name": "stderr",
     "output_type": "stream",
     "text": [
      "2023-11-24 11:58:38,807 INFO Request is queued\n",
      "2023-11-24 11:58:41,682 INFO Request is running\n",
      "2023-11-24 11:58:52,925 INFO Request is completed\n",
      "2023-11-24 11:58:54,525 INFO Welcome to the CDS\n",
      "2023-11-24 11:58:54,527 INFO Sending request to https://cds.climate.copernicus.eu/api/v2/resources/reanalysis-era5-pressure-levels\n"
     ]
    },
    {
     "name": "stdout",
     "output_type": "stream",
     "text": [
      "100% [..............................................................................] 10392 / 10392"
     ]
    },
    {
     "name": "stderr",
     "output_type": "stream",
     "text": [
      "2023-11-24 11:58:54,739 INFO Request is queued\n",
      "2023-11-24 11:58:57,605 INFO Request is running\n",
      "2023-11-24 11:59:16,634 INFO Request is completed\n",
      "2023-11-24 11:59:17,714 INFO Welcome to the CDS\n",
      "2023-11-24 11:59:17,714 INFO Sending request to https://cds.climate.copernicus.eu/api/v2/resources/reanalysis-era5-pressure-levels\n"
     ]
    },
    {
     "name": "stdout",
     "output_type": "stream",
     "text": [
      "100% [..............................................................................] 10392 / 1039245\n"
     ]
    },
    {
     "name": "stderr",
     "output_type": "stream",
     "text": [
      "2023-11-24 11:59:17,961 INFO Request is queued\n",
      "2023-11-24 11:59:32,082 INFO Request is running\n",
      "2023-11-24 11:59:51,443 INFO Request is completed\n",
      "2023-11-24 11:59:52,529 INFO Welcome to the CDS\n",
      "2023-11-24 11:59:52,531 INFO Sending request to https://cds.climate.copernicus.eu/api/v2/resources/reanalysis-era5-pressure-levels\n"
     ]
    },
    {
     "name": "stdout",
     "output_type": "stream",
     "text": [
      "100% [..............................................................................] 10396 / 10396"
     ]
    },
    {
     "name": "stderr",
     "output_type": "stream",
     "text": [
      "2023-11-24 11:59:52,776 INFO Request is queued\n",
      "2023-11-24 11:59:53,964 INFO Request is running\n",
      "2023-11-24 12:00:06,909 INFO Request is completed\n",
      "2023-11-24 12:00:08,459 INFO Welcome to the CDS\n",
      "2023-11-24 12:00:08,460 INFO Sending request to https://cds.climate.copernicus.eu/api/v2/resources/reanalysis-era5-pressure-levels\n"
     ]
    },
    {
     "name": "stdout",
     "output_type": "stream",
     "text": [
      "100% [..............................................................................] 10396 / 1039646\n"
     ]
    },
    {
     "name": "stderr",
     "output_type": "stream",
     "text": [
      "2023-11-24 12:00:08,705 INFO Request is queued\n",
      "2023-11-24 12:00:59,436 INFO Request is running\n",
      "2023-11-24 12:01:25,259 INFO Request is completed\n",
      "2023-11-24 12:01:26,860 INFO Welcome to the CDS\n",
      "2023-11-24 12:01:26,862 INFO Sending request to https://cds.climate.copernicus.eu/api/v2/resources/reanalysis-era5-pressure-levels\n"
     ]
    },
    {
     "name": "stdout",
     "output_type": "stream",
     "text": [
      "100% [..............................................................................] 10396 / 10396"
     ]
    },
    {
     "name": "stderr",
     "output_type": "stream",
     "text": [
      "2023-11-24 12:01:27,103 INFO Request is queued\n",
      "2023-11-24 12:01:36,068 INFO Request is running\n",
      "2023-11-24 12:01:49,093 INFO Request is completed\n",
      "2023-11-24 12:01:50,310 INFO Welcome to the CDS\n",
      "2023-11-24 12:01:50,312 INFO Sending request to https://cds.climate.copernicus.eu/api/v2/resources/reanalysis-era5-pressure-levels\n"
     ]
    },
    {
     "name": "stdout",
     "output_type": "stream",
     "text": [
      "100% [..............................................................................] 10396 / 1039647\n"
     ]
    },
    {
     "name": "stderr",
     "output_type": "stream",
     "text": [
      "2023-11-24 12:01:50,577 INFO Request is queued\n",
      "2023-11-24 12:01:51,766 INFO Request is running\n",
      "2023-11-24 12:02:04,711 INFO Request is completed\n",
      "2023-11-24 12:02:05,764 INFO Welcome to the CDS\n",
      "2023-11-24 12:02:05,766 INFO Sending request to https://cds.climate.copernicus.eu/api/v2/resources/reanalysis-era5-pressure-levels\n"
     ]
    },
    {
     "name": "stdout",
     "output_type": "stream",
     "text": [
      "100% [..............................................................................] 10396 / 10396"
     ]
    },
    {
     "name": "stderr",
     "output_type": "stream",
     "text": [
      "2023-11-24 12:02:05,995 INFO Request is queued\n",
      "2023-11-24 12:02:07,216 INFO Request is running\n",
      "2023-11-24 12:02:20,150 INFO Request is completed\n",
      "2023-11-24 12:02:21,929 INFO Welcome to the CDS\n",
      "2023-11-24 12:02:21,931 INFO Sending request to https://cds.climate.copernicus.eu/api/v2/resources/reanalysis-era5-pressure-levels\n"
     ]
    },
    {
     "name": "stdout",
     "output_type": "stream",
     "text": [
      "100% [..............................................................................] 10392 / 1039248\n"
     ]
    },
    {
     "name": "stderr",
     "output_type": "stream",
     "text": [
      "2023-11-24 12:02:22,175 INFO Request is queued\n",
      "2023-11-24 12:02:23,361 INFO Request is running\n",
      "2023-11-24 12:02:36,297 INFO Request is completed\n",
      "2023-11-24 12:02:37,642 INFO Welcome to the CDS\n",
      "2023-11-24 12:02:37,643 INFO Sending request to https://cds.climate.copernicus.eu/api/v2/resources/reanalysis-era5-pressure-levels\n"
     ]
    },
    {
     "name": "stdout",
     "output_type": "stream",
     "text": [
      "100% [..............................................................................] 10392 / 10392"
     ]
    },
    {
     "name": "stderr",
     "output_type": "stream",
     "text": [
      "2023-11-24 12:02:37,905 INFO Request is queued\n",
      "2023-11-24 12:02:43,734 INFO Request is running\n",
      "2023-11-24 12:03:11,889 INFO Request is completed\n",
      "2023-11-24 12:03:13,187 INFO Welcome to the CDS\n",
      "2023-11-24 12:03:13,188 INFO Sending request to https://cds.climate.copernicus.eu/api/v2/resources/reanalysis-era5-pressure-levels\n"
     ]
    },
    {
     "name": "stdout",
     "output_type": "stream",
     "text": [
      "100% [..............................................................................] 10396 / 103961\n"
     ]
    },
    {
     "name": "stderr",
     "output_type": "stream",
     "text": [
      "2023-11-24 12:03:13,428 INFO Request is queued\n",
      "2023-11-24 12:04:04,166 INFO Request is running\n",
      "2023-11-24 12:04:29,981 INFO Request is completed\n",
      "2023-11-24 12:04:31,062 INFO Welcome to the CDS\n",
      "2023-11-24 12:04:31,062 INFO Sending request to https://cds.climate.copernicus.eu/api/v2/resources/reanalysis-era5-pressure-levels\n"
     ]
    },
    {
     "name": "stdout",
     "output_type": "stream",
     "text": [
      "100% [..............................................................................] 10396 / 10396"
     ]
    },
    {
     "name": "stderr",
     "output_type": "stream",
     "text": [
      "2023-11-24 12:04:31,272 INFO Request is queued\n",
      "2023-11-24 12:04:40,137 INFO Request is running\n",
      "2023-11-24 12:04:53,159 INFO Request is completed\n",
      "2023-11-24 12:04:54,231 INFO Welcome to the CDS\n",
      "2023-11-24 12:04:54,232 INFO Sending request to https://cds.climate.copernicus.eu/api/v2/resources/reanalysis-era5-pressure-levels\n"
     ]
    },
    {
     "name": "stdout",
     "output_type": "stream",
     "text": [
      "100% [..............................................................................] 10396 / 103962\n"
     ]
    },
    {
     "name": "stderr",
     "output_type": "stream",
     "text": [
      "2023-11-24 12:04:54,615 INFO Request is queued\n",
      "2023-11-24 12:04:55,799 INFO Request is running\n",
      "2023-11-24 12:05:08,724 INFO Request is completed\n",
      "2023-11-24 12:05:09,964 INFO Welcome to the CDS\n",
      "2023-11-24 12:05:09,965 INFO Sending request to https://cds.climate.copernicus.eu/api/v2/resources/reanalysis-era5-pressure-levels\n"
     ]
    },
    {
     "name": "stdout",
     "output_type": "stream",
     "text": [
      "100% [..............................................................................] 10396 / 10396"
     ]
    },
    {
     "name": "stderr",
     "output_type": "stream",
     "text": [
      "2023-11-24 12:05:10,174 INFO Request is queued\n",
      "2023-11-24 12:05:11,359 INFO Request is running\n",
      "2023-11-24 12:05:24,292 INFO Request is completed\n",
      "2023-11-24 12:05:25,345 INFO Welcome to the CDS\n",
      "2023-11-24 12:05:25,347 INFO Sending request to https://cds.climate.copernicus.eu/api/v2/resources/reanalysis-era5-pressure-levels\n"
     ]
    },
    {
     "name": "stdout",
     "output_type": "stream",
     "text": [
      "100% [..............................................................................] 10400 / 104003\n"
     ]
    },
    {
     "name": "stderr",
     "output_type": "stream",
     "text": [
      "2023-11-24 12:05:25,578 INFO Request is queued\n",
      "2023-11-24 12:05:30,885 INFO Request is running\n",
      "2023-11-24 12:05:47,467 INFO Request is completed\n",
      "2023-11-24 12:05:48,840 INFO Welcome to the CDS\n",
      "2023-11-24 12:05:48,842 INFO Sending request to https://cds.climate.copernicus.eu/api/v2/resources/reanalysis-era5-pressure-levels\n"
     ]
    },
    {
     "name": "stdout",
     "output_type": "stream",
     "text": [
      "100% [..............................................................................] 10396 / 10396"
     ]
    },
    {
     "name": "stderr",
     "output_type": "stream",
     "text": [
      "2023-11-24 12:05:50,458 INFO Request is queued\n",
      "2023-11-24 12:05:55,761 INFO Request is running\n",
      "2023-11-24 12:06:12,333 INFO Request is completed\n",
      "2023-11-24 12:06:13,960 INFO Welcome to the CDS\n",
      "2023-11-24 12:06:13,962 INFO Sending request to https://cds.climate.copernicus.eu/api/v2/resources/reanalysis-era5-pressure-levels\n"
     ]
    },
    {
     "name": "stdout",
     "output_type": "stream",
     "text": [
      "100% [..............................................................................] 10400 / 104004\n"
     ]
    },
    {
     "name": "stderr",
     "output_type": "stream",
     "text": [
      "2023-11-24 12:06:14,381 INFO Request is queued\n",
      "2023-11-24 12:06:17,248 INFO Request is running\n",
      "2023-11-24 12:06:28,494 INFO Request is completed\n",
      "2023-11-24 12:06:29,557 INFO Welcome to the CDS\n",
      "2023-11-24 12:06:29,559 INFO Sending request to https://cds.climate.copernicus.eu/api/v2/resources/reanalysis-era5-pressure-levels\n"
     ]
    },
    {
     "name": "stdout",
     "output_type": "stream",
     "text": [
      "100% [..............................................................................] 10396 / 10396"
     ]
    },
    {
     "name": "stderr",
     "output_type": "stream",
     "text": [
      "2023-11-24 12:06:29,795 INFO Request is queued\n",
      "2023-11-24 12:06:30,980 INFO Request is running\n",
      "2023-11-24 12:06:43,898 INFO Request is completed\n",
      "2023-11-24 12:06:44,974 INFO Welcome to the CDS\n",
      "2023-11-24 12:06:44,976 INFO Sending request to https://cds.climate.copernicus.eu/api/v2/resources/reanalysis-era5-pressure-levels\n"
     ]
    },
    {
     "name": "stdout",
     "output_type": "stream",
     "text": [
      "100% [..............................................................................] 10396 / 103965\n"
     ]
    },
    {
     "name": "stderr",
     "output_type": "stream",
     "text": [
      "2023-11-24 12:06:45,257 INFO Request is queued\n",
      "2023-11-24 12:06:46,441 INFO Request is running\n",
      "2023-11-24 12:06:59,362 INFO Request is completed\n",
      "2023-11-24 12:07:00,432 INFO Welcome to the CDS\n",
      "2023-11-24 12:07:00,433 INFO Sending request to https://cds.climate.copernicus.eu/api/v2/resources/reanalysis-era5-pressure-levels\n"
     ]
    },
    {
     "name": "stdout",
     "output_type": "stream",
     "text": [
      "100% [..............................................................................] 10396 / 10396"
     ]
    },
    {
     "name": "stderr",
     "output_type": "stream",
     "text": [
      "2023-11-24 12:07:00,686 INFO Request is queued\n",
      "2023-11-24 12:07:01,868 INFO Request is running\n",
      "2023-11-24 12:07:14,794 INFO Request is completed\n",
      "2023-11-24 12:07:15,870 INFO Welcome to the CDS\n",
      "2023-11-24 12:07:15,872 INFO Sending request to https://cds.climate.copernicus.eu/api/v2/resources/reanalysis-era5-pressure-levels\n"
     ]
    },
    {
     "name": "stdout",
     "output_type": "stream",
     "text": [
      "100% [..............................................................................] 10396 / 103966\n"
     ]
    },
    {
     "name": "stderr",
     "output_type": "stream",
     "text": [
      "2023-11-24 12:07:16,135 INFO Request is queued\n",
      "2023-11-24 12:07:17,318 INFO Request is running\n",
      "2023-11-24 12:07:30,782 INFO Request is completed\n",
      "2023-11-24 12:07:32,274 INFO Welcome to the CDS\n",
      "2023-11-24 12:07:32,274 INFO Sending request to https://cds.climate.copernicus.eu/api/v2/resources/reanalysis-era5-pressure-levels\n"
     ]
    },
    {
     "name": "stdout",
     "output_type": "stream",
     "text": [
      "100% [..............................................................................] 10400 / 10400"
     ]
    },
    {
     "name": "stderr",
     "output_type": "stream",
     "text": [
      "2023-11-24 12:07:32,529 INFO Request is queued\n",
      "2023-11-24 12:07:33,714 INFO Request is running\n",
      "2023-11-24 12:07:46,655 INFO Request is completed\n",
      "2023-11-24 12:07:47,963 INFO Welcome to the CDS\n",
      "2023-11-24 12:07:47,964 INFO Sending request to https://cds.climate.copernicus.eu/api/v2/resources/reanalysis-era5-pressure-levels\n"
     ]
    },
    {
     "name": "stdout",
     "output_type": "stream",
     "text": [
      "100% [..............................................................................] 10396 / 103967\n"
     ]
    },
    {
     "name": "stderr",
     "output_type": "stream",
     "text": [
      "2023-11-24 12:07:48,152 INFO Request is queued\n",
      "2023-11-24 12:07:49,334 INFO Request is running\n",
      "2023-11-24 12:08:10,046 INFO Request is completed\n",
      "2023-11-24 12:08:11,122 INFO Welcome to the CDS\n",
      "2023-11-24 12:08:11,123 INFO Sending request to https://cds.climate.copernicus.eu/api/v2/resources/reanalysis-era5-pressure-levels\n"
     ]
    },
    {
     "name": "stdout",
     "output_type": "stream",
     "text": [
      "100% [..............................................................................] 10400 / 10400"
     ]
    },
    {
     "name": "stderr",
     "output_type": "stream",
     "text": [
      "2023-11-24 12:08:11,367 INFO Request is queued\n",
      "2023-11-24 12:08:16,671 INFO Request is running\n",
      "2023-11-24 12:08:33,266 INFO Request is completed\n",
      "2023-11-24 12:08:34,517 INFO Welcome to the CDS\n",
      "2023-11-24 12:08:34,518 INFO Sending request to https://cds.climate.copernicus.eu/api/v2/resources/reanalysis-era5-pressure-levels\n"
     ]
    },
    {
     "name": "stdout",
     "output_type": "stream",
     "text": [
      "100% [..............................................................................] 10396 / 103968\n"
     ]
    },
    {
     "name": "stderr",
     "output_type": "stream",
     "text": [
      "2023-11-24 12:08:34,735 INFO Request is queued\n",
      "2023-11-24 12:08:37,606 INFO Request is running\n",
      "2023-11-24 12:08:48,851 INFO Request is completed\n",
      "2023-11-24 12:08:49,916 INFO Welcome to the CDS\n",
      "2023-11-24 12:08:49,916 INFO Sending request to https://cds.climate.copernicus.eu/api/v2/resources/reanalysis-era5-pressure-levels\n"
     ]
    },
    {
     "name": "stdout",
     "output_type": "stream",
     "text": [
      "100% [..............................................................................] 10400 / 10400"
     ]
    },
    {
     "name": "stderr",
     "output_type": "stream",
     "text": [
      "2023-11-24 12:08:50,126 INFO Request is queued\n",
      "2023-11-24 12:08:52,999 INFO Request is running\n",
      "2023-11-24 12:09:04,248 INFO Request is completed\n",
      "2023-11-24 12:09:05,542 INFO Welcome to the CDS\n",
      "2023-11-24 12:09:05,544 INFO Sending request to https://cds.climate.copernicus.eu/api/v2/resources/reanalysis-era5-pressure-levels\n"
     ]
    },
    {
     "name": "stdout",
     "output_type": "stream",
     "text": [
      "100% [..............................................................................] 10396 / 103969\n"
     ]
    },
    {
     "name": "stderr",
     "output_type": "stream",
     "text": [
      "2023-11-24 12:09:05,748 INFO Request is queued\n",
      "2023-11-24 12:09:11,056 INFO Request is running\n",
      "2023-11-24 12:09:27,653 INFO Request is completed\n",
      "2023-11-24 12:09:29,124 INFO Welcome to the CDS\n",
      "2023-11-24 12:09:29,126 INFO Sending request to https://cds.climate.copernicus.eu/api/v2/resources/reanalysis-era5-pressure-levels\n"
     ]
    },
    {
     "name": "stdout",
     "output_type": "stream",
     "text": [
      "100% [..............................................................................] 10396 / 10396"
     ]
    },
    {
     "name": "stderr",
     "output_type": "stream",
     "text": [
      "2023-11-24 12:09:29,341 INFO Request is queued\n",
      "2023-11-24 12:09:30,552 INFO Request is running\n",
      "2023-11-24 12:09:43,479 INFO Request is completed\n",
      "2023-11-24 12:09:44,790 INFO Welcome to the CDS\n",
      "2023-11-24 12:09:44,792 INFO Sending request to https://cds.climate.copernicus.eu/api/v2/resources/reanalysis-era5-pressure-levels\n"
     ]
    },
    {
     "name": "stdout",
     "output_type": "stream",
     "text": [
      "100% [..............................................................................] 10396 / 1039610\n"
     ]
    },
    {
     "name": "stderr",
     "output_type": "stream",
     "text": [
      "2023-11-24 12:09:44,997 INFO Request is queued\n",
      "2023-11-24 12:09:46,180 INFO Request is running\n",
      "2023-11-24 12:09:59,115 INFO Request is completed\n",
      "2023-11-24 12:10:00,381 INFO Welcome to the CDS\n",
      "2023-11-24 12:10:00,383 INFO Sending request to https://cds.climate.copernicus.eu/api/v2/resources/reanalysis-era5-pressure-levels\n"
     ]
    },
    {
     "name": "stdout",
     "output_type": "stream",
     "text": [
      "100% [..............................................................................] 10396 / 10396"
     ]
    },
    {
     "name": "stderr",
     "output_type": "stream",
     "text": [
      "2023-11-24 12:10:00,600 INFO Request is queued\n",
      "2023-11-24 12:10:01,786 INFO Request is running\n",
      "2023-11-24 12:10:14,718 INFO Request is completed\n",
      "2023-11-24 12:10:15,796 INFO Welcome to the CDS\n",
      "2023-11-24 12:10:15,798 INFO Sending request to https://cds.climate.copernicus.eu/api/v2/resources/reanalysis-era5-pressure-levels\n"
     ]
    },
    {
     "name": "stdout",
     "output_type": "stream",
     "text": [
      "100% [..............................................................................] 10392 / 1039211\n"
     ]
    },
    {
     "name": "stderr",
     "output_type": "stream",
     "text": [
      "2023-11-24 12:10:16,116 INFO Request is queued\n",
      "2023-11-24 12:10:17,303 INFO Request is running\n",
      "2023-11-24 12:10:30,234 INFO Request is completed\n",
      "2023-11-24 12:10:31,299 INFO Welcome to the CDS\n",
      "2023-11-24 12:10:31,300 INFO Sending request to https://cds.climate.copernicus.eu/api/v2/resources/reanalysis-era5-pressure-levels\n"
     ]
    },
    {
     "name": "stdout",
     "output_type": "stream",
     "text": [
      "100% [..............................................................................] 10392 / 10392"
     ]
    },
    {
     "name": "stderr",
     "output_type": "stream",
     "text": [
      "2023-11-24 12:10:31,546 INFO Request is queued\n",
      "2023-11-24 12:10:36,854 INFO Request is running\n",
      "2023-11-24 12:10:53,447 INFO Request is completed\n",
      "2023-11-24 12:10:54,763 INFO Welcome to the CDS\n",
      "2023-11-24 12:10:54,765 INFO Sending request to https://cds.climate.copernicus.eu/api/v2/resources/reanalysis-era5-pressure-levels\n"
     ]
    },
    {
     "name": "stdout",
     "output_type": "stream",
     "text": [
      "100% [..............................................................................] 10400 / 1040012\n"
     ]
    },
    {
     "name": "stderr",
     "output_type": "stream",
     "text": [
      "2023-11-24 12:10:54,990 INFO Request is queued\n",
      "2023-11-24 12:11:00,293 INFO Request is running\n",
      "2023-11-24 12:11:09,623 INFO Request is completed\n",
      "2023-11-24 12:11:10,686 INFO Welcome to the CDS\n",
      "2023-11-24 12:11:10,687 INFO Sending request to https://cds.climate.copernicus.eu/api/v2/resources/reanalysis-era5-pressure-levels\n"
     ]
    },
    {
     "name": "stdout",
     "output_type": "stream",
     "text": [
      "100% [..............................................................................] 10400 / 10400"
     ]
    },
    {
     "name": "stderr",
     "output_type": "stream",
     "text": [
      "2023-11-24 12:11:10,959 INFO Request is queued\n",
      "2023-11-24 12:11:25,050 INFO Request is running\n",
      "2023-11-24 12:11:44,392 INFO Request is completed\n",
      "2023-11-24 12:11:45,477 INFO Welcome to the CDS\n",
      "2023-11-24 12:11:45,478 INFO Sending request to https://cds.climate.copernicus.eu/api/v2/resources/reanalysis-era5-pressure-levels\n"
     ]
    },
    {
     "name": "stdout",
     "output_type": "stream",
     "text": [
      "100% [..............................................................................] 10396 / 1039613\n"
     ]
    },
    {
     "name": "stderr",
     "output_type": "stream",
     "text": [
      "2023-11-24 12:11:45,682 INFO Request is queued\n",
      "2023-11-24 12:11:46,861 INFO Request is running\n",
      "2023-11-24 12:11:59,774 INFO Request is completed\n",
      "2023-11-24 12:12:00,858 INFO Welcome to the CDS\n",
      "2023-11-24 12:12:00,859 INFO Sending request to https://cds.climate.copernicus.eu/api/v2/resources/reanalysis-era5-pressure-levels\n"
     ]
    },
    {
     "name": "stdout",
     "output_type": "stream",
     "text": [
      "100% [..............................................................................] 10396 / 10396"
     ]
    },
    {
     "name": "stderr",
     "output_type": "stream",
     "text": [
      "2023-11-24 12:12:01,055 INFO Request is queued\n",
      "2023-11-24 12:12:09,911 INFO Request is running\n",
      "2023-11-24 12:12:22,927 INFO Request is completed\n",
      "2023-11-24 12:12:24,008 INFO Welcome to the CDS\n",
      "2023-11-24 12:12:24,009 INFO Sending request to https://cds.climate.copernicus.eu/api/v2/resources/reanalysis-era5-pressure-levels\n"
     ]
    },
    {
     "name": "stdout",
     "output_type": "stream",
     "text": [
      "100% [..............................................................................] 10400 / 1040014\n"
     ]
    },
    {
     "name": "stderr",
     "output_type": "stream",
     "text": [
      "2023-11-24 12:12:24,223 INFO Request is queued\n",
      "2023-11-24 12:12:33,080 INFO Request is running\n",
      "2023-11-24 12:12:46,101 INFO Request is completed\n",
      "2023-11-24 12:12:47,174 INFO Welcome to the CDS\n",
      "2023-11-24 12:12:47,175 INFO Sending request to https://cds.climate.copernicus.eu/api/v2/resources/reanalysis-era5-pressure-levels\n"
     ]
    },
    {
     "name": "stdout",
     "output_type": "stream",
     "text": [
      "100% [..............................................................................] 10400 / 10400"
     ]
    },
    {
     "name": "stderr",
     "output_type": "stream",
     "text": [
      "2023-11-24 12:12:47,415 INFO Request is queued\n",
      "2023-11-24 12:12:50,284 INFO Request is running\n",
      "2023-11-24 12:13:01,524 INFO Request is completed\n",
      "2023-11-24 12:13:02,692 INFO Welcome to the CDS\n",
      "2023-11-24 12:13:02,693 INFO Sending request to https://cds.climate.copernicus.eu/api/v2/resources/reanalysis-era5-pressure-levels\n"
     ]
    },
    {
     "name": "stdout",
     "output_type": "stream",
     "text": [
      "100% [..............................................................................] 10396 / 1039615\n"
     ]
    },
    {
     "name": "stderr",
     "output_type": "stream",
     "text": [
      "2023-11-24 12:13:02,915 INFO Request is queued\n",
      "2023-11-24 12:13:05,785 INFO Request is running\n",
      "2023-11-24 12:13:17,021 INFO Request is completed\n",
      "2023-11-24 12:13:18,084 INFO Welcome to the CDS\n",
      "2023-11-24 12:13:18,086 INFO Sending request to https://cds.climate.copernicus.eu/api/v2/resources/reanalysis-era5-pressure-levels\n"
     ]
    },
    {
     "name": "stdout",
     "output_type": "stream",
     "text": [
      "100% [..............................................................................] 10400 / 10400"
     ]
    },
    {
     "name": "stderr",
     "output_type": "stream",
     "text": [
      "2023-11-24 12:13:18,299 INFO Request is queued\n",
      "2023-11-24 12:13:23,606 INFO Request is running\n",
      "2023-11-24 12:13:40,189 INFO Request is completed\n",
      "2023-11-24 12:13:41,501 INFO Welcome to the CDS\n",
      "2023-11-24 12:13:41,502 INFO Sending request to https://cds.climate.copernicus.eu/api/v2/resources/reanalysis-era5-pressure-levels\n"
     ]
    },
    {
     "name": "stdout",
     "output_type": "stream",
     "text": [
      "100% [..............................................................................] 10400 / 1040016\n"
     ]
    },
    {
     "name": "stderr",
     "output_type": "stream",
     "text": [
      "2023-11-24 12:13:41,685 INFO Request is queued\n",
      "2023-11-24 12:13:42,871 INFO Request is running\n",
      "2023-11-24 12:13:55,789 INFO Request is completed\n",
      "2023-11-24 12:13:56,863 INFO Welcome to the CDS\n",
      "2023-11-24 12:13:56,864 INFO Sending request to https://cds.climate.copernicus.eu/api/v2/resources/reanalysis-era5-pressure-levels\n"
     ]
    },
    {
     "name": "stdout",
     "output_type": "stream",
     "text": [
      "100% [..............................................................................] 10396 / 10396"
     ]
    },
    {
     "name": "stderr",
     "output_type": "stream",
     "text": [
      "2023-11-24 12:13:57,086 INFO Request is queued\n",
      "2023-11-24 12:13:59,957 INFO Request is running\n",
      "2023-11-24 12:14:11,195 INFO Request is completed\n",
      "2023-11-24 12:14:12,287 INFO Welcome to the CDS\n",
      "2023-11-24 12:14:12,288 INFO Sending request to https://cds.climate.copernicus.eu/api/v2/resources/reanalysis-era5-pressure-levels\n"
     ]
    },
    {
     "name": "stdout",
     "output_type": "stream",
     "text": [
      "100% [..............................................................................] 10396 / 1039617\n"
     ]
    },
    {
     "name": "stderr",
     "output_type": "stream",
     "text": [
      "2023-11-24 12:14:12,517 INFO Request is queued\n",
      "2023-11-24 12:14:13,700 INFO Request is running\n",
      "2023-11-24 12:14:26,623 INFO Request is completed\n",
      "2023-11-24 12:14:27,683 INFO Welcome to the CDS\n",
      "2023-11-24 12:14:27,684 INFO Sending request to https://cds.climate.copernicus.eu/api/v2/resources/reanalysis-era5-pressure-levels\n"
     ]
    },
    {
     "name": "stdout",
     "output_type": "stream",
     "text": [
      "100% [..............................................................................] 10396 / 10396"
     ]
    },
    {
     "name": "stderr",
     "output_type": "stream",
     "text": [
      "2023-11-24 12:14:27,879 INFO Request is queued\n",
      "2023-11-24 12:14:30,743 INFO Request is running\n",
      "2023-11-24 12:14:41,981 INFO Request is completed\n",
      "2023-11-24 12:14:43,299 INFO Welcome to the CDS\n",
      "2023-11-24 12:14:43,301 INFO Sending request to https://cds.climate.copernicus.eu/api/v2/resources/reanalysis-era5-pressure-levels\n"
     ]
    },
    {
     "name": "stdout",
     "output_type": "stream",
     "text": [
      "100% [..............................................................................] 10396 / 1039618\n"
     ]
    },
    {
     "name": "stderr",
     "output_type": "stream",
     "text": [
      "2023-11-24 12:14:43,513 INFO Request is queued\n",
      "2023-11-24 12:14:44,700 INFO Request is running\n",
      "2023-11-24 12:14:58,186 INFO Request is completed\n",
      "2023-11-24 12:15:00,546 INFO Welcome to the CDS\n",
      "2023-11-24 12:15:00,547 INFO Sending request to https://cds.climate.copernicus.eu/api/v2/resources/reanalysis-era5-pressure-levels\n"
     ]
    },
    {
     "name": "stdout",
     "output_type": "stream",
     "text": [
      "100% [..............................................................................] 10396 / 10396"
     ]
    },
    {
     "name": "stderr",
     "output_type": "stream",
     "text": [
      "2023-11-24 12:15:00,727 INFO Request is queued\n",
      "2023-11-24 12:15:01,904 INFO Request is running\n",
      "2023-11-24 12:15:14,813 INFO Request is completed\n",
      "2023-11-24 12:15:16,049 INFO Welcome to the CDS\n",
      "2023-11-24 12:15:16,050 INFO Sending request to https://cds.climate.copernicus.eu/api/v2/resources/reanalysis-era5-pressure-levels\n"
     ]
    },
    {
     "name": "stdout",
     "output_type": "stream",
     "text": [
      "100% [..............................................................................] 10396 / 1039619\n"
     ]
    },
    {
     "name": "stderr",
     "output_type": "stream",
     "text": [
      "2023-11-24 12:15:16,267 INFO Request is queued\n",
      "2023-11-24 12:15:17,451 INFO Request is running\n",
      "2023-11-24 12:15:30,362 INFO Request is completed\n",
      "2023-11-24 12:15:31,571 INFO Welcome to the CDS\n",
      "2023-11-24 12:15:31,572 INFO Sending request to https://cds.climate.copernicus.eu/api/v2/resources/reanalysis-era5-pressure-levels\n"
     ]
    },
    {
     "name": "stdout",
     "output_type": "stream",
     "text": [
      "100% [..............................................................................] 10396 / 10396"
     ]
    },
    {
     "name": "stderr",
     "output_type": "stream",
     "text": [
      "2023-11-24 12:15:31,753 INFO Request is queued\n",
      "2023-11-24 12:15:32,937 INFO Request is running\n",
      "2023-11-24 12:15:45,849 INFO Request is completed\n",
      "2023-11-24 12:15:46,919 INFO Welcome to the CDS\n",
      "2023-11-24 12:15:46,921 INFO Sending request to https://cds.climate.copernicus.eu/api/v2/resources/reanalysis-era5-pressure-levels\n"
     ]
    },
    {
     "name": "stdout",
     "output_type": "stream",
     "text": [
      "100% [..............................................................................] 10396 / 1039620\n"
     ]
    },
    {
     "name": "stderr",
     "output_type": "stream",
     "text": [
      "2023-11-24 12:15:47,151 INFO Request is queued\n",
      "2023-11-24 12:15:48,331 INFO Request is running\n",
      "2023-11-24 12:16:01,246 INFO Request is completed\n",
      "2023-11-24 12:16:02,313 INFO Welcome to the CDS\n",
      "2023-11-24 12:16:02,314 INFO Sending request to https://cds.climate.copernicus.eu/api/v2/resources/reanalysis-era5-pressure-levels\n"
     ]
    },
    {
     "name": "stdout",
     "output_type": "stream",
     "text": [
      "100% [..............................................................................] 10396 / 10396"
     ]
    },
    {
     "name": "stderr",
     "output_type": "stream",
     "text": [
      "2023-11-24 12:16:02,544 INFO Request is queued\n",
      "2023-11-24 12:16:03,725 INFO Request is running\n",
      "2023-11-24 12:16:16,629 INFO Request is completed\n",
      "2023-11-24 12:16:17,699 INFO Welcome to the CDS\n",
      "2023-11-24 12:16:17,699 INFO Sending request to https://cds.climate.copernicus.eu/api/v2/resources/reanalysis-era5-pressure-levels\n"
     ]
    },
    {
     "name": "stdout",
     "output_type": "stream",
     "text": [
      "100% [..............................................................................] 10396 / 1039621\n"
     ]
    },
    {
     "name": "stderr",
     "output_type": "stream",
     "text": [
      "2023-11-24 12:16:17,922 INFO Request is queued\n",
      "2023-11-24 12:16:19,106 INFO Request is running\n",
      "2023-11-24 12:16:32,012 INFO Request is completed\n",
      "2023-11-24 12:16:33,076 INFO Welcome to the CDS\n",
      "2023-11-24 12:16:33,077 INFO Sending request to https://cds.climate.copernicus.eu/api/v2/resources/reanalysis-era5-pressure-levels\n"
     ]
    },
    {
     "name": "stdout",
     "output_type": "stream",
     "text": [
      "100% [..............................................................................] 10396 / 10396"
     ]
    },
    {
     "name": "stderr",
     "output_type": "stream",
     "text": [
      "2023-11-24 12:16:33,311 INFO Request is queued\n",
      "2023-11-24 12:16:34,493 INFO Request is running\n",
      "2023-11-24 12:16:47,406 INFO Request is completed\n",
      "2023-11-24 12:16:48,707 INFO Welcome to the CDS\n",
      "2023-11-24 12:16:48,708 INFO Sending request to https://cds.climate.copernicus.eu/api/v2/resources/reanalysis-era5-pressure-levels\n"
     ]
    },
    {
     "name": "stdout",
     "output_type": "stream",
     "text": [
      "100% [..............................................................................] 10400 / 1040022\n"
     ]
    },
    {
     "name": "stderr",
     "output_type": "stream",
     "text": [
      "2023-11-24 12:16:48,981 INFO Request is queued\n",
      "2023-11-24 12:16:50,163 INFO Request is running\n",
      "2023-11-24 12:17:03,083 INFO Request is completed\n",
      "2023-11-24 12:17:04,124 INFO Welcome to the CDS\n",
      "2023-11-24 12:17:04,126 INFO Sending request to https://cds.climate.copernicus.eu/api/v2/resources/reanalysis-era5-pressure-levels\n"
     ]
    },
    {
     "name": "stdout",
     "output_type": "stream",
     "text": [
      "100% [..............................................................................] 10396 / 10396"
     ]
    },
    {
     "name": "stderr",
     "output_type": "stream",
     "text": [
      "2023-11-24 12:17:04,383 INFO Request is queued\n",
      "2023-11-24 12:17:07,246 INFO Request is running\n",
      "2023-11-24 12:17:18,476 INFO Request is completed\n",
      "2023-11-24 12:17:19,780 INFO Welcome to the CDS\n",
      "2023-11-24 12:17:19,781 INFO Sending request to https://cds.climate.copernicus.eu/api/v2/resources/reanalysis-era5-pressure-levels\n"
     ]
    },
    {
     "name": "stdout",
     "output_type": "stream",
     "text": [
      "100% [..............................................................................] 10396 / 1039623\n"
     ]
    },
    {
     "name": "stderr",
     "output_type": "stream",
     "text": [
      "2023-11-24 12:17:19,971 INFO Request is queued\n",
      "2023-11-24 12:17:25,265 INFO Request is running\n",
      "2023-11-24 12:17:41,842 INFO Request is completed\n",
      "2023-11-24 12:17:43,390 INFO Welcome to the CDS\n",
      "2023-11-24 12:17:43,392 INFO Sending request to https://cds.climate.copernicus.eu/api/v2/resources/reanalysis-era5-pressure-levels\n"
     ]
    },
    {
     "name": "stdout",
     "output_type": "stream",
     "text": [
      "100% [..............................................................................] 10396 / 10396"
     ]
    },
    {
     "name": "stderr",
     "output_type": "stream",
     "text": [
      "2023-11-24 12:17:43,604 INFO Request is queued\n",
      "2023-11-24 12:17:44,787 INFO Request is running\n",
      "2023-11-24 12:17:57,692 INFO Request is completed\n",
      "2023-11-24 12:17:58,760 INFO Welcome to the CDS\n",
      "2023-11-24 12:17:58,761 INFO Sending request to https://cds.climate.copernicus.eu/api/v2/resources/reanalysis-era5-pressure-levels\n"
     ]
    },
    {
     "name": "stdout",
     "output_type": "stream",
     "text": [
      "100% [..............................................................................] 10396 / 1039624\n"
     ]
    },
    {
     "name": "stderr",
     "output_type": "stream",
     "text": [
      "2023-11-24 12:17:59,000 INFO Request is queued\n",
      "2023-11-24 12:18:00,182 INFO Request is running\n",
      "2023-11-24 12:18:13,088 INFO Request is completed\n",
      "2023-11-24 12:18:14,692 INFO Welcome to the CDS\n",
      "2023-11-24 12:18:14,694 INFO Sending request to https://cds.climate.copernicus.eu/api/v2/resources/reanalysis-era5-pressure-levels\n"
     ]
    },
    {
     "name": "stdout",
     "output_type": "stream",
     "text": [
      "100% [..............................................................................] 10396 / 10396"
     ]
    },
    {
     "name": "stderr",
     "output_type": "stream",
     "text": [
      "2023-11-24 12:18:14,939 INFO Request is queued\n",
      "2023-11-24 12:18:17,809 INFO Request is running\n",
      "2023-11-24 12:18:29,055 INFO Request is completed\n",
      "2023-11-24 12:18:30,129 INFO Welcome to the CDS\n",
      "2023-11-24 12:18:30,130 INFO Sending request to https://cds.climate.copernicus.eu/api/v2/resources/reanalysis-era5-pressure-levels\n"
     ]
    },
    {
     "name": "stdout",
     "output_type": "stream",
     "text": [
      "100% [..............................................................................] 10396 / 1039625\n"
     ]
    },
    {
     "name": "stderr",
     "output_type": "stream",
     "text": [
      "2023-11-24 12:18:30,345 INFO Request is queued\n",
      "2023-11-24 12:18:31,536 INFO Request is running\n",
      "2023-11-24 12:18:44,469 INFO Request is completed\n",
      "2023-11-24 12:18:45,541 INFO Welcome to the CDS\n",
      "2023-11-24 12:18:45,542 INFO Sending request to https://cds.climate.copernicus.eu/api/v2/resources/reanalysis-era5-pressure-levels\n"
     ]
    },
    {
     "name": "stdout",
     "output_type": "stream",
     "text": [
      "100% [..............................................................................] 10396 / 10396"
     ]
    },
    {
     "name": "stderr",
     "output_type": "stream",
     "text": [
      "2023-11-24 12:18:45,765 INFO Request is queued\n",
      "2023-11-24 12:18:46,951 INFO Request is running\n",
      "2023-11-24 12:18:59,875 INFO Request is completed\n",
      "2023-11-24 12:19:00,956 INFO Welcome to the CDS\n",
      "2023-11-24 12:19:00,957 INFO Sending request to https://cds.climate.copernicus.eu/api/v2/resources/reanalysis-era5-pressure-levels\n"
     ]
    },
    {
     "name": "stdout",
     "output_type": "stream",
     "text": [
      "100% [..............................................................................] 10396 / 1039626\n"
     ]
    },
    {
     "name": "stderr",
     "output_type": "stream",
     "text": [
      "2023-11-24 12:19:01,175 INFO Request is queued\n",
      "2023-11-24 12:19:02,362 INFO Request is running\n",
      "2023-11-24 12:19:15,293 INFO Request is completed\n",
      "2023-11-24 12:19:16,362 INFO Welcome to the CDS\n",
      "2023-11-24 12:19:16,364 INFO Sending request to https://cds.climate.copernicus.eu/api/v2/resources/reanalysis-era5-pressure-levels\n"
     ]
    },
    {
     "name": "stdout",
     "output_type": "stream",
     "text": [
      "100% [..............................................................................] 10400 / 10400"
     ]
    },
    {
     "name": "stderr",
     "output_type": "stream",
     "text": [
      "2023-11-24 12:19:16,552 INFO Request is queued\n",
      "2023-11-24 12:19:17,738 INFO Request is running\n",
      "2023-11-24 12:19:30,675 INFO Request is completed\n",
      "2023-11-24 12:19:32,039 INFO Welcome to the CDS\n",
      "2023-11-24 12:19:32,039 INFO Sending request to https://cds.climate.copernicus.eu/api/v2/resources/reanalysis-era5-pressure-levels\n"
     ]
    },
    {
     "name": "stdout",
     "output_type": "stream",
     "text": [
      "100% [..............................................................................] 10396 / 1039627\n"
     ]
    },
    {
     "name": "stderr",
     "output_type": "stream",
     "text": [
      "2023-11-24 12:19:32,225 INFO Request is queued\n",
      "2023-11-24 12:19:33,414 INFO Request is running\n",
      "2023-11-24 12:19:46,348 INFO Request is completed\n",
      "2023-11-24 12:19:47,418 INFO Welcome to the CDS\n",
      "2023-11-24 12:19:47,420 INFO Sending request to https://cds.climate.copernicus.eu/api/v2/resources/reanalysis-era5-pressure-levels\n"
     ]
    },
    {
     "name": "stdout",
     "output_type": "stream",
     "text": [
      "100% [..............................................................................] 10396 / 10396"
     ]
    },
    {
     "name": "stderr",
     "output_type": "stream",
     "text": [
      "2023-11-24 12:19:47,666 INFO Request is queued\n",
      "2023-11-24 12:19:48,871 INFO Request is running\n",
      "2023-11-24 12:20:09,578 INFO Request is completed\n",
      "2023-11-24 12:20:10,841 INFO Welcome to the CDS\n",
      "2023-11-24 12:20:10,843 INFO Sending request to https://cds.climate.copernicus.eu/api/v2/resources/reanalysis-era5-pressure-levels\n"
     ]
    },
    {
     "name": "stdout",
     "output_type": "stream",
     "text": [
      "100% [..............................................................................] 10396 / 1039628\n"
     ]
    },
    {
     "name": "stderr",
     "output_type": "stream",
     "text": [
      "2023-11-24 12:20:11,075 INFO Request is queued\n",
      "2023-11-24 12:20:16,387 INFO Request is running\n",
      "2023-11-24 12:20:32,971 INFO Request is completed\n",
      "2023-11-24 12:20:34,045 INFO Welcome to the CDS\n",
      "2023-11-24 12:20:34,047 INFO Sending request to https://cds.climate.copernicus.eu/api/v2/resources/reanalysis-era5-pressure-levels\n"
     ]
    },
    {
     "name": "stdout",
     "output_type": "stream",
     "text": [
      "100% [..............................................................................] 10396 / 10396"
     ]
    },
    {
     "name": "stderr",
     "output_type": "stream",
     "text": [
      "2023-11-24 12:20:34,268 INFO Request is queued\n",
      "2023-11-24 12:20:39,684 INFO Request is running\n",
      "2023-11-24 12:20:48,493 INFO Request is completed\n",
      "2023-11-24 12:20:49,550 INFO Welcome to the CDS\n",
      "2023-11-24 12:20:49,552 INFO Sending request to https://cds.climate.copernicus.eu/api/v2/resources/reanalysis-era5-pressure-levels\n"
     ]
    },
    {
     "name": "stdout",
     "output_type": "stream",
     "text": [
      "100% [..............................................................................] 10400 / 1040029\n"
     ]
    },
    {
     "name": "stderr",
     "output_type": "stream",
     "text": [
      "2023-11-24 12:20:49,774 INFO Request is queued\n",
      "2023-11-24 12:20:58,641 INFO Request is running\n",
      "2023-11-24 12:21:11,690 INFO Request is completed\n",
      "2023-11-24 12:21:12,743 INFO Welcome to the CDS\n",
      "2023-11-24 12:21:12,744 INFO Sending request to https://cds.climate.copernicus.eu/api/v2/resources/reanalysis-era5-pressure-levels\n"
     ]
    },
    {
     "name": "stdout",
     "output_type": "stream",
     "text": [
      "100% [..............................................................................] 10392 / 10392"
     ]
    },
    {
     "name": "stderr",
     "output_type": "stream",
     "text": [
      "2023-11-24 12:21:12,962 INFO Request is queued\n",
      "2023-11-24 12:21:27,124 INFO Request is running\n",
      "2023-11-24 12:21:46,480 INFO Request is completed\n",
      "2023-11-24 12:21:47,952 INFO Welcome to the CDS\n",
      "2023-11-24 12:21:47,953 INFO Sending request to https://cds.climate.copernicus.eu/api/v2/resources/reanalysis-era5-pressure-levels\n"
     ]
    },
    {
     "name": "stdout",
     "output_type": "stream",
     "text": [
      "100% [..............................................................................] 10396 / 1039630\n"
     ]
    },
    {
     "name": "stderr",
     "output_type": "stream",
     "text": [
      "2023-11-24 12:21:48,190 INFO Request is queued\n",
      "2023-11-24 12:22:02,836 INFO Request is running\n",
      "2023-11-24 12:22:22,190 INFO Request is completed\n",
      "2023-11-24 12:22:23,536 INFO Welcome to the CDS\n",
      "2023-11-24 12:22:23,538 INFO Sending request to https://cds.climate.copernicus.eu/api/v2/resources/reanalysis-era5-pressure-levels\n"
     ]
    },
    {
     "name": "stdout",
     "output_type": "stream",
     "text": [
      "100% [..............................................................................] 10396 / 10396"
     ]
    },
    {
     "name": "stderr",
     "output_type": "stream",
     "text": [
      "2023-11-24 12:22:23,791 INFO Request is queued\n",
      "2023-11-24 12:22:25,029 INFO Request is running\n"
     ]
    },
    {
     "ename": "KeyboardInterrupt",
     "evalue": "",
     "output_type": "error",
     "traceback": [
      "\u001b[0;31m---------------------------------------------------------------------------\u001b[0m",
      "\u001b[0;31mKeyboardInterrupt\u001b[0m                         Traceback (most recent call last)",
      "Cell \u001b[0;32mIn[67], line 46\u001b[0m\n\u001b[1;32m     43\u001b[0m filename \u001b[38;5;241m=\u001b[39m \u001b[38;5;124m'\u001b[39m\u001b[38;5;124mtime_before_\u001b[39m\u001b[38;5;124m'\u001b[39m\u001b[38;5;241m+\u001b[39m\u001b[38;5;28mstr\u001b[39m(dt)\u001b[38;5;241m+\u001b[39m\u001b[38;5;124m'\u001b[39m\u001b[38;5;124m.nc\u001b[39m\u001b[38;5;124m'\u001b[39m  \u001b[38;5;66;03m# 文件名\u001b[39;00m\n\u001b[1;32m     44\u001b[0m Downloader(url, path, filename)  \u001b[38;5;66;03m# 添加进IDM中下载\u001b[39;00m\n\u001b[0;32m---> 46\u001b[0m r\u001b[38;5;241m=\u001b[39m\u001b[43mc\u001b[49m\u001b[38;5;241;43m.\u001b[39;49m\u001b[43mretrieve\u001b[49m\u001b[43m(\u001b[49m\n\u001b[1;32m     47\u001b[0m \u001b[43m    \u001b[49m\u001b[38;5;124;43m'\u001b[39;49m\u001b[38;5;124;43mreanalysis-era5-pressure-levels\u001b[39;49m\u001b[38;5;124;43m'\u001b[39;49m\u001b[43m,\u001b[49m\n\u001b[1;32m     48\u001b[0m \u001b[43m    \u001b[49m\u001b[43m{\u001b[49m\n\u001b[1;32m     49\u001b[0m \u001b[43m        \u001b[49m\u001b[38;5;124;43m'\u001b[39;49m\u001b[38;5;124;43mproduct_type\u001b[39;49m\u001b[38;5;124;43m'\u001b[39;49m\u001b[43m:\u001b[49m\u001b[43m \u001b[49m\u001b[38;5;124;43m'\u001b[39;49m\u001b[38;5;124;43mreanalysis\u001b[39;49m\u001b[38;5;124;43m'\u001b[39;49m\u001b[43m,\u001b[49m\n\u001b[1;32m     50\u001b[0m \u001b[43m        \u001b[49m\u001b[38;5;124;43m'\u001b[39;49m\u001b[38;5;124;43mformat\u001b[39;49m\u001b[38;5;124;43m'\u001b[39;49m\u001b[43m:\u001b[49m\u001b[43m \u001b[49m\u001b[38;5;124;43m'\u001b[39;49m\u001b[38;5;124;43mnetcdf\u001b[39;49m\u001b[38;5;124;43m'\u001b[39;49m\u001b[43m,\u001b[49m\n\u001b[1;32m     51\u001b[0m \u001b[43m        \u001b[49m\u001b[38;5;124;43m'\u001b[39;49m\u001b[38;5;124;43mvariable\u001b[39;49m\u001b[38;5;124;43m'\u001b[39;49m\u001b[43m:\u001b[49m\u001b[43m \u001b[49m\u001b[38;5;28;43mvars\u001b[39;49m\u001b[43m,\u001b[49m\n\u001b[1;32m     52\u001b[0m \u001b[43m        \u001b[49m\u001b[38;5;124;43m'\u001b[39;49m\u001b[38;5;124;43mpressure_level\u001b[39;49m\u001b[38;5;124;43m'\u001b[39;49m\u001b[43m:\u001b[49m\u001b[43m \u001b[49m\u001b[43mp_levels\u001b[49m\u001b[43m,\u001b[49m\n\u001b[1;32m     53\u001b[0m \u001b[43m        \u001b[49m\u001b[38;5;124;43m'\u001b[39;49m\u001b[38;5;124;43myear\u001b[39;49m\u001b[38;5;124;43m'\u001b[39;49m\u001b[43m:\u001b[49m\u001b[43m \u001b[49m\u001b[43mtime_after\u001b[49m\u001b[43m[\u001b[49m\u001b[43m:\u001b[49m\u001b[38;5;241;43m4\u001b[39;49m\u001b[43m]\u001b[49m\u001b[43m,\u001b[49m\u001b[38;5;66;43;03m#change to loop variable\u001b[39;49;00m\n\u001b[1;32m     54\u001b[0m \u001b[43m        \u001b[49m\u001b[38;5;124;43m'\u001b[39;49m\u001b[38;5;124;43mmonth\u001b[39;49m\u001b[38;5;124;43m'\u001b[39;49m\u001b[43m:\u001b[49m\u001b[43m \u001b[49m\u001b[43mtime_after\u001b[49m\u001b[43m[\u001b[49m\u001b[38;5;241;43m5\u001b[39;49m\u001b[43m:\u001b[49m\u001b[38;5;241;43m7\u001b[39;49m\u001b[43m]\u001b[49m\u001b[43m,\u001b[49m\u001b[38;5;66;43;03m#change to loop variable\u001b[39;49;00m\n\u001b[1;32m     55\u001b[0m \u001b[43m        \u001b[49m\u001b[38;5;124;43m'\u001b[39;49m\u001b[38;5;124;43mday\u001b[39;49m\u001b[38;5;124;43m'\u001b[39;49m\u001b[43m:\u001b[49m\u001b[43m \u001b[49m\u001b[43mtime_after\u001b[49m\u001b[43m[\u001b[49m\u001b[38;5;241;43m8\u001b[39;49m\u001b[43m:\u001b[49m\u001b[38;5;241;43m10\u001b[39;49m\u001b[43m]\u001b[49m\u001b[43m,\u001b[49m\u001b[38;5;66;43;03m#change to loop variable\u001b[39;49;00m\n\u001b[1;32m     56\u001b[0m \u001b[43m        \u001b[49m\u001b[38;5;124;43m'\u001b[39;49m\u001b[38;5;124;43mtime\u001b[39;49m\u001b[38;5;124;43m'\u001b[39;49m\u001b[43m:\u001b[49m\u001b[43m \u001b[49m\u001b[43mtime_after\u001b[49m\u001b[43m[\u001b[49m\u001b[38;5;241;43m11\u001b[39;49m\u001b[43m:\u001b[49m\u001b[38;5;241;43m13\u001b[39;49m\u001b[43m]\u001b[49m\u001b[38;5;241;43m+\u001b[39;49m\u001b[38;5;124;43m'\u001b[39;49m\u001b[38;5;124;43m:00\u001b[39;49m\u001b[38;5;124;43m'\u001b[39;49m\u001b[43m,\u001b[49m\u001b[38;5;66;43;03m#change to loop variable\u001b[39;49;00m\n\u001b[1;32m     57\u001b[0m \u001b[43m        \u001b[49m\u001b[38;5;124;43m'\u001b[39;49m\u001b[38;5;124;43marea\u001b[39;49m\u001b[38;5;124;43m'\u001b[39;49m\u001b[43m:\u001b[49m\u001b[43m \u001b[49m\u001b[43marea\u001b[49m\u001b[43m,\u001b[49m\u001b[38;5;66;43;03m#change to loop variable\u001b[39;49;00m\n\u001b[1;32m     58\u001b[0m \u001b[43m    \u001b[49m\u001b[43m}\u001b[49m\u001b[43m,\u001b[49m\n\u001b[1;32m     59\u001b[0m \u001b[43m    \u001b[49m\u001b[43m)\u001b[49m\n\u001b[1;32m     61\u001b[0m url \u001b[38;5;241m=\u001b[39m r\u001b[38;5;241m.\u001b[39mlocation  \u001b[38;5;66;03m# 获取文件下载地址\u001b[39;00m\n\u001b[1;32m     62\u001b[0m path \u001b[38;5;241m=\u001b[39m event_dir\u001b[38;5;241m+\u001b[39m\u001b[38;5;124m'\u001b[39m\u001b[38;5;124m/\u001b[39m\u001b[38;5;124m'\u001b[39m  \u001b[38;5;66;03m# 存放文件夹\u001b[39;00m\n",
      "File \u001b[0;32m~/anaconda3/envs/lyf/lib/python3.10/site-packages/cdsapi/api.py:348\u001b[0m, in \u001b[0;36mClient.retrieve\u001b[0;34m(self, name, request, target)\u001b[0m\n\u001b[1;32m    347\u001b[0m \u001b[38;5;28;01mdef\u001b[39;00m \u001b[38;5;21mretrieve\u001b[39m(\u001b[38;5;28mself\u001b[39m, name, request, target\u001b[38;5;241m=\u001b[39m\u001b[38;5;28;01mNone\u001b[39;00m):\n\u001b[0;32m--> 348\u001b[0m     result \u001b[38;5;241m=\u001b[39m \u001b[38;5;28;43mself\u001b[39;49m\u001b[38;5;241;43m.\u001b[39;49m\u001b[43m_api\u001b[49m\u001b[43m(\u001b[49m\u001b[38;5;124;43m\"\u001b[39;49m\u001b[38;5;132;43;01m%s\u001b[39;49;00m\u001b[38;5;124;43m/resources/\u001b[39;49m\u001b[38;5;132;43;01m%s\u001b[39;49;00m\u001b[38;5;124;43m\"\u001b[39;49m\u001b[43m \u001b[49m\u001b[38;5;241;43m%\u001b[39;49m\u001b[43m \u001b[49m\u001b[43m(\u001b[49m\u001b[38;5;28;43mself\u001b[39;49m\u001b[38;5;241;43m.\u001b[39;49m\u001b[43murl\u001b[49m\u001b[43m,\u001b[49m\u001b[43m \u001b[49m\u001b[43mname\u001b[49m\u001b[43m)\u001b[49m\u001b[43m,\u001b[49m\u001b[43m \u001b[49m\u001b[43mrequest\u001b[49m\u001b[43m,\u001b[49m\u001b[43m \u001b[49m\u001b[38;5;124;43m\"\u001b[39;49m\u001b[38;5;124;43mPOST\u001b[39;49m\u001b[38;5;124;43m\"\u001b[39;49m\u001b[43m)\u001b[49m\n\u001b[1;32m    349\u001b[0m     \u001b[38;5;28;01mif\u001b[39;00m target \u001b[38;5;129;01mis\u001b[39;00m \u001b[38;5;129;01mnot\u001b[39;00m \u001b[38;5;28;01mNone\u001b[39;00m:\n\u001b[1;32m    350\u001b[0m         result\u001b[38;5;241m.\u001b[39mdownload(target)\n",
      "File \u001b[0;32m~/anaconda3/envs/lyf/lib/python3.10/site-packages/cdsapi/api.py:479\u001b[0m, in \u001b[0;36mClient._api\u001b[0;34m(self, url, request, method)\u001b[0m\n\u001b[1;32m    476\u001b[0m rid \u001b[38;5;241m=\u001b[39m reply[\u001b[38;5;124m\"\u001b[39m\u001b[38;5;124mrequest_id\u001b[39m\u001b[38;5;124m\"\u001b[39m]\n\u001b[1;32m    478\u001b[0m \u001b[38;5;28mself\u001b[39m\u001b[38;5;241m.\u001b[39mdebug(\u001b[38;5;124m\"\u001b[39m\u001b[38;5;124mRequest ID is \u001b[39m\u001b[38;5;132;01m%s\u001b[39;00m\u001b[38;5;124m, sleep \u001b[39m\u001b[38;5;132;01m%s\u001b[39;00m\u001b[38;5;124m\"\u001b[39m, rid, sleep)\n\u001b[0;32m--> 479\u001b[0m \u001b[43mtime\u001b[49m\u001b[38;5;241;43m.\u001b[39;49m\u001b[43msleep\u001b[49m\u001b[43m(\u001b[49m\u001b[43msleep\u001b[49m\u001b[43m)\u001b[49m\n\u001b[1;32m    480\u001b[0m sleep \u001b[38;5;241m*\u001b[39m\u001b[38;5;241m=\u001b[39m \u001b[38;5;241m1.5\u001b[39m\n\u001b[1;32m    481\u001b[0m \u001b[38;5;28;01mif\u001b[39;00m sleep \u001b[38;5;241m>\u001b[39m \u001b[38;5;28mself\u001b[39m\u001b[38;5;241m.\u001b[39msleep_max:\n",
      "\u001b[0;31mKeyboardInterrupt\u001b[0m: "
     ]
    }
   ],
   "source": [
    "############### 48 hr before and after ####################\n",
    "for index, row in events_df.iterrows():\n",
    "    # Skip rows without PyroCb time information\n",
    "    if pd.isna(row['pyroCb_time_utc']):\n",
    "        continue\n",
    "    if(int(row['pyroCb_time_utc'])>2359):\n",
    "        continue\n",
    "    # Formatting the event time\n",
    "    event_time = f\"{row['pyroCb_date_utc']} {int(row['pyroCb_time_utc']):04d}\"\n",
    "    event_datetime = datetime.datetime.strptime(event_time, '%Y-%m-%d %H%M')\n",
    "    for dt in range(0, 49):\n",
    "        # Your code here\n",
    "        print(dt)\n",
    "        # Calculate the time range\n",
    "        time_before=event_datetime - datetime.timedelta(hours=dt)\n",
    "        time_after=event_datetime + datetime.timedelta(hours=1+dt)\n",
    "        time_before=datetime.datetime.strftime(time_before,'%Y-%m-%d %H:%M:%S')\n",
    "        time_after=datetime.datetime.strftime(time_after,'%Y-%m-%d %H:%M:%S')\n",
    "        # Determine the geographical area\n",
    "        area = determine_geographical_area(row['pyroCb_longitude'], row['pyroCb_latitude'])\n",
    "        # Create a directory for the event\n",
    "        event_dir = os.path.join(download_directory, str(row['pyroCb_id']))\n",
    "        if not os.path.exists(event_dir):\n",
    "            os.makedirs(event_dir)\n",
    "    \n",
    "        r=c.retrieve(\n",
    "            'reanalysis-era5-pressure-levels',\n",
    "            {\n",
    "                'product_type': 'reanalysis',\n",
    "                'format': 'netcdf',\n",
    "                'variable': vars,\n",
    "                'pressure_level': p_levels,\n",
    "                'year': time_before[:4],#change to loop variable\n",
    "                'month': time_before[5:7],#change to loop variable\n",
    "                'day': time_before[8:10],#change to loop variable\n",
    "                'time': time_before[11:13]+':00',#change to loop variable\n",
    "                'area': area,#change to loop variable\n",
    "            },\n",
    "            )\n",
    "    \n",
    "        url = r.location  # 获取文件下载地址\n",
    "        path = event_dir+'/'  # 存放文件夹\n",
    "        filename = 'time_before_'+str(dt)+'.nc'  # 文件名\n",
    "        Downloader(url, path, filename)  # 添加进IDM中下载\n",
    "    \n",
    "        r=c.retrieve(\n",
    "            'reanalysis-era5-pressure-levels',\n",
    "            {\n",
    "                'product_type': 'reanalysis',\n",
    "                'format': 'netcdf',\n",
    "                'variable': vars,\n",
    "                'pressure_level': p_levels,\n",
    "                'year': time_after[:4],#change to loop variable\n",
    "                'month': time_after[5:7],#change to loop variable\n",
    "                'day': time_after[8:10],#change to loop variable\n",
    "                'time': time_after[11:13]+':00',#change to loop variable\n",
    "                'area': area,#change to loop variable\n",
    "            },\n",
    "            )\n",
    "    \n",
    "        url = r.location  # 获取文件下载地址\n",
    "        path = event_dir+'/'  # 存放文件夹\n",
    "        filename = 'time_after_'+str(dt)+'.nc'  # 文件名\n",
    "        Downloader(url, path, filename)  # 添加进IDM中下载"
   ]
  },
  {
   "cell_type": "code",
   "execution_count": 2,
   "id": "7ddf1633-8b9b-468c-b1bc-200a9282738f",
   "metadata": {},
   "outputs": [],
   "source": [
    "# generate loop variable dict for pyroCb events\n",
    "import os\n",
    "import datetime\n",
    "import pandas as pd\n",
    "import cdsapi\n",
    "from urllib.parse import quote_plus\n",
    "\n",
    "# Function to determine the geographical area\n",
    "def determine_geographical_area(longitude, latitude):\n",
    "    # Adjusting the coordinates to the nearest 0.25 degree grid\n",
    "    north = latitude + 0.25 - (latitude % 0.25)\n",
    "    south = latitude - (latitude % 0.25)\n",
    "    east = longitude + 0.25 - (longitude % 0.25)\n",
    "    west = longitude - (longitude % 0.25)\n",
    "    return [north, west, south, east]\n",
    "\n",
    "# Main function to download ERA5 data\n",
    "def download_era5_data(csv_file_path, download_directory):\n",
    "    # Read the CSV file\n",
    "    events_df = pd.read_csv(csv_file_path)\n",
    "\n",
    "    # Loop over each event\n",
    "    for index, row in events_df.iterrows():\n",
    "        # Skip rows without PyroCb time information\n",
    "        if pd.isna(row['pyroCb_time_utc']):\n",
    "            continue\n",
    "\n",
    "        # Formatting the event time\n",
    "        event_time = f\"{row['pyroCb_date_utc']} {int(row['pyroCb_time_utc']):04d}\"\n",
    "\n",
    "        # Calculate the time range\n",
    "        time_before, time_after = calculate_time_range(event_time)\n",
    "\n",
    "        # Determine the geographical area\n",
    "        area = determine_geographical_area(row['pyroCb_longitude'], row['pyroCb_latitude'])\n",
    "\n",
    "        # Create a directory for the event\n",
    "        event_dir = os.path.join(download_directory, str(row['pyroCb_id']))\n",
    "        if not os.path.exists(event_dir):\n",
    "            os.makedirs(event_dir)\n",
    "\n",
    "        # Constructing the API call for each variable\n",
    "        variables = [\n",
    "            'divergence', 'fraction_of_cloud_cover', 'geopotential',\n",
    "            'ozone_mass_mixing_ratio', 'potential_vorticity', 'relative_humidity',\n",
    "            'specific_cloud_ice_water_content', 'specific_cloud_liquid_water_content', 'specific_humidity',\n",
    "            'specific_rain_water_content', 'specific_snow_water_content', 'temperature',\n",
    "            'u_component_of_wind', 'v_component_of_wind', 'vertical_velocity',\n",
    "            'vorticity',\n",
    "        ]\n",
    "\n",
    "        for var in variables:\n",
    "            # Constructing the API call\n",
    "            api_call = f\"\"\"\n",
    "c.retrieve(\n",
    "    'reanalysis-era5-pressure-levels',\n",
    "    {{\n",
    "        'product_type': 'reanalysis',\n",
    "        'format': 'netcdf',\n",
    "        'variable': ['{var}'],\n",
    "        'pressure_level': ['1', '2', '3', '5', '7', '10', '20', '30', '50', '70', '100', '125', '150', '175', '200', '225', '250', '300', '350', '400', '450', '500', '550', '600', '650', '700', '750', '775', '800', '825', '850', '875', '900', '925', '950', '975', '1000'],\n",
    "        'year': '{event_time[:4]}',\n",
    "        'month': '{event_time[5:7]}',\n",
    "        'day': '{event_time[8:10]}',\n",
    "        'time': ['{time_before}', '{time_after}'],\n",
    "        'area': {area},\n",
    "    }},\n",
    "    '{event_dir}/{quote_plus(var)}.nc')\n",
    "\"\"\"\n",
    "            # Execute the API call using cdsapi (can be replaced with actual API call execution)\n",
    "            print(api_call)\n",
    "\n",
    "# Example usage\n",
    "download_era5_data(csv_file_path, '/path/to/download/directory')  # Replace with actual download directory path\n",
    "\n"
   ]
  },
  {
   "cell_type": "code",
   "execution_count": null,
   "id": "9813329a-9476-48a6-a05a-7db15166d7d2",
   "metadata": {},
   "outputs": [],
   "source": [
    "pd."
   ]
  },
  {
   "cell_type": "code",
   "execution_count": null,
   "id": "7948cd3f-0d88-4c4c-989c-46dcd7502270",
   "metadata": {},
   "outputs": [],
   "source": [
    "import cdsapi\n",
    "\n",
    "c = cdsapi.Client()\n",
    "\n",
    "c.retrieve(\n",
    "    'reanalysis-era5-pressure-levels',\n",
    "    {\n",
    "        'product_type': 'reanalysis',\n",
    "        'format': 'netcdf',\n",
    "        'variable': [\n",
    "            'divergence', 'fraction_of_cloud_cover', 'geopotential',\n",
    "            'ozone_mass_mixing_ratio', 'potential_vorticity', 'relative_humidity',\n",
    "            'specific_cloud_ice_water_content', 'specific_cloud_liquid_water_content', 'specific_humidity',\n",
    "            'specific_rain_water_content', 'specific_snow_water_content', 'temperature',\n",
    "            'u_component_of_wind', 'v_component_of_wind', 'vertical_velocity',\n",
    "            'vorticity',\n",
    "        ],\n",
    "        'pressure_level': [\n",
    "            '1', '2', '3',\n",
    "            '5', '7', '10',\n",
    "            '20', '30', '50',\n",
    "            '70', '100', '125',\n",
    "            '150', '175', '200',\n",
    "            '225', '250', '300',\n",
    "            '350', '400', '450',\n",
    "            '500', '550', '600',\n",
    "            '650', '700', '750',\n",
    "            '775', '800', '825',\n",
    "            '850', '875', '900',\n",
    "            '925', '950', '975',\n",
    "            '1000',\n",
    "        ],\n",
    "        'year': '2019',#change to loop variable\n",
    "        'month': '09',#change to loop variable\n",
    "        'day': '17',#change to loop variable\n",
    "        'time': [\n",
    "            '00:00', '01:00', '02:00',\n",
    "            '03:00', '04:00', '05:00',\n",
    "            '06:00', '07:00', '08:00',\n",
    "            '09:00', '10:00', '11:00',\n",
    "            '12:00', '13:00', '14:00',\n",
    "            '15:00', '16:00', '17:00',\n",
    "            '18:00', '19:00', '20:00',\n",
    "            '21:00', '22:00', '23:00',\n",
    "        ],#change to loop variable\n",
    "        'area': [\n",
    "            40.25, -130, 40,\n",
    "            -129.75,\n",
    "        ],#change to loop variable\n",
    "    },\n",
    "    'download.nc')#change to loop variable"
   ]
  },
  {
   "cell_type": "code",
   "execution_count": null,
   "id": "3cd0be4c-1b43-4cd7-950e-4a8c215ba370",
   "metadata": {},
   "outputs": [],
   "source": [
    "# Spatio-temporal variables\n",
    "\n",
    "years = ['2019']\n",
    "\n",
    "months = ['01', '02', '03',\n",
    "          '04', '05', '06',\n",
    "          '07', '08', '09',\n",
    "          '10', '11', '12']\n",
    "\n",
    "days = ['01', '02', '03'\n",
    "        '04', '05', '06',\n",
    "        '07', '08', '09',\n",
    "        '10', '11', '12',\n",
    "        '13', '14', '15',\n",
    "        '16', '17', '18',\n",
    "        '19', '20', '21',\n",
    "        '22', '23', '24',\n",
    "        '25', '26', '27',\n",
    "        '28', '29', '30',\n",
    "        '31']\n",
    "\n",
    "times = ['00:00', '01:00', '02:00',\n",
    "         '03:00', '04:00', '05:00',\n",
    "         '06:00', '07:00', '08:00',\n",
    "         '09:00', '10:00', '11:00',\n",
    "         '12:00', '13:00', '14:00',\n",
    "         '15:00', '16:00', '17:00',\n",
    "         '18:00', '19:00', '20:00',\n",
    "         '21:00', '22:00', '23:00']\n",
    "\n",
    "areas = ['north_america', ]  # 'australia']\n",
    "area_dict = {'north_america': [70, -170, 25, -50],\n",
    "             'australia': [-10, 110, -45, 155]}\n",
    "\n",
    "\n",
    "# Pressure variables\n",
    "\n",
    "pressure_variables = ['relative_humidity', 'vertical_velocity',\n",
    "                      'u_component_of_wind', 'v_component_of_wind']\n",
    "\n",
    "pressure_dict = {'relative_humidity': ['650', '750', '850'],\n",
    "                 'u_component_of_wind': '250',\n",
    "                 'v_component_of_wind': '250',\n",
    "                 'vertical_velocity': '1'}\n",
    "\n",
    "\n",
    "# Single level variables\n",
    "\n",
    "single_lvl_variables = ['convective_inhibition', 'geopotential',\n",
    "                        'surface_latent_heat_flux', 'surface_sensible_heat_flux',\n",
    "                        '10m_u_component_of_wind', '10m_v_component_of_wind',\n",
    "                        '10m_wind_gust_since_previous_post_processing', 'boundary_layer_height',\n",
    "                        'convective_available_potential_energy']\n",
    "\n",
    "\n",
    "# Fuel variables\n",
    "fuel_variables = ['high_vegetation_cover', 'low_vegetation_cover',\n",
    "                  'type_of_high_vegetation', 'type_of_low_vegetation']\n",
    "\n",
    "\n",
    "def download_pressure_variables(years: list, months: list, days: list, times: list, areas: list,\n",
    "                                area_dict: dict, pressure_variables: list, pressure_dict: dict):\n",
    "    \"\"\"\n",
    "    Download pressure variables and copies data to Google Cloud Storage Bucket.\n",
    "\n",
    "    Args:\n",
    "        years (list): list of years (strings) to download\n",
    "        months (list): list of months (strings) to download\n",
    "        days (list): list of days (strings) to download\n",
    "        times (list): list of times (strings) to download\n",
    "        areas (list): list of areas to dowload\n",
    "        area_dict (dict): dictionnary defining area extents using lat/lon coordinates\n",
    "        pressure_variables (list): list of pressure variables to dowload\n",
    "        pressure_dict (dict): dictionnary defining pressure levels to download for each pressure variable\n",
    "    \"\"\"\n",
    "\n",
    "    for y in years:\n",
    "        for v in pressure_variables:\n",
    "            for a in areas:\n",
    "                filename = v + '_' + y + '.nc'\n",
    "\n",
    "                c.retrieve(\n",
    "                    'reanalysis-era5-pressure-levels',\n",
    "                    {\n",
    "                        'product_type': 'reanalysis',\n",
    "                        'format': 'netcdf',\n",
    "                        'variable': v,\n",
    "                        'pressure_level': pressure_dict[v],\n",
    "                        'year': y,\n",
    "                        'month': months,\n",
    "                        'day': days,\n",
    "                        'time': times,\n",
    "                        'area': area_dict[a],\n",
    "                    },\n",
    "                    filename)\n",
    "\n",
    "                move_command = 'gsutil cp ' + filename + \\\n",
    "                    ' gs://eu-aerosols-landing/ERA5/raw_data/' + a + '/'\n",
    "                system(move_command)\n",
    "\n",
    "                # delete file once it's been copied\n",
    "                del_command = 'rm ' + filename\n",
    "                system(del_command)\n",
    "\n",
    "\n",
    "def download_single_lvl_variables(years: list, months: list, days: list, times: list,\n",
    "                                  areas: list, area_dict: dict, single_lvl_variables: list):\n",
    "    \"\"\"\n",
    "    Download single level variables and copies data to Google Cloud Storage Bucket.\n",
    "\n",
    "    Args:\n",
    "        years (list): list of years (strings) to download\n",
    "        months (list): list of months (strings) to download\n",
    "        days (list): list of days (strings) to download\n",
    "        times (list): list of times (strings) to download\n",
    "        areas (list): list of areas to download\n",
    "        area_dict (dict): dictionnary defining area extents using lat/lon coordinates\n",
    "        single_lvl_variables (list): list of single level variables to download\n",
    "    \"\"\"\n",
    "    for y in years:\n",
    "        for v in single_lvl_variables:\n",
    "            for a in areas:\n",
    "\n",
    "                filename = v + '_' + y + '.nc'\n",
    "\n",
    "                c.retrieve(\n",
    "                    'reanalysis-era5-single-levels',\n",
    "                    {\n",
    "                        'product_type': 'reanalysis',\n",
    "                        'format': 'netcdf',\n",
    "                        'variable': v,\n",
    "                        'year': y,\n",
    "                        'month': months,\n",
    "                        'day': days,\n",
    "                        'time': times,\n",
    "                        'area': area_dict[a],\n",
    "                    },\n",
    "                    filename)\n",
    "\n",
    "                move_command = 'gsutil cp ' + filename + \\\n",
    "                    ' gs://eu-aerosols-landing/ERA5/raw_data/' + a + '/'\n",
    "                system(move_command)\n",
    "\n",
    "                # delete file once it's been copied\n",
    "                del_command = 'rm ' + filename\n",
    "                system(del_command)"
   ]
  },
  {
   "cell_type": "code",
   "execution_count": null,
   "id": "3b77dd6d-8c29-42ad-aefd-b3341f4646bf",
   "metadata": {},
   "outputs": [],
   "source": [
    "#UID221000\n",
    "#API Keyc3416410-1ee5-4997-b70d-890d6837e7a6"
   ]
  },
  {
   "cell_type": "markdown",
   "id": "4f3a3687-2e5f-403c-8db6-0aa6dc5a8e56",
   "metadata": {},
   "source": [
    "import cdsapi\n",
    "from subprocess import call\n",
    "\n",
    "\n",
    "def idmDownloader(task_url, folder_path, file_name):\n",
    "    \"\"\"\n",
    "    IDM下载器\n",
    "    :param task_url: 下载任务地址\n",
    "    :param folder_path: 存放文件夹\n",
    "    :param file_name: 文件名\n",
    "    :return:\n",
    "    \"\"\"\n",
    "    # IDM安装目录\n",
    "    idm_engine = r\"E:\\app\\Internet Download Manager\\IDMan.exe\"\n",
    "    # 将任务添加至队列\n",
    "    call([idm_engine, '/d', task_url, '/p', folder_path, '/f', file_name, '/a'])\n",
    "    # 开始任务队列\n",
    "    call([idm_engine, '/s'])\n",
    "\n",
    "\n",
    "if __name__ == '__main__':\n",
    "    c = cdsapi.Client()  # 创建用户\n",
    "\n",
    "    # 数据信息字典\n",
    "    dic = {\n",
    "        'product_type': 'reanalysis',  # 产品类型\n",
    "        'format': 'netcdf',  # 数据格式\n",
    "        'variable': '2m_temperature',  # 变量名称\n",
    "        'year': '',  # 年，设为空\n",
    "        'month': [# 月\n",
    "            '01', '02', '03',\n",
    "            '04', '05', '06',\n",
    "            '07', '08', '09',\n",
    "            '10', '11', '12',\n",
    "        ],  \n",
    "        'day': [# 日\n",
    "            '01', '02', '03',\n",
    "            '04', '05', '06',\n",
    "            '07', '08', '09',\n",
    "            '10', '11', '12',\n",
    "            '13', '14', '15',\n",
    "            '16', '17', '18',\n",
    "            '19', '20', '21',\n",
    "            '22', '23', '24',\n",
    "            '25', '26', '27',\n",
    "            '28', '29', '30',\n",
    "            '31',\n",
    "        ],  \n",
    "        'time': [  # 小时\n",
    "            '00:00', '01:00', '02:00', '03:00', '04:00', '05:00',\n",
    "            '06:00', '07:00', '08:00', '09:00', '10:00', '11:00',\n",
    "            '12:00', '13:00', '14:00', '15:00', '16:00', '17:00',\n",
    "            '18:00', '19:00', '20:00', '21:00', '22:00', '23:00'\n",
    "        ]\n",
    "    }\n",
    "\n",
    "    for y in range(1980, 2022):  # 遍历年\n",
    "        dic['year'] = str(y)\n",
    "\n",
    "        r = c.retrieve('reanalysis-era5-single-levels', dic, )  # 文件下载器\n",
    "        url = r.location  # 获取文件下载地址\n",
    "        path = r'F:\\t2m'  # 存放文件夹\n",
    "        filename = str(y) + '.nc'  # 文件名\n",
    "        idmDownloader(url, path, filename)  # 添加进IDM中下载"
   ]
  },
  {
   "cell_type": "code",
   "execution_count": null,
   "id": "0227915e-df49-45e4-8e30-2ac17c8f0236",
   "metadata": {},
   "outputs": [],
   "source": [
    "  call([‘wget ’, task_url, ‘-O’, folder_path, file_name])"
   ]
  },
  {
   "cell_type": "code",
   "execution_count": null,
   "id": "2bff4b77-5a61-43f9-80bd-7b9e25ace77e",
   "metadata": {},
   "outputs": [],
   "source": [
    "call([‘wget ’, task_url, ‘ -O ’, folder_path, file_name])"
   ]
  }
 ],
 "metadata": {
  "kernelspec": {
   "display_name": "Python 3 (ipykernel)",
   "language": "python",
   "name": "python3"
  },
  "language_info": {
   "codemirror_mode": {
    "name": "ipython",
    "version": 3
   },
   "file_extension": ".py",
   "mimetype": "text/x-python",
   "name": "python",
   "nbconvert_exporter": "python",
   "pygments_lexer": "ipython3",
   "version": "3.10.9"
  }
 },
 "nbformat": 4,
 "nbformat_minor": 5
}
